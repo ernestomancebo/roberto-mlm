{
  "nbformat": 4,
  "nbformat_minor": 2,
  "metadata": {
    "orig_nbformat": 4,
    "language_info": {
      "name": "python",
      "version": "3.9.6",
      "mimetype": "text/x-python",
      "codemirror_mode": {
        "name": "ipython",
        "version": 3
      },
      "pygments_lexer": "ipython3",
      "nbconvert_exporter": "python",
      "file_extension": ".py"
    },
    "kernelspec": {
      "name": "python3",
      "display_name": "Python 3.9.6 64-bit ('env': venv)"
    },
    "interpreter": {
      "hash": "300fbada5fe2511d866fde720729699e2c4067aafcaf340c14dab40a90252dcc"
    },
    "colab": {
      "name": "roBERTo-classifier.ipynb",
      "provenance": []
    },
    "accelerator": "GPU",
    "widgets": {
      "application/vnd.jupyter.widget-state+json": {
        "15f7f4f0ebed4b29bd5c69119bc84730": {
          "model_module": "@jupyter-widgets/controls",
          "model_name": "HBoxModel",
          "model_module_version": "1.5.0",
          "state": {
            "_view_name": "HBoxView",
            "_dom_classes": [],
            "_model_name": "HBoxModel",
            "_view_module": "@jupyter-widgets/controls",
            "_model_module_version": "1.5.0",
            "_view_count": null,
            "_view_module_version": "1.5.0",
            "box_style": "",
            "layout": "IPY_MODEL_294abfccfa7143c4acd5a4b670f32475",
            "_model_module": "@jupyter-widgets/controls",
            "children": [
              "IPY_MODEL_985485c7b3c6496a929f79d42749e2bf",
              "IPY_MODEL_73ac3591e0594e0e953fdc19a96871f3",
              "IPY_MODEL_325a1c92a8664a4ebeb19031c7d17480"
            ]
          }
        },
        "294abfccfa7143c4acd5a4b670f32475": {
          "model_module": "@jupyter-widgets/base",
          "model_name": "LayoutModel",
          "model_module_version": "1.2.0",
          "state": {
            "_view_name": "LayoutView",
            "grid_template_rows": null,
            "right": null,
            "justify_content": null,
            "_view_module": "@jupyter-widgets/base",
            "overflow": null,
            "_model_module_version": "1.2.0",
            "_view_count": null,
            "flex_flow": null,
            "width": null,
            "min_width": null,
            "border": null,
            "align_items": null,
            "bottom": null,
            "_model_module": "@jupyter-widgets/base",
            "top": null,
            "grid_column": null,
            "overflow_y": null,
            "overflow_x": null,
            "grid_auto_flow": null,
            "grid_area": null,
            "grid_template_columns": null,
            "flex": null,
            "_model_name": "LayoutModel",
            "justify_items": null,
            "grid_row": null,
            "max_height": null,
            "align_content": null,
            "visibility": null,
            "align_self": null,
            "height": null,
            "min_height": null,
            "padding": null,
            "grid_auto_rows": null,
            "grid_gap": null,
            "max_width": null,
            "order": null,
            "_view_module_version": "1.2.0",
            "grid_template_areas": null,
            "object_position": null,
            "object_fit": null,
            "grid_auto_columns": null,
            "margin": null,
            "display": null,
            "left": null
          }
        },
        "985485c7b3c6496a929f79d42749e2bf": {
          "model_module": "@jupyter-widgets/controls",
          "model_name": "HTMLModel",
          "model_module_version": "1.5.0",
          "state": {
            "_view_name": "HTMLView",
            "style": "IPY_MODEL_83faa122e08443e0b41484ec6ffc25ea",
            "_dom_classes": [],
            "description": "",
            "_model_name": "HTMLModel",
            "placeholder": "​",
            "_view_module": "@jupyter-widgets/controls",
            "_model_module_version": "1.5.0",
            "value": "Downloading: ",
            "_view_count": null,
            "_view_module_version": "1.5.0",
            "description_tooltip": null,
            "_model_module": "@jupyter-widgets/controls",
            "layout": "IPY_MODEL_f2396c0705384ad99467c6fee2228694"
          }
        },
        "73ac3591e0594e0e953fdc19a96871f3": {
          "model_module": "@jupyter-widgets/controls",
          "model_name": "FloatProgressModel",
          "model_module_version": "1.5.0",
          "state": {
            "_view_name": "ProgressView",
            "style": "IPY_MODEL_05b6789d28884a6489ae3c4dda9fb1c6",
            "_dom_classes": [],
            "description": "",
            "_model_name": "FloatProgressModel",
            "bar_style": "success",
            "max": 2737,
            "_view_module": "@jupyter-widgets/controls",
            "_model_module_version": "1.5.0",
            "value": 2737,
            "_view_count": null,
            "_view_module_version": "1.5.0",
            "orientation": "horizontal",
            "min": 0,
            "description_tooltip": null,
            "_model_module": "@jupyter-widgets/controls",
            "layout": "IPY_MODEL_f2037df5f6a6442f8246967ee4c97b55"
          }
        },
        "325a1c92a8664a4ebeb19031c7d17480": {
          "model_module": "@jupyter-widgets/controls",
          "model_name": "HTMLModel",
          "model_module_version": "1.5.0",
          "state": {
            "_view_name": "HTMLView",
            "style": "IPY_MODEL_7f15f13cd1234ebf8d1a5170231db528",
            "_dom_classes": [],
            "description": "",
            "_model_name": "HTMLModel",
            "placeholder": "​",
            "_view_module": "@jupyter-widgets/controls",
            "_model_module_version": "1.5.0",
            "value": " 7.16k/? [00:00&lt;00:00, 108kB/s]",
            "_view_count": null,
            "_view_module_version": "1.5.0",
            "description_tooltip": null,
            "_model_module": "@jupyter-widgets/controls",
            "layout": "IPY_MODEL_70f35069c286410c92445220f668a82e"
          }
        },
        "83faa122e08443e0b41484ec6ffc25ea": {
          "model_module": "@jupyter-widgets/controls",
          "model_name": "DescriptionStyleModel",
          "model_module_version": "1.5.0",
          "state": {
            "_view_name": "StyleView",
            "_model_name": "DescriptionStyleModel",
            "description_width": "",
            "_view_module": "@jupyter-widgets/base",
            "_model_module_version": "1.5.0",
            "_view_count": null,
            "_view_module_version": "1.2.0",
            "_model_module": "@jupyter-widgets/controls"
          }
        },
        "f2396c0705384ad99467c6fee2228694": {
          "model_module": "@jupyter-widgets/base",
          "model_name": "LayoutModel",
          "model_module_version": "1.2.0",
          "state": {
            "_view_name": "LayoutView",
            "grid_template_rows": null,
            "right": null,
            "justify_content": null,
            "_view_module": "@jupyter-widgets/base",
            "overflow": null,
            "_model_module_version": "1.2.0",
            "_view_count": null,
            "flex_flow": null,
            "width": null,
            "min_width": null,
            "border": null,
            "align_items": null,
            "bottom": null,
            "_model_module": "@jupyter-widgets/base",
            "top": null,
            "grid_column": null,
            "overflow_y": null,
            "overflow_x": null,
            "grid_auto_flow": null,
            "grid_area": null,
            "grid_template_columns": null,
            "flex": null,
            "_model_name": "LayoutModel",
            "justify_items": null,
            "grid_row": null,
            "max_height": null,
            "align_content": null,
            "visibility": null,
            "align_self": null,
            "height": null,
            "min_height": null,
            "padding": null,
            "grid_auto_rows": null,
            "grid_gap": null,
            "max_width": null,
            "order": null,
            "_view_module_version": "1.2.0",
            "grid_template_areas": null,
            "object_position": null,
            "object_fit": null,
            "grid_auto_columns": null,
            "margin": null,
            "display": null,
            "left": null
          }
        },
        "05b6789d28884a6489ae3c4dda9fb1c6": {
          "model_module": "@jupyter-widgets/controls",
          "model_name": "ProgressStyleModel",
          "model_module_version": "1.5.0",
          "state": {
            "_view_name": "StyleView",
            "_model_name": "ProgressStyleModel",
            "description_width": "",
            "_view_module": "@jupyter-widgets/base",
            "_model_module_version": "1.5.0",
            "_view_count": null,
            "_view_module_version": "1.2.0",
            "bar_color": null,
            "_model_module": "@jupyter-widgets/controls"
          }
        },
        "f2037df5f6a6442f8246967ee4c97b55": {
          "model_module": "@jupyter-widgets/base",
          "model_name": "LayoutModel",
          "model_module_version": "1.2.0",
          "state": {
            "_view_name": "LayoutView",
            "grid_template_rows": null,
            "right": null,
            "justify_content": null,
            "_view_module": "@jupyter-widgets/base",
            "overflow": null,
            "_model_module_version": "1.2.0",
            "_view_count": null,
            "flex_flow": null,
            "width": null,
            "min_width": null,
            "border": null,
            "align_items": null,
            "bottom": null,
            "_model_module": "@jupyter-widgets/base",
            "top": null,
            "grid_column": null,
            "overflow_y": null,
            "overflow_x": null,
            "grid_auto_flow": null,
            "grid_area": null,
            "grid_template_columns": null,
            "flex": null,
            "_model_name": "LayoutModel",
            "justify_items": null,
            "grid_row": null,
            "max_height": null,
            "align_content": null,
            "visibility": null,
            "align_self": null,
            "height": null,
            "min_height": null,
            "padding": null,
            "grid_auto_rows": null,
            "grid_gap": null,
            "max_width": null,
            "order": null,
            "_view_module_version": "1.2.0",
            "grid_template_areas": null,
            "object_position": null,
            "object_fit": null,
            "grid_auto_columns": null,
            "margin": null,
            "display": null,
            "left": null
          }
        },
        "7f15f13cd1234ebf8d1a5170231db528": {
          "model_module": "@jupyter-widgets/controls",
          "model_name": "DescriptionStyleModel",
          "model_module_version": "1.5.0",
          "state": {
            "_view_name": "StyleView",
            "_model_name": "DescriptionStyleModel",
            "description_width": "",
            "_view_module": "@jupyter-widgets/base",
            "_model_module_version": "1.5.0",
            "_view_count": null,
            "_view_module_version": "1.2.0",
            "_model_module": "@jupyter-widgets/controls"
          }
        },
        "70f35069c286410c92445220f668a82e": {
          "model_module": "@jupyter-widgets/base",
          "model_name": "LayoutModel",
          "model_module_version": "1.2.0",
          "state": {
            "_view_name": "LayoutView",
            "grid_template_rows": null,
            "right": null,
            "justify_content": null,
            "_view_module": "@jupyter-widgets/base",
            "overflow": null,
            "_model_module_version": "1.2.0",
            "_view_count": null,
            "flex_flow": null,
            "width": null,
            "min_width": null,
            "border": null,
            "align_items": null,
            "bottom": null,
            "_model_module": "@jupyter-widgets/base",
            "top": null,
            "grid_column": null,
            "overflow_y": null,
            "overflow_x": null,
            "grid_auto_flow": null,
            "grid_area": null,
            "grid_template_columns": null,
            "flex": null,
            "_model_name": "LayoutModel",
            "justify_items": null,
            "grid_row": null,
            "max_height": null,
            "align_content": null,
            "visibility": null,
            "align_self": null,
            "height": null,
            "min_height": null,
            "padding": null,
            "grid_auto_rows": null,
            "grid_gap": null,
            "max_width": null,
            "order": null,
            "_view_module_version": "1.2.0",
            "grid_template_areas": null,
            "object_position": null,
            "object_fit": null,
            "grid_auto_columns": null,
            "margin": null,
            "display": null,
            "left": null
          }
        },
        "442db859e12b49a6a098fbdf75d51bb9": {
          "model_module": "@jupyter-widgets/controls",
          "model_name": "HBoxModel",
          "model_module_version": "1.5.0",
          "state": {
            "_view_name": "HBoxView",
            "_dom_classes": [],
            "_model_name": "HBoxModel",
            "_view_module": "@jupyter-widgets/controls",
            "_model_module_version": "1.5.0",
            "_view_count": null,
            "_view_module_version": "1.5.0",
            "box_style": "",
            "layout": "IPY_MODEL_281de9c7af3d4667b670aabbf9b4ec32",
            "_model_module": "@jupyter-widgets/controls",
            "children": [
              "IPY_MODEL_d21d6360c2b145b4a4ee97dc11b89d58",
              "IPY_MODEL_d88daa918fd147b0b3a5ad35736ebde7",
              "IPY_MODEL_39108695088442989305d6a2d8cbc94a"
            ]
          }
        },
        "281de9c7af3d4667b670aabbf9b4ec32": {
          "model_module": "@jupyter-widgets/base",
          "model_name": "LayoutModel",
          "model_module_version": "1.2.0",
          "state": {
            "_view_name": "LayoutView",
            "grid_template_rows": null,
            "right": null,
            "justify_content": null,
            "_view_module": "@jupyter-widgets/base",
            "overflow": null,
            "_model_module_version": "1.2.0",
            "_view_count": null,
            "flex_flow": null,
            "width": null,
            "min_width": null,
            "border": null,
            "align_items": null,
            "bottom": null,
            "_model_module": "@jupyter-widgets/base",
            "top": null,
            "grid_column": null,
            "overflow_y": null,
            "overflow_x": null,
            "grid_auto_flow": null,
            "grid_area": null,
            "grid_template_columns": null,
            "flex": null,
            "_model_name": "LayoutModel",
            "justify_items": null,
            "grid_row": null,
            "max_height": null,
            "align_content": null,
            "visibility": null,
            "align_self": null,
            "height": null,
            "min_height": null,
            "padding": null,
            "grid_auto_rows": null,
            "grid_gap": null,
            "max_width": null,
            "order": null,
            "_view_module_version": "1.2.0",
            "grid_template_areas": null,
            "object_position": null,
            "object_fit": null,
            "grid_auto_columns": null,
            "margin": null,
            "display": null,
            "left": null
          }
        },
        "d21d6360c2b145b4a4ee97dc11b89d58": {
          "model_module": "@jupyter-widgets/controls",
          "model_name": "HTMLModel",
          "model_module_version": "1.5.0",
          "state": {
            "_view_name": "HTMLView",
            "style": "IPY_MODEL_36473d69854e4922a0a436d38b0260e8",
            "_dom_classes": [],
            "description": "",
            "_model_name": "HTMLModel",
            "placeholder": "​",
            "_view_module": "@jupyter-widgets/controls",
            "_model_module_version": "1.5.0",
            "value": "Downloading: ",
            "_view_count": null,
            "_view_module_version": "1.5.0",
            "description_tooltip": null,
            "_model_module": "@jupyter-widgets/controls",
            "layout": "IPY_MODEL_6f2fee52aa594b8b9db571829d021b98"
          }
        },
        "d88daa918fd147b0b3a5ad35736ebde7": {
          "model_module": "@jupyter-widgets/controls",
          "model_name": "FloatProgressModel",
          "model_module_version": "1.5.0",
          "state": {
            "_view_name": "ProgressView",
            "style": "IPY_MODEL_769fcf5c97fb4b8ba75feddda0ddf6a7",
            "_dom_classes": [],
            "description": "",
            "_model_name": "FloatProgressModel",
            "bar_style": "success",
            "max": 3624,
            "_view_module": "@jupyter-widgets/controls",
            "_model_module_version": "1.5.0",
            "value": 3624,
            "_view_count": null,
            "_view_module_version": "1.5.0",
            "orientation": "horizontal",
            "min": 0,
            "description_tooltip": null,
            "_model_module": "@jupyter-widgets/controls",
            "layout": "IPY_MODEL_2eb72e5c23db47769692cb1772071a46"
          }
        },
        "39108695088442989305d6a2d8cbc94a": {
          "model_module": "@jupyter-widgets/controls",
          "model_name": "HTMLModel",
          "model_module_version": "1.5.0",
          "state": {
            "_view_name": "HTMLView",
            "style": "IPY_MODEL_7e81611bf1844687860b07b1e232c1c9",
            "_dom_classes": [],
            "description": "",
            "_model_name": "HTMLModel",
            "placeholder": "​",
            "_view_module": "@jupyter-widgets/controls",
            "_model_module_version": "1.5.0",
            "value": " 37.4k/? [00:00&lt;00:00, 678kB/s]",
            "_view_count": null,
            "_view_module_version": "1.5.0",
            "description_tooltip": null,
            "_model_module": "@jupyter-widgets/controls",
            "layout": "IPY_MODEL_37e66bce33934659a2b69ccb491668b0"
          }
        },
        "36473d69854e4922a0a436d38b0260e8": {
          "model_module": "@jupyter-widgets/controls",
          "model_name": "DescriptionStyleModel",
          "model_module_version": "1.5.0",
          "state": {
            "_view_name": "StyleView",
            "_model_name": "DescriptionStyleModel",
            "description_width": "",
            "_view_module": "@jupyter-widgets/base",
            "_model_module_version": "1.5.0",
            "_view_count": null,
            "_view_module_version": "1.2.0",
            "_model_module": "@jupyter-widgets/controls"
          }
        },
        "6f2fee52aa594b8b9db571829d021b98": {
          "model_module": "@jupyter-widgets/base",
          "model_name": "LayoutModel",
          "model_module_version": "1.2.0",
          "state": {
            "_view_name": "LayoutView",
            "grid_template_rows": null,
            "right": null,
            "justify_content": null,
            "_view_module": "@jupyter-widgets/base",
            "overflow": null,
            "_model_module_version": "1.2.0",
            "_view_count": null,
            "flex_flow": null,
            "width": null,
            "min_width": null,
            "border": null,
            "align_items": null,
            "bottom": null,
            "_model_module": "@jupyter-widgets/base",
            "top": null,
            "grid_column": null,
            "overflow_y": null,
            "overflow_x": null,
            "grid_auto_flow": null,
            "grid_area": null,
            "grid_template_columns": null,
            "flex": null,
            "_model_name": "LayoutModel",
            "justify_items": null,
            "grid_row": null,
            "max_height": null,
            "align_content": null,
            "visibility": null,
            "align_self": null,
            "height": null,
            "min_height": null,
            "padding": null,
            "grid_auto_rows": null,
            "grid_gap": null,
            "max_width": null,
            "order": null,
            "_view_module_version": "1.2.0",
            "grid_template_areas": null,
            "object_position": null,
            "object_fit": null,
            "grid_auto_columns": null,
            "margin": null,
            "display": null,
            "left": null
          }
        },
        "769fcf5c97fb4b8ba75feddda0ddf6a7": {
          "model_module": "@jupyter-widgets/controls",
          "model_name": "ProgressStyleModel",
          "model_module_version": "1.5.0",
          "state": {
            "_view_name": "StyleView",
            "_model_name": "ProgressStyleModel",
            "description_width": "",
            "_view_module": "@jupyter-widgets/base",
            "_model_module_version": "1.5.0",
            "_view_count": null,
            "_view_module_version": "1.2.0",
            "bar_color": null,
            "_model_module": "@jupyter-widgets/controls"
          }
        },
        "2eb72e5c23db47769692cb1772071a46": {
          "model_module": "@jupyter-widgets/base",
          "model_name": "LayoutModel",
          "model_module_version": "1.2.0",
          "state": {
            "_view_name": "LayoutView",
            "grid_template_rows": null,
            "right": null,
            "justify_content": null,
            "_view_module": "@jupyter-widgets/base",
            "overflow": null,
            "_model_module_version": "1.2.0",
            "_view_count": null,
            "flex_flow": null,
            "width": null,
            "min_width": null,
            "border": null,
            "align_items": null,
            "bottom": null,
            "_model_module": "@jupyter-widgets/base",
            "top": null,
            "grid_column": null,
            "overflow_y": null,
            "overflow_x": null,
            "grid_auto_flow": null,
            "grid_area": null,
            "grid_template_columns": null,
            "flex": null,
            "_model_name": "LayoutModel",
            "justify_items": null,
            "grid_row": null,
            "max_height": null,
            "align_content": null,
            "visibility": null,
            "align_self": null,
            "height": null,
            "min_height": null,
            "padding": null,
            "grid_auto_rows": null,
            "grid_gap": null,
            "max_width": null,
            "order": null,
            "_view_module_version": "1.2.0",
            "grid_template_areas": null,
            "object_position": null,
            "object_fit": null,
            "grid_auto_columns": null,
            "margin": null,
            "display": null,
            "left": null
          }
        },
        "7e81611bf1844687860b07b1e232c1c9": {
          "model_module": "@jupyter-widgets/controls",
          "model_name": "DescriptionStyleModel",
          "model_module_version": "1.5.0",
          "state": {
            "_view_name": "StyleView",
            "_model_name": "DescriptionStyleModel",
            "description_width": "",
            "_view_module": "@jupyter-widgets/base",
            "_model_module_version": "1.5.0",
            "_view_count": null,
            "_view_module_version": "1.2.0",
            "_model_module": "@jupyter-widgets/controls"
          }
        },
        "37e66bce33934659a2b69ccb491668b0": {
          "model_module": "@jupyter-widgets/base",
          "model_name": "LayoutModel",
          "model_module_version": "1.2.0",
          "state": {
            "_view_name": "LayoutView",
            "grid_template_rows": null,
            "right": null,
            "justify_content": null,
            "_view_module": "@jupyter-widgets/base",
            "overflow": null,
            "_model_module_version": "1.2.0",
            "_view_count": null,
            "flex_flow": null,
            "width": null,
            "min_width": null,
            "border": null,
            "align_items": null,
            "bottom": null,
            "_model_module": "@jupyter-widgets/base",
            "top": null,
            "grid_column": null,
            "overflow_y": null,
            "overflow_x": null,
            "grid_auto_flow": null,
            "grid_area": null,
            "grid_template_columns": null,
            "flex": null,
            "_model_name": "LayoutModel",
            "justify_items": null,
            "grid_row": null,
            "max_height": null,
            "align_content": null,
            "visibility": null,
            "align_self": null,
            "height": null,
            "min_height": null,
            "padding": null,
            "grid_auto_rows": null,
            "grid_gap": null,
            "max_width": null,
            "order": null,
            "_view_module_version": "1.2.0",
            "grid_template_areas": null,
            "object_position": null,
            "object_fit": null,
            "grid_auto_columns": null,
            "margin": null,
            "display": null,
            "left": null
          }
        },
        "e5c77484ecbb40008f5fa52f4a03fc7c": {
          "model_module": "@jupyter-widgets/controls",
          "model_name": "HBoxModel",
          "model_module_version": "1.5.0",
          "state": {
            "_view_name": "HBoxView",
            "_dom_classes": [],
            "_model_name": "HBoxModel",
            "_view_module": "@jupyter-widgets/controls",
            "_model_module_version": "1.5.0",
            "_view_count": null,
            "_view_module_version": "1.5.0",
            "box_style": "",
            "layout": "IPY_MODEL_f551bf4c52fd48dd9b069968957ccfe7",
            "_model_module": "@jupyter-widgets/controls",
            "children": [
              "IPY_MODEL_120274d8229147b886b715b56302716a",
              "IPY_MODEL_201ec9a952e44ea6904290aea282de11",
              "IPY_MODEL_2afc4272367f413b9568d59fbf4d386b"
            ]
          }
        },
        "f551bf4c52fd48dd9b069968957ccfe7": {
          "model_module": "@jupyter-widgets/base",
          "model_name": "LayoutModel",
          "model_module_version": "1.2.0",
          "state": {
            "_view_name": "LayoutView",
            "grid_template_rows": null,
            "right": null,
            "justify_content": null,
            "_view_module": "@jupyter-widgets/base",
            "overflow": null,
            "_model_module_version": "1.2.0",
            "_view_count": null,
            "flex_flow": null,
            "width": null,
            "min_width": null,
            "border": null,
            "align_items": null,
            "bottom": null,
            "_model_module": "@jupyter-widgets/base",
            "top": null,
            "grid_column": null,
            "overflow_y": null,
            "overflow_x": null,
            "grid_auto_flow": null,
            "grid_area": null,
            "grid_template_columns": null,
            "flex": null,
            "_model_name": "LayoutModel",
            "justify_items": null,
            "grid_row": null,
            "max_height": null,
            "align_content": null,
            "visibility": null,
            "align_self": null,
            "height": null,
            "min_height": null,
            "padding": null,
            "grid_auto_rows": null,
            "grid_gap": null,
            "max_width": null,
            "order": null,
            "_view_module_version": "1.2.0",
            "grid_template_areas": null,
            "object_position": null,
            "object_fit": null,
            "grid_auto_columns": null,
            "margin": null,
            "display": null,
            "left": null
          }
        },
        "120274d8229147b886b715b56302716a": {
          "model_module": "@jupyter-widgets/controls",
          "model_name": "HTMLModel",
          "model_module_version": "1.5.0",
          "state": {
            "_view_name": "HTMLView",
            "style": "IPY_MODEL_ed0edd914bc446e5a14ed8f77c3f4f0b",
            "_dom_classes": [],
            "description": "",
            "_model_name": "HTMLModel",
            "placeholder": "​",
            "_view_module": "@jupyter-widgets/controls",
            "_model_module_version": "1.5.0",
            "value": "Downloading: 100%",
            "_view_count": null,
            "_view_module_version": "1.5.0",
            "description_tooltip": null,
            "_model_module": "@jupyter-widgets/controls",
            "layout": "IPY_MODEL_58768affae774cc18a70bfc3c3af0edc"
          }
        },
        "201ec9a952e44ea6904290aea282de11": {
          "model_module": "@jupyter-widgets/controls",
          "model_name": "FloatProgressModel",
          "model_module_version": "1.5.0",
          "state": {
            "_view_name": "ProgressView",
            "style": "IPY_MODEL_b2b5e209cdad44e4a3464269dca9da40",
            "_dom_classes": [],
            "description": "",
            "_model_name": "FloatProgressModel",
            "bar_style": "success",
            "max": 77475023,
            "_view_module": "@jupyter-widgets/controls",
            "_model_module_version": "1.5.0",
            "value": 77475023,
            "_view_count": null,
            "_view_module_version": "1.5.0",
            "orientation": "horizontal",
            "min": 0,
            "description_tooltip": null,
            "_model_module": "@jupyter-widgets/controls",
            "layout": "IPY_MODEL_bb1131cdfb634420a7757c2d9ce83d70"
          }
        },
        "2afc4272367f413b9568d59fbf4d386b": {
          "model_module": "@jupyter-widgets/controls",
          "model_name": "HTMLModel",
          "model_module_version": "1.5.0",
          "state": {
            "_view_name": "HTMLView",
            "style": "IPY_MODEL_bc4e247b9e4a4ae8a9693245d30aab29",
            "_dom_classes": [],
            "description": "",
            "_model_name": "HTMLModel",
            "placeholder": "​",
            "_view_module": "@jupyter-widgets/controls",
            "_model_module_version": "1.5.0",
            "value": " 77.5M/77.5M [00:02&lt;00:00, 34.8MB/s]",
            "_view_count": null,
            "_view_module_version": "1.5.0",
            "description_tooltip": null,
            "_model_module": "@jupyter-widgets/controls",
            "layout": "IPY_MODEL_2d8aad0aa2ab450e825f611287f0c38c"
          }
        },
        "ed0edd914bc446e5a14ed8f77c3f4f0b": {
          "model_module": "@jupyter-widgets/controls",
          "model_name": "DescriptionStyleModel",
          "model_module_version": "1.5.0",
          "state": {
            "_view_name": "StyleView",
            "_model_name": "DescriptionStyleModel",
            "description_width": "",
            "_view_module": "@jupyter-widgets/base",
            "_model_module_version": "1.5.0",
            "_view_count": null,
            "_view_module_version": "1.2.0",
            "_model_module": "@jupyter-widgets/controls"
          }
        },
        "58768affae774cc18a70bfc3c3af0edc": {
          "model_module": "@jupyter-widgets/base",
          "model_name": "LayoutModel",
          "model_module_version": "1.2.0",
          "state": {
            "_view_name": "LayoutView",
            "grid_template_rows": null,
            "right": null,
            "justify_content": null,
            "_view_module": "@jupyter-widgets/base",
            "overflow": null,
            "_model_module_version": "1.2.0",
            "_view_count": null,
            "flex_flow": null,
            "width": null,
            "min_width": null,
            "border": null,
            "align_items": null,
            "bottom": null,
            "_model_module": "@jupyter-widgets/base",
            "top": null,
            "grid_column": null,
            "overflow_y": null,
            "overflow_x": null,
            "grid_auto_flow": null,
            "grid_area": null,
            "grid_template_columns": null,
            "flex": null,
            "_model_name": "LayoutModel",
            "justify_items": null,
            "grid_row": null,
            "max_height": null,
            "align_content": null,
            "visibility": null,
            "align_self": null,
            "height": null,
            "min_height": null,
            "padding": null,
            "grid_auto_rows": null,
            "grid_gap": null,
            "max_width": null,
            "order": null,
            "_view_module_version": "1.2.0",
            "grid_template_areas": null,
            "object_position": null,
            "object_fit": null,
            "grid_auto_columns": null,
            "margin": null,
            "display": null,
            "left": null
          }
        },
        "b2b5e209cdad44e4a3464269dca9da40": {
          "model_module": "@jupyter-widgets/controls",
          "model_name": "ProgressStyleModel",
          "model_module_version": "1.5.0",
          "state": {
            "_view_name": "StyleView",
            "_model_name": "ProgressStyleModel",
            "description_width": "",
            "_view_module": "@jupyter-widgets/base",
            "_model_module_version": "1.5.0",
            "_view_count": null,
            "_view_module_version": "1.2.0",
            "bar_color": null,
            "_model_module": "@jupyter-widgets/controls"
          }
        },
        "bb1131cdfb634420a7757c2d9ce83d70": {
          "model_module": "@jupyter-widgets/base",
          "model_name": "LayoutModel",
          "model_module_version": "1.2.0",
          "state": {
            "_view_name": "LayoutView",
            "grid_template_rows": null,
            "right": null,
            "justify_content": null,
            "_view_module": "@jupyter-widgets/base",
            "overflow": null,
            "_model_module_version": "1.2.0",
            "_view_count": null,
            "flex_flow": null,
            "width": null,
            "min_width": null,
            "border": null,
            "align_items": null,
            "bottom": null,
            "_model_module": "@jupyter-widgets/base",
            "top": null,
            "grid_column": null,
            "overflow_y": null,
            "overflow_x": null,
            "grid_auto_flow": null,
            "grid_area": null,
            "grid_template_columns": null,
            "flex": null,
            "_model_name": "LayoutModel",
            "justify_items": null,
            "grid_row": null,
            "max_height": null,
            "align_content": null,
            "visibility": null,
            "align_self": null,
            "height": null,
            "min_height": null,
            "padding": null,
            "grid_auto_rows": null,
            "grid_gap": null,
            "max_width": null,
            "order": null,
            "_view_module_version": "1.2.0",
            "grid_template_areas": null,
            "object_position": null,
            "object_fit": null,
            "grid_auto_columns": null,
            "margin": null,
            "display": null,
            "left": null
          }
        },
        "bc4e247b9e4a4ae8a9693245d30aab29": {
          "model_module": "@jupyter-widgets/controls",
          "model_name": "DescriptionStyleModel",
          "model_module_version": "1.5.0",
          "state": {
            "_view_name": "StyleView",
            "_model_name": "DescriptionStyleModel",
            "description_width": "",
            "_view_module": "@jupyter-widgets/base",
            "_model_module_version": "1.5.0",
            "_view_count": null,
            "_view_module_version": "1.2.0",
            "_model_module": "@jupyter-widgets/controls"
          }
        },
        "2d8aad0aa2ab450e825f611287f0c38c": {
          "model_module": "@jupyter-widgets/base",
          "model_name": "LayoutModel",
          "model_module_version": "1.2.0",
          "state": {
            "_view_name": "LayoutView",
            "grid_template_rows": null,
            "right": null,
            "justify_content": null,
            "_view_module": "@jupyter-widgets/base",
            "overflow": null,
            "_model_module_version": "1.2.0",
            "_view_count": null,
            "flex_flow": null,
            "width": null,
            "min_width": null,
            "border": null,
            "align_items": null,
            "bottom": null,
            "_model_module": "@jupyter-widgets/base",
            "top": null,
            "grid_column": null,
            "overflow_y": null,
            "overflow_x": null,
            "grid_auto_flow": null,
            "grid_area": null,
            "grid_template_columns": null,
            "flex": null,
            "_model_name": "LayoutModel",
            "justify_items": null,
            "grid_row": null,
            "max_height": null,
            "align_content": null,
            "visibility": null,
            "align_self": null,
            "height": null,
            "min_height": null,
            "padding": null,
            "grid_auto_rows": null,
            "grid_gap": null,
            "max_width": null,
            "order": null,
            "_view_module_version": "1.2.0",
            "grid_template_areas": null,
            "object_position": null,
            "object_fit": null,
            "grid_auto_columns": null,
            "margin": null,
            "display": null,
            "left": null
          }
        },
        "80c546097de9499c91afb7a7323575ba": {
          "model_module": "@jupyter-widgets/controls",
          "model_name": "HBoxModel",
          "model_module_version": "1.5.0",
          "state": {
            "_view_name": "HBoxView",
            "_dom_classes": [],
            "_model_name": "HBoxModel",
            "_view_module": "@jupyter-widgets/controls",
            "_model_module_version": "1.5.0",
            "_view_count": null,
            "_view_module_version": "1.5.0",
            "box_style": "",
            "layout": "IPY_MODEL_7d2279fde4e643a0ae687623065c2794",
            "_model_module": "@jupyter-widgets/controls",
            "children": [
              "IPY_MODEL_bcbba09715f84c51a156cdf6886273b6",
              "IPY_MODEL_51e3465b084c429d8cad1f21c4bff7be",
              "IPY_MODEL_bd3cfd7fdedb4a878cd16987bc1d0fce"
            ]
          }
        },
        "7d2279fde4e643a0ae687623065c2794": {
          "model_module": "@jupyter-widgets/base",
          "model_name": "LayoutModel",
          "model_module_version": "1.2.0",
          "state": {
            "_view_name": "LayoutView",
            "grid_template_rows": null,
            "right": null,
            "justify_content": null,
            "_view_module": "@jupyter-widgets/base",
            "overflow": null,
            "_model_module_version": "1.2.0",
            "_view_count": null,
            "flex_flow": null,
            "width": null,
            "min_width": null,
            "border": null,
            "align_items": null,
            "bottom": null,
            "_model_module": "@jupyter-widgets/base",
            "top": null,
            "grid_column": null,
            "overflow_y": null,
            "overflow_x": null,
            "grid_auto_flow": null,
            "grid_area": null,
            "grid_template_columns": null,
            "flex": null,
            "_model_name": "LayoutModel",
            "justify_items": null,
            "grid_row": null,
            "max_height": null,
            "align_content": null,
            "visibility": null,
            "align_self": null,
            "height": null,
            "min_height": null,
            "padding": null,
            "grid_auto_rows": null,
            "grid_gap": null,
            "max_width": null,
            "order": null,
            "_view_module_version": "1.2.0",
            "grid_template_areas": null,
            "object_position": null,
            "object_fit": null,
            "grid_auto_columns": null,
            "margin": null,
            "display": null,
            "left": null
          }
        },
        "bcbba09715f84c51a156cdf6886273b6": {
          "model_module": "@jupyter-widgets/controls",
          "model_name": "HTMLModel",
          "model_module_version": "1.5.0",
          "state": {
            "_view_name": "HTMLView",
            "style": "IPY_MODEL_9a3e822ae58d4c13b66ca6537b3e7082",
            "_dom_classes": [],
            "description": "",
            "_model_name": "HTMLModel",
            "placeholder": "​",
            "_view_module": "@jupyter-widgets/controls",
            "_model_module_version": "1.5.0",
            "value": "Downloading: 100%",
            "_view_count": null,
            "_view_module_version": "1.5.0",
            "description_tooltip": null,
            "_model_module": "@jupyter-widgets/controls",
            "layout": "IPY_MODEL_4302993a4f6948718fa6788be01e45f7"
          }
        },
        "51e3465b084c429d8cad1f21c4bff7be": {
          "model_module": "@jupyter-widgets/controls",
          "model_name": "FloatProgressModel",
          "model_module_version": "1.5.0",
          "state": {
            "_view_name": "ProgressView",
            "style": "IPY_MODEL_986205094e2b4e8382230caa1daa5c8c",
            "_dom_classes": [],
            "description": "",
            "_model_name": "FloatProgressModel",
            "bar_style": "success",
            "max": 1930836,
            "_view_module": "@jupyter-widgets/controls",
            "_model_module_version": "1.5.0",
            "value": 1930836,
            "_view_count": null,
            "_view_module_version": "1.5.0",
            "orientation": "horizontal",
            "min": 0,
            "description_tooltip": null,
            "_model_module": "@jupyter-widgets/controls",
            "layout": "IPY_MODEL_e677d913b4584b5db8ad1d08bf37fbf2"
          }
        },
        "bd3cfd7fdedb4a878cd16987bc1d0fce": {
          "model_module": "@jupyter-widgets/controls",
          "model_name": "HTMLModel",
          "model_module_version": "1.5.0",
          "state": {
            "_view_name": "HTMLView",
            "style": "IPY_MODEL_71c6a826100e47ffb292b0d743e5b0e5",
            "_dom_classes": [],
            "description": "",
            "_model_name": "HTMLModel",
            "placeholder": "​",
            "_view_module": "@jupyter-widgets/controls",
            "_model_module_version": "1.5.0",
            "value": " 1.93M/1.93M [00:00&lt;00:00, 2.89MB/s]",
            "_view_count": null,
            "_view_module_version": "1.5.0",
            "description_tooltip": null,
            "_model_module": "@jupyter-widgets/controls",
            "layout": "IPY_MODEL_2419c0fa4bd343b08e8038344ea7eb36"
          }
        },
        "9a3e822ae58d4c13b66ca6537b3e7082": {
          "model_module": "@jupyter-widgets/controls",
          "model_name": "DescriptionStyleModel",
          "model_module_version": "1.5.0",
          "state": {
            "_view_name": "StyleView",
            "_model_name": "DescriptionStyleModel",
            "description_width": "",
            "_view_module": "@jupyter-widgets/base",
            "_model_module_version": "1.5.0",
            "_view_count": null,
            "_view_module_version": "1.2.0",
            "_model_module": "@jupyter-widgets/controls"
          }
        },
        "4302993a4f6948718fa6788be01e45f7": {
          "model_module": "@jupyter-widgets/base",
          "model_name": "LayoutModel",
          "model_module_version": "1.2.0",
          "state": {
            "_view_name": "LayoutView",
            "grid_template_rows": null,
            "right": null,
            "justify_content": null,
            "_view_module": "@jupyter-widgets/base",
            "overflow": null,
            "_model_module_version": "1.2.0",
            "_view_count": null,
            "flex_flow": null,
            "width": null,
            "min_width": null,
            "border": null,
            "align_items": null,
            "bottom": null,
            "_model_module": "@jupyter-widgets/base",
            "top": null,
            "grid_column": null,
            "overflow_y": null,
            "overflow_x": null,
            "grid_auto_flow": null,
            "grid_area": null,
            "grid_template_columns": null,
            "flex": null,
            "_model_name": "LayoutModel",
            "justify_items": null,
            "grid_row": null,
            "max_height": null,
            "align_content": null,
            "visibility": null,
            "align_self": null,
            "height": null,
            "min_height": null,
            "padding": null,
            "grid_auto_rows": null,
            "grid_gap": null,
            "max_width": null,
            "order": null,
            "_view_module_version": "1.2.0",
            "grid_template_areas": null,
            "object_position": null,
            "object_fit": null,
            "grid_auto_columns": null,
            "margin": null,
            "display": null,
            "left": null
          }
        },
        "986205094e2b4e8382230caa1daa5c8c": {
          "model_module": "@jupyter-widgets/controls",
          "model_name": "ProgressStyleModel",
          "model_module_version": "1.5.0",
          "state": {
            "_view_name": "StyleView",
            "_model_name": "ProgressStyleModel",
            "description_width": "",
            "_view_module": "@jupyter-widgets/base",
            "_model_module_version": "1.5.0",
            "_view_count": null,
            "_view_module_version": "1.2.0",
            "bar_color": null,
            "_model_module": "@jupyter-widgets/controls"
          }
        },
        "e677d913b4584b5db8ad1d08bf37fbf2": {
          "model_module": "@jupyter-widgets/base",
          "model_name": "LayoutModel",
          "model_module_version": "1.2.0",
          "state": {
            "_view_name": "LayoutView",
            "grid_template_rows": null,
            "right": null,
            "justify_content": null,
            "_view_module": "@jupyter-widgets/base",
            "overflow": null,
            "_model_module_version": "1.2.0",
            "_view_count": null,
            "flex_flow": null,
            "width": null,
            "min_width": null,
            "border": null,
            "align_items": null,
            "bottom": null,
            "_model_module": "@jupyter-widgets/base",
            "top": null,
            "grid_column": null,
            "overflow_y": null,
            "overflow_x": null,
            "grid_auto_flow": null,
            "grid_area": null,
            "grid_template_columns": null,
            "flex": null,
            "_model_name": "LayoutModel",
            "justify_items": null,
            "grid_row": null,
            "max_height": null,
            "align_content": null,
            "visibility": null,
            "align_self": null,
            "height": null,
            "min_height": null,
            "padding": null,
            "grid_auto_rows": null,
            "grid_gap": null,
            "max_width": null,
            "order": null,
            "_view_module_version": "1.2.0",
            "grid_template_areas": null,
            "object_position": null,
            "object_fit": null,
            "grid_auto_columns": null,
            "margin": null,
            "display": null,
            "left": null
          }
        },
        "71c6a826100e47ffb292b0d743e5b0e5": {
          "model_module": "@jupyter-widgets/controls",
          "model_name": "DescriptionStyleModel",
          "model_module_version": "1.5.0",
          "state": {
            "_view_name": "StyleView",
            "_model_name": "DescriptionStyleModel",
            "description_width": "",
            "_view_module": "@jupyter-widgets/base",
            "_model_module_version": "1.5.0",
            "_view_count": null,
            "_view_module_version": "1.2.0",
            "_model_module": "@jupyter-widgets/controls"
          }
        },
        "2419c0fa4bd343b08e8038344ea7eb36": {
          "model_module": "@jupyter-widgets/base",
          "model_name": "LayoutModel",
          "model_module_version": "1.2.0",
          "state": {
            "_view_name": "LayoutView",
            "grid_template_rows": null,
            "right": null,
            "justify_content": null,
            "_view_module": "@jupyter-widgets/base",
            "overflow": null,
            "_model_module_version": "1.2.0",
            "_view_count": null,
            "flex_flow": null,
            "width": null,
            "min_width": null,
            "border": null,
            "align_items": null,
            "bottom": null,
            "_model_module": "@jupyter-widgets/base",
            "top": null,
            "grid_column": null,
            "overflow_y": null,
            "overflow_x": null,
            "grid_auto_flow": null,
            "grid_area": null,
            "grid_template_columns": null,
            "flex": null,
            "_model_name": "LayoutModel",
            "justify_items": null,
            "grid_row": null,
            "max_height": null,
            "align_content": null,
            "visibility": null,
            "align_self": null,
            "height": null,
            "min_height": null,
            "padding": null,
            "grid_auto_rows": null,
            "grid_gap": null,
            "max_width": null,
            "order": null,
            "_view_module_version": "1.2.0",
            "grid_template_areas": null,
            "object_position": null,
            "object_fit": null,
            "grid_auto_columns": null,
            "margin": null,
            "display": null,
            "left": null
          }
        },
        "eb80ce6b92f4486ab9f8229135fa4055": {
          "model_module": "@jupyter-widgets/controls",
          "model_name": "HBoxModel",
          "model_module_version": "1.5.0",
          "state": {
            "_view_name": "HBoxView",
            "_dom_classes": [],
            "_model_name": "HBoxModel",
            "_view_module": "@jupyter-widgets/controls",
            "_model_module_version": "1.5.0",
            "_view_count": null,
            "_view_module_version": "1.5.0",
            "box_style": "",
            "layout": "IPY_MODEL_071221ef08244cf1949630960b9202db",
            "_model_module": "@jupyter-widgets/controls",
            "children": [
              "IPY_MODEL_7f1c63f0b087467e9ba485e26fddc3be",
              "IPY_MODEL_2a40601dbb764f60ae775946defa00d8",
              "IPY_MODEL_aacf779829ce40fc8509af742b499f12"
            ]
          }
        },
        "071221ef08244cf1949630960b9202db": {
          "model_module": "@jupyter-widgets/base",
          "model_name": "LayoutModel",
          "model_module_version": "1.2.0",
          "state": {
            "_view_name": "LayoutView",
            "grid_template_rows": null,
            "right": null,
            "justify_content": null,
            "_view_module": "@jupyter-widgets/base",
            "overflow": null,
            "_model_module_version": "1.2.0",
            "_view_count": null,
            "flex_flow": null,
            "width": null,
            "min_width": null,
            "border": null,
            "align_items": null,
            "bottom": null,
            "_model_module": "@jupyter-widgets/base",
            "top": null,
            "grid_column": null,
            "overflow_y": null,
            "overflow_x": null,
            "grid_auto_flow": null,
            "grid_area": null,
            "grid_template_columns": null,
            "flex": null,
            "_model_name": "LayoutModel",
            "justify_items": null,
            "grid_row": null,
            "max_height": null,
            "align_content": null,
            "visibility": null,
            "align_self": null,
            "height": null,
            "min_height": null,
            "padding": null,
            "grid_auto_rows": null,
            "grid_gap": null,
            "max_width": null,
            "order": null,
            "_view_module_version": "1.2.0",
            "grid_template_areas": null,
            "object_position": null,
            "object_fit": null,
            "grid_auto_columns": null,
            "margin": null,
            "display": null,
            "left": null
          }
        },
        "7f1c63f0b087467e9ba485e26fddc3be": {
          "model_module": "@jupyter-widgets/controls",
          "model_name": "HTMLModel",
          "model_module_version": "1.5.0",
          "state": {
            "_view_name": "HTMLView",
            "style": "IPY_MODEL_98d02426798d4215ba8822509b9f5fc6",
            "_dom_classes": [],
            "description": "",
            "_model_name": "HTMLModel",
            "placeholder": "​",
            "_view_module": "@jupyter-widgets/controls",
            "_model_module_version": "1.5.0",
            "value": "Downloading: 100%",
            "_view_count": null,
            "_view_module_version": "1.5.0",
            "description_tooltip": null,
            "_model_module": "@jupyter-widgets/controls",
            "layout": "IPY_MODEL_74fcca840bd7491c87b5a4e4313d9649"
          }
        },
        "2a40601dbb764f60ae775946defa00d8": {
          "model_module": "@jupyter-widgets/controls",
          "model_name": "FloatProgressModel",
          "model_module_version": "1.5.0",
          "state": {
            "_view_name": "ProgressView",
            "style": "IPY_MODEL_b4fd416a3cae4c3f81d765b5d59bbc4d",
            "_dom_classes": [],
            "description": "",
            "_model_name": "FloatProgressModel",
            "bar_style": "success",
            "max": 1939602,
            "_view_module": "@jupyter-widgets/controls",
            "_model_module_version": "1.5.0",
            "value": 1939602,
            "_view_count": null,
            "_view_module_version": "1.5.0",
            "orientation": "horizontal",
            "min": 0,
            "description_tooltip": null,
            "_model_module": "@jupyter-widgets/controls",
            "layout": "IPY_MODEL_62e3ff13988044d2b27a62311e39427d"
          }
        },
        "aacf779829ce40fc8509af742b499f12": {
          "model_module": "@jupyter-widgets/controls",
          "model_name": "HTMLModel",
          "model_module_version": "1.5.0",
          "state": {
            "_view_name": "HTMLView",
            "style": "IPY_MODEL_f5647b14c9ec48c0bc6acb9fe203c1a2",
            "_dom_classes": [],
            "description": "",
            "_model_name": "HTMLModel",
            "placeholder": "​",
            "_view_module": "@jupyter-widgets/controls",
            "_model_module_version": "1.5.0",
            "value": " 1.94M/1.94M [00:00&lt;00:00, 2.97MB/s]",
            "_view_count": null,
            "_view_module_version": "1.5.0",
            "description_tooltip": null,
            "_model_module": "@jupyter-widgets/controls",
            "layout": "IPY_MODEL_8a9b6fa1428f4a729685b7323b5f1a9f"
          }
        },
        "98d02426798d4215ba8822509b9f5fc6": {
          "model_module": "@jupyter-widgets/controls",
          "model_name": "DescriptionStyleModel",
          "model_module_version": "1.5.0",
          "state": {
            "_view_name": "StyleView",
            "_model_name": "DescriptionStyleModel",
            "description_width": "",
            "_view_module": "@jupyter-widgets/base",
            "_model_module_version": "1.5.0",
            "_view_count": null,
            "_view_module_version": "1.2.0",
            "_model_module": "@jupyter-widgets/controls"
          }
        },
        "74fcca840bd7491c87b5a4e4313d9649": {
          "model_module": "@jupyter-widgets/base",
          "model_name": "LayoutModel",
          "model_module_version": "1.2.0",
          "state": {
            "_view_name": "LayoutView",
            "grid_template_rows": null,
            "right": null,
            "justify_content": null,
            "_view_module": "@jupyter-widgets/base",
            "overflow": null,
            "_model_module_version": "1.2.0",
            "_view_count": null,
            "flex_flow": null,
            "width": null,
            "min_width": null,
            "border": null,
            "align_items": null,
            "bottom": null,
            "_model_module": "@jupyter-widgets/base",
            "top": null,
            "grid_column": null,
            "overflow_y": null,
            "overflow_x": null,
            "grid_auto_flow": null,
            "grid_area": null,
            "grid_template_columns": null,
            "flex": null,
            "_model_name": "LayoutModel",
            "justify_items": null,
            "grid_row": null,
            "max_height": null,
            "align_content": null,
            "visibility": null,
            "align_self": null,
            "height": null,
            "min_height": null,
            "padding": null,
            "grid_auto_rows": null,
            "grid_gap": null,
            "max_width": null,
            "order": null,
            "_view_module_version": "1.2.0",
            "grid_template_areas": null,
            "object_position": null,
            "object_fit": null,
            "grid_auto_columns": null,
            "margin": null,
            "display": null,
            "left": null
          }
        },
        "b4fd416a3cae4c3f81d765b5d59bbc4d": {
          "model_module": "@jupyter-widgets/controls",
          "model_name": "ProgressStyleModel",
          "model_module_version": "1.5.0",
          "state": {
            "_view_name": "StyleView",
            "_model_name": "ProgressStyleModel",
            "description_width": "",
            "_view_module": "@jupyter-widgets/base",
            "_model_module_version": "1.5.0",
            "_view_count": null,
            "_view_module_version": "1.2.0",
            "bar_color": null,
            "_model_module": "@jupyter-widgets/controls"
          }
        },
        "62e3ff13988044d2b27a62311e39427d": {
          "model_module": "@jupyter-widgets/base",
          "model_name": "LayoutModel",
          "model_module_version": "1.2.0",
          "state": {
            "_view_name": "LayoutView",
            "grid_template_rows": null,
            "right": null,
            "justify_content": null,
            "_view_module": "@jupyter-widgets/base",
            "overflow": null,
            "_model_module_version": "1.2.0",
            "_view_count": null,
            "flex_flow": null,
            "width": null,
            "min_width": null,
            "border": null,
            "align_items": null,
            "bottom": null,
            "_model_module": "@jupyter-widgets/base",
            "top": null,
            "grid_column": null,
            "overflow_y": null,
            "overflow_x": null,
            "grid_auto_flow": null,
            "grid_area": null,
            "grid_template_columns": null,
            "flex": null,
            "_model_name": "LayoutModel",
            "justify_items": null,
            "grid_row": null,
            "max_height": null,
            "align_content": null,
            "visibility": null,
            "align_self": null,
            "height": null,
            "min_height": null,
            "padding": null,
            "grid_auto_rows": null,
            "grid_gap": null,
            "max_width": null,
            "order": null,
            "_view_module_version": "1.2.0",
            "grid_template_areas": null,
            "object_position": null,
            "object_fit": null,
            "grid_auto_columns": null,
            "margin": null,
            "display": null,
            "left": null
          }
        },
        "f5647b14c9ec48c0bc6acb9fe203c1a2": {
          "model_module": "@jupyter-widgets/controls",
          "model_name": "DescriptionStyleModel",
          "model_module_version": "1.5.0",
          "state": {
            "_view_name": "StyleView",
            "_model_name": "DescriptionStyleModel",
            "description_width": "",
            "_view_module": "@jupyter-widgets/base",
            "_model_module_version": "1.5.0",
            "_view_count": null,
            "_view_module_version": "1.2.0",
            "_model_module": "@jupyter-widgets/controls"
          }
        },
        "8a9b6fa1428f4a729685b7323b5f1a9f": {
          "model_module": "@jupyter-widgets/base",
          "model_name": "LayoutModel",
          "model_module_version": "1.2.0",
          "state": {
            "_view_name": "LayoutView",
            "grid_template_rows": null,
            "right": null,
            "justify_content": null,
            "_view_module": "@jupyter-widgets/base",
            "overflow": null,
            "_model_module_version": "1.2.0",
            "_view_count": null,
            "flex_flow": null,
            "width": null,
            "min_width": null,
            "border": null,
            "align_items": null,
            "bottom": null,
            "_model_module": "@jupyter-widgets/base",
            "top": null,
            "grid_column": null,
            "overflow_y": null,
            "overflow_x": null,
            "grid_auto_flow": null,
            "grid_area": null,
            "grid_template_columns": null,
            "flex": null,
            "_model_name": "LayoutModel",
            "justify_items": null,
            "grid_row": null,
            "max_height": null,
            "align_content": null,
            "visibility": null,
            "align_self": null,
            "height": null,
            "min_height": null,
            "padding": null,
            "grid_auto_rows": null,
            "grid_gap": null,
            "max_width": null,
            "order": null,
            "_view_module_version": "1.2.0",
            "grid_template_areas": null,
            "object_position": null,
            "object_fit": null,
            "grid_auto_columns": null,
            "margin": null,
            "display": null,
            "left": null
          }
        },
        "ae38de06e5e44d9d9828d48e3d4d5953": {
          "model_module": "@jupyter-widgets/controls",
          "model_name": "HBoxModel",
          "model_module_version": "1.5.0",
          "state": {
            "_view_name": "HBoxView",
            "_dom_classes": [],
            "_model_name": "HBoxModel",
            "_view_module": "@jupyter-widgets/controls",
            "_model_module_version": "1.5.0",
            "_view_count": null,
            "_view_module_version": "1.5.0",
            "box_style": "",
            "layout": "IPY_MODEL_2de08af9a5ea4d2382238aa3510d4cda",
            "_model_module": "@jupyter-widgets/controls",
            "children": [
              "IPY_MODEL_3b6227c364a149f1bb7b12c723a72973",
              "IPY_MODEL_8a0bba8924654e968a3f1922d8ca5c16",
              "IPY_MODEL_b240d758d2484e73b11d21c323217d08"
            ]
          }
        },
        "2de08af9a5ea4d2382238aa3510d4cda": {
          "model_module": "@jupyter-widgets/base",
          "model_name": "LayoutModel",
          "model_module_version": "1.2.0",
          "state": {
            "_view_name": "LayoutView",
            "grid_template_rows": null,
            "right": null,
            "justify_content": null,
            "_view_module": "@jupyter-widgets/base",
            "overflow": null,
            "_model_module_version": "1.2.0",
            "_view_count": null,
            "flex_flow": null,
            "width": null,
            "min_width": null,
            "border": null,
            "align_items": null,
            "bottom": null,
            "_model_module": "@jupyter-widgets/base",
            "top": null,
            "grid_column": null,
            "overflow_y": null,
            "overflow_x": null,
            "grid_auto_flow": null,
            "grid_area": null,
            "grid_template_columns": null,
            "flex": null,
            "_model_name": "LayoutModel",
            "justify_items": null,
            "grid_row": null,
            "max_height": null,
            "align_content": null,
            "visibility": null,
            "align_self": null,
            "height": null,
            "min_height": null,
            "padding": null,
            "grid_auto_rows": null,
            "grid_gap": null,
            "max_width": null,
            "order": null,
            "_view_module_version": "1.2.0",
            "grid_template_areas": null,
            "object_position": null,
            "object_fit": null,
            "grid_auto_columns": null,
            "margin": null,
            "display": null,
            "left": null
          }
        },
        "3b6227c364a149f1bb7b12c723a72973": {
          "model_module": "@jupyter-widgets/controls",
          "model_name": "HTMLModel",
          "model_module_version": "1.5.0",
          "state": {
            "_view_name": "HTMLView",
            "style": "IPY_MODEL_98008a1a66d840e49253fe227dbff499",
            "_dom_classes": [],
            "description": "",
            "_model_name": "HTMLModel",
            "placeholder": "​",
            "_view_module": "@jupyter-widgets/controls",
            "_model_module_version": "1.5.0",
            "value": "",
            "_view_count": null,
            "_view_module_version": "1.5.0",
            "description_tooltip": null,
            "_model_module": "@jupyter-widgets/controls",
            "layout": "IPY_MODEL_9ac7731787e44d2e931ea9e72748e3a0"
          }
        },
        "8a0bba8924654e968a3f1922d8ca5c16": {
          "model_module": "@jupyter-widgets/controls",
          "model_name": "FloatProgressModel",
          "model_module_version": "1.5.0",
          "state": {
            "_view_name": "ProgressView",
            "style": "IPY_MODEL_3278504e0a334f888e86818b0348fe89",
            "_dom_classes": [],
            "description": "",
            "_model_name": "FloatProgressModel",
            "bar_style": "info",
            "max": 1,
            "_view_module": "@jupyter-widgets/controls",
            "_model_module_version": "1.5.0",
            "value": 1,
            "_view_count": null,
            "_view_module_version": "1.5.0",
            "orientation": "horizontal",
            "min": 0,
            "description_tooltip": null,
            "_model_module": "@jupyter-widgets/controls",
            "layout": "IPY_MODEL_c0122d5ef9fc481ba7f6ab471646ce97"
          }
        },
        "b240d758d2484e73b11d21c323217d08": {
          "model_module": "@jupyter-widgets/controls",
          "model_name": "HTMLModel",
          "model_module_version": "1.5.0",
          "state": {
            "_view_name": "HTMLView",
            "style": "IPY_MODEL_b02e21b5c4ab4a67b5e0186cca4c26f0",
            "_dom_classes": [],
            "description": "",
            "_model_name": "HTMLModel",
            "placeholder": "​",
            "_view_module": "@jupyter-widgets/controls",
            "_model_module_version": "1.5.0",
            "value": " 199140/0 [00:14&lt;00:00, 14704.29 examples/s]",
            "_view_count": null,
            "_view_module_version": "1.5.0",
            "description_tooltip": null,
            "_model_module": "@jupyter-widgets/controls",
            "layout": "IPY_MODEL_9b62f00849b24f7c8ad0df68b10b3893"
          }
        },
        "98008a1a66d840e49253fe227dbff499": {
          "model_module": "@jupyter-widgets/controls",
          "model_name": "DescriptionStyleModel",
          "model_module_version": "1.5.0",
          "state": {
            "_view_name": "StyleView",
            "_model_name": "DescriptionStyleModel",
            "description_width": "",
            "_view_module": "@jupyter-widgets/base",
            "_model_module_version": "1.5.0",
            "_view_count": null,
            "_view_module_version": "1.2.0",
            "_model_module": "@jupyter-widgets/controls"
          }
        },
        "9ac7731787e44d2e931ea9e72748e3a0": {
          "model_module": "@jupyter-widgets/base",
          "model_name": "LayoutModel",
          "model_module_version": "1.2.0",
          "state": {
            "_view_name": "LayoutView",
            "grid_template_rows": null,
            "right": null,
            "justify_content": null,
            "_view_module": "@jupyter-widgets/base",
            "overflow": null,
            "_model_module_version": "1.2.0",
            "_view_count": null,
            "flex_flow": null,
            "width": null,
            "min_width": null,
            "border": null,
            "align_items": null,
            "bottom": null,
            "_model_module": "@jupyter-widgets/base",
            "top": null,
            "grid_column": null,
            "overflow_y": null,
            "overflow_x": null,
            "grid_auto_flow": null,
            "grid_area": null,
            "grid_template_columns": null,
            "flex": null,
            "_model_name": "LayoutModel",
            "justify_items": null,
            "grid_row": null,
            "max_height": null,
            "align_content": null,
            "visibility": null,
            "align_self": null,
            "height": null,
            "min_height": null,
            "padding": null,
            "grid_auto_rows": null,
            "grid_gap": null,
            "max_width": null,
            "order": null,
            "_view_module_version": "1.2.0",
            "grid_template_areas": null,
            "object_position": null,
            "object_fit": null,
            "grid_auto_columns": null,
            "margin": null,
            "display": null,
            "left": null
          }
        },
        "3278504e0a334f888e86818b0348fe89": {
          "model_module": "@jupyter-widgets/controls",
          "model_name": "ProgressStyleModel",
          "model_module_version": "1.5.0",
          "state": {
            "_view_name": "StyleView",
            "_model_name": "ProgressStyleModel",
            "description_width": "",
            "_view_module": "@jupyter-widgets/base",
            "_model_module_version": "1.5.0",
            "_view_count": null,
            "_view_module_version": "1.2.0",
            "bar_color": null,
            "_model_module": "@jupyter-widgets/controls"
          }
        },
        "c0122d5ef9fc481ba7f6ab471646ce97": {
          "model_module": "@jupyter-widgets/base",
          "model_name": "LayoutModel",
          "model_module_version": "1.2.0",
          "state": {
            "_view_name": "LayoutView",
            "grid_template_rows": null,
            "right": null,
            "justify_content": null,
            "_view_module": "@jupyter-widgets/base",
            "overflow": null,
            "_model_module_version": "1.2.0",
            "_view_count": null,
            "flex_flow": null,
            "width": "20px",
            "min_width": null,
            "border": null,
            "align_items": null,
            "bottom": null,
            "_model_module": "@jupyter-widgets/base",
            "top": null,
            "grid_column": null,
            "overflow_y": null,
            "overflow_x": null,
            "grid_auto_flow": null,
            "grid_area": null,
            "grid_template_columns": null,
            "flex": null,
            "_model_name": "LayoutModel",
            "justify_items": null,
            "grid_row": null,
            "max_height": null,
            "align_content": null,
            "visibility": null,
            "align_self": null,
            "height": null,
            "min_height": null,
            "padding": null,
            "grid_auto_rows": null,
            "grid_gap": null,
            "max_width": null,
            "order": null,
            "_view_module_version": "1.2.0",
            "grid_template_areas": null,
            "object_position": null,
            "object_fit": null,
            "grid_auto_columns": null,
            "margin": null,
            "display": null,
            "left": null
          }
        },
        "b02e21b5c4ab4a67b5e0186cca4c26f0": {
          "model_module": "@jupyter-widgets/controls",
          "model_name": "DescriptionStyleModel",
          "model_module_version": "1.5.0",
          "state": {
            "_view_name": "StyleView",
            "_model_name": "DescriptionStyleModel",
            "description_width": "",
            "_view_module": "@jupyter-widgets/base",
            "_model_module_version": "1.5.0",
            "_view_count": null,
            "_view_module_version": "1.2.0",
            "_model_module": "@jupyter-widgets/controls"
          }
        },
        "9b62f00849b24f7c8ad0df68b10b3893": {
          "model_module": "@jupyter-widgets/base",
          "model_name": "LayoutModel",
          "model_module_version": "1.2.0",
          "state": {
            "_view_name": "LayoutView",
            "grid_template_rows": null,
            "right": null,
            "justify_content": null,
            "_view_module": "@jupyter-widgets/base",
            "overflow": null,
            "_model_module_version": "1.2.0",
            "_view_count": null,
            "flex_flow": null,
            "width": null,
            "min_width": null,
            "border": null,
            "align_items": null,
            "bottom": null,
            "_model_module": "@jupyter-widgets/base",
            "top": null,
            "grid_column": null,
            "overflow_y": null,
            "overflow_x": null,
            "grid_auto_flow": null,
            "grid_area": null,
            "grid_template_columns": null,
            "flex": null,
            "_model_name": "LayoutModel",
            "justify_items": null,
            "grid_row": null,
            "max_height": null,
            "align_content": null,
            "visibility": null,
            "align_self": null,
            "height": null,
            "min_height": null,
            "padding": null,
            "grid_auto_rows": null,
            "grid_gap": null,
            "max_width": null,
            "order": null,
            "_view_module_version": "1.2.0",
            "grid_template_areas": null,
            "object_position": null,
            "object_fit": null,
            "grid_auto_columns": null,
            "margin": null,
            "display": null,
            "left": null
          }
        },
        "de510ed5a1a44138a2b50863d295b1a8": {
          "model_module": "@jupyter-widgets/controls",
          "model_name": "HBoxModel",
          "model_module_version": "1.5.0",
          "state": {
            "_view_name": "HBoxView",
            "_dom_classes": [],
            "_model_name": "HBoxModel",
            "_view_module": "@jupyter-widgets/controls",
            "_model_module_version": "1.5.0",
            "_view_count": null,
            "_view_module_version": "1.5.0",
            "box_style": "",
            "layout": "IPY_MODEL_31681e37bdd9484c9ec0bc51bb8e9506",
            "_model_module": "@jupyter-widgets/controls",
            "children": [
              "IPY_MODEL_dc43d1fd358347eeb2664c5e8577368f",
              "IPY_MODEL_6ea1003968da48769abaf145634ea32a",
              "IPY_MODEL_e2b8227559cb43dba702c0882733a1ea"
            ]
          }
        },
        "31681e37bdd9484c9ec0bc51bb8e9506": {
          "model_module": "@jupyter-widgets/base",
          "model_name": "LayoutModel",
          "model_module_version": "1.2.0",
          "state": {
            "_view_name": "LayoutView",
            "grid_template_rows": null,
            "right": null,
            "justify_content": null,
            "_view_module": "@jupyter-widgets/base",
            "overflow": null,
            "_model_module_version": "1.2.0",
            "_view_count": null,
            "flex_flow": null,
            "width": null,
            "min_width": null,
            "border": null,
            "align_items": null,
            "bottom": null,
            "_model_module": "@jupyter-widgets/base",
            "top": null,
            "grid_column": null,
            "overflow_y": null,
            "overflow_x": null,
            "grid_auto_flow": null,
            "grid_area": null,
            "grid_template_columns": null,
            "flex": null,
            "_model_name": "LayoutModel",
            "justify_items": null,
            "grid_row": null,
            "max_height": null,
            "align_content": null,
            "visibility": null,
            "align_self": null,
            "height": null,
            "min_height": null,
            "padding": null,
            "grid_auto_rows": null,
            "grid_gap": null,
            "max_width": null,
            "order": null,
            "_view_module_version": "1.2.0",
            "grid_template_areas": null,
            "object_position": null,
            "object_fit": null,
            "grid_auto_columns": null,
            "margin": null,
            "display": null,
            "left": null
          }
        },
        "dc43d1fd358347eeb2664c5e8577368f": {
          "model_module": "@jupyter-widgets/controls",
          "model_name": "HTMLModel",
          "model_module_version": "1.5.0",
          "state": {
            "_view_name": "HTMLView",
            "style": "IPY_MODEL_8af292cb17184ce19f0e292ec7c373bd",
            "_dom_classes": [],
            "description": "",
            "_model_name": "HTMLModel",
            "placeholder": "​",
            "_view_module": "@jupyter-widgets/controls",
            "_model_module_version": "1.5.0",
            "value": "",
            "_view_count": null,
            "_view_module_version": "1.5.0",
            "description_tooltip": null,
            "_model_module": "@jupyter-widgets/controls",
            "layout": "IPY_MODEL_83c44ae0659a413388148acb25f5ea83"
          }
        },
        "6ea1003968da48769abaf145634ea32a": {
          "model_module": "@jupyter-widgets/controls",
          "model_name": "FloatProgressModel",
          "model_module_version": "1.5.0",
          "state": {
            "_view_name": "ProgressView",
            "style": "IPY_MODEL_6b377fbdb2e94625a9d4b87cf3202a02",
            "_dom_classes": [],
            "description": "",
            "_model_name": "FloatProgressModel",
            "bar_style": "info",
            "max": 1,
            "_view_module": "@jupyter-widgets/controls",
            "_model_module_version": "1.5.0",
            "value": 1,
            "_view_count": null,
            "_view_module_version": "1.5.0",
            "orientation": "horizontal",
            "min": 0,
            "description_tooltip": null,
            "_model_module": "@jupyter-widgets/controls",
            "layout": "IPY_MODEL_e6200cdaa9ab4564996d620d25cf1533"
          }
        },
        "e2b8227559cb43dba702c0882733a1ea": {
          "model_module": "@jupyter-widgets/controls",
          "model_name": "HTMLModel",
          "model_module_version": "1.5.0",
          "state": {
            "_view_name": "HTMLView",
            "style": "IPY_MODEL_9a7b7968de2d44eba67e0c88b4f439c8",
            "_dom_classes": [],
            "description": "",
            "_model_name": "HTMLModel",
            "placeholder": "​",
            "_view_module": "@jupyter-widgets/controls",
            "_model_module_version": "1.5.0",
            "value": " 4559/0 [00:00&lt;00:00, 12513.27 examples/s]",
            "_view_count": null,
            "_view_module_version": "1.5.0",
            "description_tooltip": null,
            "_model_module": "@jupyter-widgets/controls",
            "layout": "IPY_MODEL_499325726e434c98a3236b1ce56712c1"
          }
        },
        "8af292cb17184ce19f0e292ec7c373bd": {
          "model_module": "@jupyter-widgets/controls",
          "model_name": "DescriptionStyleModel",
          "model_module_version": "1.5.0",
          "state": {
            "_view_name": "StyleView",
            "_model_name": "DescriptionStyleModel",
            "description_width": "",
            "_view_module": "@jupyter-widgets/base",
            "_model_module_version": "1.5.0",
            "_view_count": null,
            "_view_module_version": "1.2.0",
            "_model_module": "@jupyter-widgets/controls"
          }
        },
        "83c44ae0659a413388148acb25f5ea83": {
          "model_module": "@jupyter-widgets/base",
          "model_name": "LayoutModel",
          "model_module_version": "1.2.0",
          "state": {
            "_view_name": "LayoutView",
            "grid_template_rows": null,
            "right": null,
            "justify_content": null,
            "_view_module": "@jupyter-widgets/base",
            "overflow": null,
            "_model_module_version": "1.2.0",
            "_view_count": null,
            "flex_flow": null,
            "width": null,
            "min_width": null,
            "border": null,
            "align_items": null,
            "bottom": null,
            "_model_module": "@jupyter-widgets/base",
            "top": null,
            "grid_column": null,
            "overflow_y": null,
            "overflow_x": null,
            "grid_auto_flow": null,
            "grid_area": null,
            "grid_template_columns": null,
            "flex": null,
            "_model_name": "LayoutModel",
            "justify_items": null,
            "grid_row": null,
            "max_height": null,
            "align_content": null,
            "visibility": null,
            "align_self": null,
            "height": null,
            "min_height": null,
            "padding": null,
            "grid_auto_rows": null,
            "grid_gap": null,
            "max_width": null,
            "order": null,
            "_view_module_version": "1.2.0",
            "grid_template_areas": null,
            "object_position": null,
            "object_fit": null,
            "grid_auto_columns": null,
            "margin": null,
            "display": null,
            "left": null
          }
        },
        "6b377fbdb2e94625a9d4b87cf3202a02": {
          "model_module": "@jupyter-widgets/controls",
          "model_name": "ProgressStyleModel",
          "model_module_version": "1.5.0",
          "state": {
            "_view_name": "StyleView",
            "_model_name": "ProgressStyleModel",
            "description_width": "",
            "_view_module": "@jupyter-widgets/base",
            "_model_module_version": "1.5.0",
            "_view_count": null,
            "_view_module_version": "1.2.0",
            "bar_color": null,
            "_model_module": "@jupyter-widgets/controls"
          }
        },
        "e6200cdaa9ab4564996d620d25cf1533": {
          "model_module": "@jupyter-widgets/base",
          "model_name": "LayoutModel",
          "model_module_version": "1.2.0",
          "state": {
            "_view_name": "LayoutView",
            "grid_template_rows": null,
            "right": null,
            "justify_content": null,
            "_view_module": "@jupyter-widgets/base",
            "overflow": null,
            "_model_module_version": "1.2.0",
            "_view_count": null,
            "flex_flow": null,
            "width": "20px",
            "min_width": null,
            "border": null,
            "align_items": null,
            "bottom": null,
            "_model_module": "@jupyter-widgets/base",
            "top": null,
            "grid_column": null,
            "overflow_y": null,
            "overflow_x": null,
            "grid_auto_flow": null,
            "grid_area": null,
            "grid_template_columns": null,
            "flex": null,
            "_model_name": "LayoutModel",
            "justify_items": null,
            "grid_row": null,
            "max_height": null,
            "align_content": null,
            "visibility": null,
            "align_self": null,
            "height": null,
            "min_height": null,
            "padding": null,
            "grid_auto_rows": null,
            "grid_gap": null,
            "max_width": null,
            "order": null,
            "_view_module_version": "1.2.0",
            "grid_template_areas": null,
            "object_position": null,
            "object_fit": null,
            "grid_auto_columns": null,
            "margin": null,
            "display": null,
            "left": null
          }
        },
        "9a7b7968de2d44eba67e0c88b4f439c8": {
          "model_module": "@jupyter-widgets/controls",
          "model_name": "DescriptionStyleModel",
          "model_module_version": "1.5.0",
          "state": {
            "_view_name": "StyleView",
            "_model_name": "DescriptionStyleModel",
            "description_width": "",
            "_view_module": "@jupyter-widgets/base",
            "_model_module_version": "1.5.0",
            "_view_count": null,
            "_view_module_version": "1.2.0",
            "_model_module": "@jupyter-widgets/controls"
          }
        },
        "499325726e434c98a3236b1ce56712c1": {
          "model_module": "@jupyter-widgets/base",
          "model_name": "LayoutModel",
          "model_module_version": "1.2.0",
          "state": {
            "_view_name": "LayoutView",
            "grid_template_rows": null,
            "right": null,
            "justify_content": null,
            "_view_module": "@jupyter-widgets/base",
            "overflow": null,
            "_model_module_version": "1.2.0",
            "_view_count": null,
            "flex_flow": null,
            "width": null,
            "min_width": null,
            "border": null,
            "align_items": null,
            "bottom": null,
            "_model_module": "@jupyter-widgets/base",
            "top": null,
            "grid_column": null,
            "overflow_y": null,
            "overflow_x": null,
            "grid_auto_flow": null,
            "grid_area": null,
            "grid_template_columns": null,
            "flex": null,
            "_model_name": "LayoutModel",
            "justify_items": null,
            "grid_row": null,
            "max_height": null,
            "align_content": null,
            "visibility": null,
            "align_self": null,
            "height": null,
            "min_height": null,
            "padding": null,
            "grid_auto_rows": null,
            "grid_gap": null,
            "max_width": null,
            "order": null,
            "_view_module_version": "1.2.0",
            "grid_template_areas": null,
            "object_position": null,
            "object_fit": null,
            "grid_auto_columns": null,
            "margin": null,
            "display": null,
            "left": null
          }
        },
        "91fc94916a594abda00f66372bcfe030": {
          "model_module": "@jupyter-widgets/controls",
          "model_name": "HBoxModel",
          "model_module_version": "1.5.0",
          "state": {
            "_view_name": "HBoxView",
            "_dom_classes": [],
            "_model_name": "HBoxModel",
            "_view_module": "@jupyter-widgets/controls",
            "_model_module_version": "1.5.0",
            "_view_count": null,
            "_view_module_version": "1.5.0",
            "box_style": "",
            "layout": "IPY_MODEL_bbb851bb938949a4ba926f0eaf94bf55",
            "_model_module": "@jupyter-widgets/controls",
            "children": [
              "IPY_MODEL_8e3fec9b87c94bdfbc583d6d9c64629a",
              "IPY_MODEL_f9639cc566cd4dbcb21735d9d3077fae",
              "IPY_MODEL_02f75a1623af498fa57c43cd7684466f"
            ]
          }
        },
        "bbb851bb938949a4ba926f0eaf94bf55": {
          "model_module": "@jupyter-widgets/base",
          "model_name": "LayoutModel",
          "model_module_version": "1.2.0",
          "state": {
            "_view_name": "LayoutView",
            "grid_template_rows": null,
            "right": null,
            "justify_content": null,
            "_view_module": "@jupyter-widgets/base",
            "overflow": null,
            "_model_module_version": "1.2.0",
            "_view_count": null,
            "flex_flow": null,
            "width": null,
            "min_width": null,
            "border": null,
            "align_items": null,
            "bottom": null,
            "_model_module": "@jupyter-widgets/base",
            "top": null,
            "grid_column": null,
            "overflow_y": null,
            "overflow_x": null,
            "grid_auto_flow": null,
            "grid_area": null,
            "grid_template_columns": null,
            "flex": null,
            "_model_name": "LayoutModel",
            "justify_items": null,
            "grid_row": null,
            "max_height": null,
            "align_content": null,
            "visibility": null,
            "align_self": null,
            "height": null,
            "min_height": null,
            "padding": null,
            "grid_auto_rows": null,
            "grid_gap": null,
            "max_width": null,
            "order": null,
            "_view_module_version": "1.2.0",
            "grid_template_areas": null,
            "object_position": null,
            "object_fit": null,
            "grid_auto_columns": null,
            "margin": null,
            "display": null,
            "left": null
          }
        },
        "8e3fec9b87c94bdfbc583d6d9c64629a": {
          "model_module": "@jupyter-widgets/controls",
          "model_name": "HTMLModel",
          "model_module_version": "1.5.0",
          "state": {
            "_view_name": "HTMLView",
            "style": "IPY_MODEL_09d827de2aae4cef9ba9039b494c02d4",
            "_dom_classes": [],
            "description": "",
            "_model_name": "HTMLModel",
            "placeholder": "​",
            "_view_module": "@jupyter-widgets/controls",
            "_model_module_version": "1.5.0",
            "value": "",
            "_view_count": null,
            "_view_module_version": "1.5.0",
            "description_tooltip": null,
            "_model_module": "@jupyter-widgets/controls",
            "layout": "IPY_MODEL_7f5128da51af4126bd9b6c73f34cb107"
          }
        },
        "f9639cc566cd4dbcb21735d9d3077fae": {
          "model_module": "@jupyter-widgets/controls",
          "model_name": "FloatProgressModel",
          "model_module_version": "1.5.0",
          "state": {
            "_view_name": "ProgressView",
            "style": "IPY_MODEL_aafda8d2f892498dbe8887c58c57a1cf",
            "_dom_classes": [],
            "description": "",
            "_model_name": "FloatProgressModel",
            "bar_style": "info",
            "max": 1,
            "_view_module": "@jupyter-widgets/controls",
            "_model_module_version": "1.5.0",
            "value": 1,
            "_view_count": null,
            "_view_module_version": "1.5.0",
            "orientation": "horizontal",
            "min": 0,
            "description_tooltip": null,
            "_model_module": "@jupyter-widgets/controls",
            "layout": "IPY_MODEL_0385922b193b4d5a8b73811e733aabb6"
          }
        },
        "02f75a1623af498fa57c43cd7684466f": {
          "model_module": "@jupyter-widgets/controls",
          "model_name": "HTMLModel",
          "model_module_version": "1.5.0",
          "state": {
            "_view_name": "HTMLView",
            "style": "IPY_MODEL_8242a679bc5f4747b33547f684d156ef",
            "_dom_classes": [],
            "description": "",
            "_model_name": "HTMLModel",
            "placeholder": "​",
            "_view_module": "@jupyter-widgets/controls",
            "_model_module_version": "1.5.0",
            "value": " 4516/0 [00:00&lt;00:00, 11793.64 examples/s]",
            "_view_count": null,
            "_view_module_version": "1.5.0",
            "description_tooltip": null,
            "_model_module": "@jupyter-widgets/controls",
            "layout": "IPY_MODEL_66f5ec23a5444ad486c07600fb2fc203"
          }
        },
        "09d827de2aae4cef9ba9039b494c02d4": {
          "model_module": "@jupyter-widgets/controls",
          "model_name": "DescriptionStyleModel",
          "model_module_version": "1.5.0",
          "state": {
            "_view_name": "StyleView",
            "_model_name": "DescriptionStyleModel",
            "description_width": "",
            "_view_module": "@jupyter-widgets/base",
            "_model_module_version": "1.5.0",
            "_view_count": null,
            "_view_module_version": "1.2.0",
            "_model_module": "@jupyter-widgets/controls"
          }
        },
        "7f5128da51af4126bd9b6c73f34cb107": {
          "model_module": "@jupyter-widgets/base",
          "model_name": "LayoutModel",
          "model_module_version": "1.2.0",
          "state": {
            "_view_name": "LayoutView",
            "grid_template_rows": null,
            "right": null,
            "justify_content": null,
            "_view_module": "@jupyter-widgets/base",
            "overflow": null,
            "_model_module_version": "1.2.0",
            "_view_count": null,
            "flex_flow": null,
            "width": null,
            "min_width": null,
            "border": null,
            "align_items": null,
            "bottom": null,
            "_model_module": "@jupyter-widgets/base",
            "top": null,
            "grid_column": null,
            "overflow_y": null,
            "overflow_x": null,
            "grid_auto_flow": null,
            "grid_area": null,
            "grid_template_columns": null,
            "flex": null,
            "_model_name": "LayoutModel",
            "justify_items": null,
            "grid_row": null,
            "max_height": null,
            "align_content": null,
            "visibility": null,
            "align_self": null,
            "height": null,
            "min_height": null,
            "padding": null,
            "grid_auto_rows": null,
            "grid_gap": null,
            "max_width": null,
            "order": null,
            "_view_module_version": "1.2.0",
            "grid_template_areas": null,
            "object_position": null,
            "object_fit": null,
            "grid_auto_columns": null,
            "margin": null,
            "display": null,
            "left": null
          }
        },
        "aafda8d2f892498dbe8887c58c57a1cf": {
          "model_module": "@jupyter-widgets/controls",
          "model_name": "ProgressStyleModel",
          "model_module_version": "1.5.0",
          "state": {
            "_view_name": "StyleView",
            "_model_name": "ProgressStyleModel",
            "description_width": "",
            "_view_module": "@jupyter-widgets/base",
            "_model_module_version": "1.5.0",
            "_view_count": null,
            "_view_module_version": "1.2.0",
            "bar_color": null,
            "_model_module": "@jupyter-widgets/controls"
          }
        },
        "0385922b193b4d5a8b73811e733aabb6": {
          "model_module": "@jupyter-widgets/base",
          "model_name": "LayoutModel",
          "model_module_version": "1.2.0",
          "state": {
            "_view_name": "LayoutView",
            "grid_template_rows": null,
            "right": null,
            "justify_content": null,
            "_view_module": "@jupyter-widgets/base",
            "overflow": null,
            "_model_module_version": "1.2.0",
            "_view_count": null,
            "flex_flow": null,
            "width": "20px",
            "min_width": null,
            "border": null,
            "align_items": null,
            "bottom": null,
            "_model_module": "@jupyter-widgets/base",
            "top": null,
            "grid_column": null,
            "overflow_y": null,
            "overflow_x": null,
            "grid_auto_flow": null,
            "grid_area": null,
            "grid_template_columns": null,
            "flex": null,
            "_model_name": "LayoutModel",
            "justify_items": null,
            "grid_row": null,
            "max_height": null,
            "align_content": null,
            "visibility": null,
            "align_self": null,
            "height": null,
            "min_height": null,
            "padding": null,
            "grid_auto_rows": null,
            "grid_gap": null,
            "max_width": null,
            "order": null,
            "_view_module_version": "1.2.0",
            "grid_template_areas": null,
            "object_position": null,
            "object_fit": null,
            "grid_auto_columns": null,
            "margin": null,
            "display": null,
            "left": null
          }
        },
        "8242a679bc5f4747b33547f684d156ef": {
          "model_module": "@jupyter-widgets/controls",
          "model_name": "DescriptionStyleModel",
          "model_module_version": "1.5.0",
          "state": {
            "_view_name": "StyleView",
            "_model_name": "DescriptionStyleModel",
            "description_width": "",
            "_view_module": "@jupyter-widgets/base",
            "_model_module_version": "1.5.0",
            "_view_count": null,
            "_view_module_version": "1.2.0",
            "_model_module": "@jupyter-widgets/controls"
          }
        },
        "66f5ec23a5444ad486c07600fb2fc203": {
          "model_module": "@jupyter-widgets/base",
          "model_name": "LayoutModel",
          "model_module_version": "1.2.0",
          "state": {
            "_view_name": "LayoutView",
            "grid_template_rows": null,
            "right": null,
            "justify_content": null,
            "_view_module": "@jupyter-widgets/base",
            "overflow": null,
            "_model_module_version": "1.2.0",
            "_view_count": null,
            "flex_flow": null,
            "width": null,
            "min_width": null,
            "border": null,
            "align_items": null,
            "bottom": null,
            "_model_module": "@jupyter-widgets/base",
            "top": null,
            "grid_column": null,
            "overflow_y": null,
            "overflow_x": null,
            "grid_auto_flow": null,
            "grid_area": null,
            "grid_template_columns": null,
            "flex": null,
            "_model_name": "LayoutModel",
            "justify_items": null,
            "grid_row": null,
            "max_height": null,
            "align_content": null,
            "visibility": null,
            "align_self": null,
            "height": null,
            "min_height": null,
            "padding": null,
            "grid_auto_rows": null,
            "grid_gap": null,
            "max_width": null,
            "order": null,
            "_view_module_version": "1.2.0",
            "grid_template_areas": null,
            "object_position": null,
            "object_fit": null,
            "grid_auto_columns": null,
            "margin": null,
            "display": null,
            "left": null
          }
        },
        "89724549cadd4327902ab5891fb248ef": {
          "model_module": "@jupyter-widgets/controls",
          "model_name": "HBoxModel",
          "model_module_version": "1.5.0",
          "state": {
            "_view_name": "HBoxView",
            "_dom_classes": [],
            "_model_name": "HBoxModel",
            "_view_module": "@jupyter-widgets/controls",
            "_model_module_version": "1.5.0",
            "_view_count": null,
            "_view_module_version": "1.5.0",
            "box_style": "",
            "layout": "IPY_MODEL_e9d104bc5c274677aac2fdbb97077fa2",
            "_model_module": "@jupyter-widgets/controls",
            "children": [
              "IPY_MODEL_8ba7c26b15bd42cdbfae5f0f4fb3cc50",
              "IPY_MODEL_4c8d7644abc24232b65d5dd5222c980d",
              "IPY_MODEL_ff7e687ad83d43f48b0e1378ba584b9e"
            ]
          }
        },
        "e9d104bc5c274677aac2fdbb97077fa2": {
          "model_module": "@jupyter-widgets/base",
          "model_name": "LayoutModel",
          "model_module_version": "1.2.0",
          "state": {
            "_view_name": "LayoutView",
            "grid_template_rows": null,
            "right": null,
            "justify_content": null,
            "_view_module": "@jupyter-widgets/base",
            "overflow": null,
            "_model_module_version": "1.2.0",
            "_view_count": null,
            "flex_flow": null,
            "width": null,
            "min_width": null,
            "border": null,
            "align_items": null,
            "bottom": null,
            "_model_module": "@jupyter-widgets/base",
            "top": null,
            "grid_column": null,
            "overflow_y": null,
            "overflow_x": null,
            "grid_auto_flow": null,
            "grid_area": null,
            "grid_template_columns": null,
            "flex": null,
            "_model_name": "LayoutModel",
            "justify_items": null,
            "grid_row": null,
            "max_height": null,
            "align_content": null,
            "visibility": null,
            "align_self": null,
            "height": null,
            "min_height": null,
            "padding": null,
            "grid_auto_rows": null,
            "grid_gap": null,
            "max_width": null,
            "order": null,
            "_view_module_version": "1.2.0",
            "grid_template_areas": null,
            "object_position": null,
            "object_fit": null,
            "grid_auto_columns": null,
            "margin": null,
            "display": null,
            "left": null
          }
        },
        "8ba7c26b15bd42cdbfae5f0f4fb3cc50": {
          "model_module": "@jupyter-widgets/controls",
          "model_name": "HTMLModel",
          "model_module_version": "1.5.0",
          "state": {
            "_view_name": "HTMLView",
            "style": "IPY_MODEL_1cbf46a2b4c645a3af95b9fc9c0d1dda",
            "_dom_classes": [],
            "description": "",
            "_model_name": "HTMLModel",
            "placeholder": "​",
            "_view_module": "@jupyter-widgets/controls",
            "_model_module_version": "1.5.0",
            "value": "Downloading: 100%",
            "_view_count": null,
            "_view_module_version": "1.5.0",
            "description_tooltip": null,
            "_model_module": "@jupyter-widgets/controls",
            "layout": "IPY_MODEL_148ed41c27b24a0f830b8da854737c70"
          }
        },
        "4c8d7644abc24232b65d5dd5222c980d": {
          "model_module": "@jupyter-widgets/controls",
          "model_name": "FloatProgressModel",
          "model_module_version": "1.5.0",
          "state": {
            "_view_name": "ProgressView",
            "style": "IPY_MODEL_e6233085f735444291aab42f7e9c6e44",
            "_dom_classes": [],
            "description": "",
            "_model_name": "FloatProgressModel",
            "bar_style": "success",
            "max": 173939,
            "_view_module": "@jupyter-widgets/controls",
            "_model_module_version": "1.5.0",
            "value": 173939,
            "_view_count": null,
            "_view_module_version": "1.5.0",
            "orientation": "horizontal",
            "min": 0,
            "description_tooltip": null,
            "_model_module": "@jupyter-widgets/controls",
            "layout": "IPY_MODEL_1840b480bc804f25b506d1b8c4152233"
          }
        },
        "ff7e687ad83d43f48b0e1378ba584b9e": {
          "model_module": "@jupyter-widgets/controls",
          "model_name": "HTMLModel",
          "model_module_version": "1.5.0",
          "state": {
            "_view_name": "HTMLView",
            "style": "IPY_MODEL_d332b22708ca48c19401f27b7babdfb1",
            "_dom_classes": [],
            "description": "",
            "_model_name": "HTMLModel",
            "placeholder": "​",
            "_view_module": "@jupyter-widgets/controls",
            "_model_module_version": "1.5.0",
            "value": " 174k/174k [00:00&lt;00:00, 1.09MB/s]",
            "_view_count": null,
            "_view_module_version": "1.5.0",
            "description_tooltip": null,
            "_model_module": "@jupyter-widgets/controls",
            "layout": "IPY_MODEL_ac5045aa7f2e45e595c861ef394422ce"
          }
        },
        "1cbf46a2b4c645a3af95b9fc9c0d1dda": {
          "model_module": "@jupyter-widgets/controls",
          "model_name": "DescriptionStyleModel",
          "model_module_version": "1.5.0",
          "state": {
            "_view_name": "StyleView",
            "_model_name": "DescriptionStyleModel",
            "description_width": "",
            "_view_module": "@jupyter-widgets/base",
            "_model_module_version": "1.5.0",
            "_view_count": null,
            "_view_module_version": "1.2.0",
            "_model_module": "@jupyter-widgets/controls"
          }
        },
        "148ed41c27b24a0f830b8da854737c70": {
          "model_module": "@jupyter-widgets/base",
          "model_name": "LayoutModel",
          "model_module_version": "1.2.0",
          "state": {
            "_view_name": "LayoutView",
            "grid_template_rows": null,
            "right": null,
            "justify_content": null,
            "_view_module": "@jupyter-widgets/base",
            "overflow": null,
            "_model_module_version": "1.2.0",
            "_view_count": null,
            "flex_flow": null,
            "width": null,
            "min_width": null,
            "border": null,
            "align_items": null,
            "bottom": null,
            "_model_module": "@jupyter-widgets/base",
            "top": null,
            "grid_column": null,
            "overflow_y": null,
            "overflow_x": null,
            "grid_auto_flow": null,
            "grid_area": null,
            "grid_template_columns": null,
            "flex": null,
            "_model_name": "LayoutModel",
            "justify_items": null,
            "grid_row": null,
            "max_height": null,
            "align_content": null,
            "visibility": null,
            "align_self": null,
            "height": null,
            "min_height": null,
            "padding": null,
            "grid_auto_rows": null,
            "grid_gap": null,
            "max_width": null,
            "order": null,
            "_view_module_version": "1.2.0",
            "grid_template_areas": null,
            "object_position": null,
            "object_fit": null,
            "grid_auto_columns": null,
            "margin": null,
            "display": null,
            "left": null
          }
        },
        "e6233085f735444291aab42f7e9c6e44": {
          "model_module": "@jupyter-widgets/controls",
          "model_name": "ProgressStyleModel",
          "model_module_version": "1.5.0",
          "state": {
            "_view_name": "StyleView",
            "_model_name": "ProgressStyleModel",
            "description_width": "",
            "_view_module": "@jupyter-widgets/base",
            "_model_module_version": "1.5.0",
            "_view_count": null,
            "_view_module_version": "1.2.0",
            "bar_color": null,
            "_model_module": "@jupyter-widgets/controls"
          }
        },
        "1840b480bc804f25b506d1b8c4152233": {
          "model_module": "@jupyter-widgets/base",
          "model_name": "LayoutModel",
          "model_module_version": "1.2.0",
          "state": {
            "_view_name": "LayoutView",
            "grid_template_rows": null,
            "right": null,
            "justify_content": null,
            "_view_module": "@jupyter-widgets/base",
            "overflow": null,
            "_model_module_version": "1.2.0",
            "_view_count": null,
            "flex_flow": null,
            "width": null,
            "min_width": null,
            "border": null,
            "align_items": null,
            "bottom": null,
            "_model_module": "@jupyter-widgets/base",
            "top": null,
            "grid_column": null,
            "overflow_y": null,
            "overflow_x": null,
            "grid_auto_flow": null,
            "grid_area": null,
            "grid_template_columns": null,
            "flex": null,
            "_model_name": "LayoutModel",
            "justify_items": null,
            "grid_row": null,
            "max_height": null,
            "align_content": null,
            "visibility": null,
            "align_self": null,
            "height": null,
            "min_height": null,
            "padding": null,
            "grid_auto_rows": null,
            "grid_gap": null,
            "max_width": null,
            "order": null,
            "_view_module_version": "1.2.0",
            "grid_template_areas": null,
            "object_position": null,
            "object_fit": null,
            "grid_auto_columns": null,
            "margin": null,
            "display": null,
            "left": null
          }
        },
        "d332b22708ca48c19401f27b7babdfb1": {
          "model_module": "@jupyter-widgets/controls",
          "model_name": "DescriptionStyleModel",
          "model_module_version": "1.5.0",
          "state": {
            "_view_name": "StyleView",
            "_model_name": "DescriptionStyleModel",
            "description_width": "",
            "_view_module": "@jupyter-widgets/base",
            "_model_module_version": "1.5.0",
            "_view_count": null,
            "_view_module_version": "1.2.0",
            "_model_module": "@jupyter-widgets/controls"
          }
        },
        "ac5045aa7f2e45e595c861ef394422ce": {
          "model_module": "@jupyter-widgets/base",
          "model_name": "LayoutModel",
          "model_module_version": "1.2.0",
          "state": {
            "_view_name": "LayoutView",
            "grid_template_rows": null,
            "right": null,
            "justify_content": null,
            "_view_module": "@jupyter-widgets/base",
            "overflow": null,
            "_model_module_version": "1.2.0",
            "_view_count": null,
            "flex_flow": null,
            "width": null,
            "min_width": null,
            "border": null,
            "align_items": null,
            "bottom": null,
            "_model_module": "@jupyter-widgets/base",
            "top": null,
            "grid_column": null,
            "overflow_y": null,
            "overflow_x": null,
            "grid_auto_flow": null,
            "grid_area": null,
            "grid_template_columns": null,
            "flex": null,
            "_model_name": "LayoutModel",
            "justify_items": null,
            "grid_row": null,
            "max_height": null,
            "align_content": null,
            "visibility": null,
            "align_self": null,
            "height": null,
            "min_height": null,
            "padding": null,
            "grid_auto_rows": null,
            "grid_gap": null,
            "max_width": null,
            "order": null,
            "_view_module_version": "1.2.0",
            "grid_template_areas": null,
            "object_position": null,
            "object_fit": null,
            "grid_auto_columns": null,
            "margin": null,
            "display": null,
            "left": null
          }
        },
        "a6531fa219aa4a68a411b02a724bdf44": {
          "model_module": "@jupyter-widgets/controls",
          "model_name": "HBoxModel",
          "model_module_version": "1.5.0",
          "state": {
            "_view_name": "HBoxView",
            "_dom_classes": [],
            "_model_name": "HBoxModel",
            "_view_module": "@jupyter-widgets/controls",
            "_model_module_version": "1.5.0",
            "_view_count": null,
            "_view_module_version": "1.5.0",
            "box_style": "",
            "layout": "IPY_MODEL_3b60debe2eec4364a808fec5fb817327",
            "_model_module": "@jupyter-widgets/controls",
            "children": [
              "IPY_MODEL_3d3cce12e74d4a54b5c198d1b0453c1f",
              "IPY_MODEL_2089a54f7b354abd8eade30aeb351808",
              "IPY_MODEL_7fed86f36517470bb50bba69048ce9ad"
            ]
          }
        },
        "3b60debe2eec4364a808fec5fb817327": {
          "model_module": "@jupyter-widgets/base",
          "model_name": "LayoutModel",
          "model_module_version": "1.2.0",
          "state": {
            "_view_name": "LayoutView",
            "grid_template_rows": null,
            "right": null,
            "justify_content": null,
            "_view_module": "@jupyter-widgets/base",
            "overflow": null,
            "_model_module_version": "1.2.0",
            "_view_count": null,
            "flex_flow": null,
            "width": null,
            "min_width": null,
            "border": null,
            "align_items": null,
            "bottom": null,
            "_model_module": "@jupyter-widgets/base",
            "top": null,
            "grid_column": null,
            "overflow_y": null,
            "overflow_x": null,
            "grid_auto_flow": null,
            "grid_area": null,
            "grid_template_columns": null,
            "flex": null,
            "_model_name": "LayoutModel",
            "justify_items": null,
            "grid_row": null,
            "max_height": null,
            "align_content": null,
            "visibility": null,
            "align_self": null,
            "height": null,
            "min_height": null,
            "padding": null,
            "grid_auto_rows": null,
            "grid_gap": null,
            "max_width": null,
            "order": null,
            "_view_module_version": "1.2.0",
            "grid_template_areas": null,
            "object_position": null,
            "object_fit": null,
            "grid_auto_columns": null,
            "margin": null,
            "display": null,
            "left": null
          }
        },
        "3d3cce12e74d4a54b5c198d1b0453c1f": {
          "model_module": "@jupyter-widgets/controls",
          "model_name": "HTMLModel",
          "model_module_version": "1.5.0",
          "state": {
            "_view_name": "HTMLView",
            "style": "IPY_MODEL_8548d86980c641299a81def388e56c4c",
            "_dom_classes": [],
            "description": "",
            "_model_name": "HTMLModel",
            "placeholder": "​",
            "_view_module": "@jupyter-widgets/controls",
            "_model_module_version": "1.5.0",
            "value": "Downloading: 100%",
            "_view_count": null,
            "_view_module_version": "1.5.0",
            "description_tooltip": null,
            "_model_module": "@jupyter-widgets/controls",
            "layout": "IPY_MODEL_f0e2fc35ca0444bbadf4ace074652868"
          }
        },
        "2089a54f7b354abd8eade30aeb351808": {
          "model_module": "@jupyter-widgets/controls",
          "model_name": "FloatProgressModel",
          "model_module_version": "1.5.0",
          "state": {
            "_view_name": "ProgressView",
            "style": "IPY_MODEL_b0fec05c6a7b4304afa33e5a8be5b1f9",
            "_dom_classes": [],
            "description": "",
            "_model_name": "FloatProgressModel",
            "bar_style": "success",
            "max": 49,
            "_view_module": "@jupyter-widgets/controls",
            "_model_module_version": "1.5.0",
            "value": 49,
            "_view_count": null,
            "_view_module_version": "1.5.0",
            "orientation": "horizontal",
            "min": 0,
            "description_tooltip": null,
            "_model_module": "@jupyter-widgets/controls",
            "layout": "IPY_MODEL_660857becec8462ebb1a12c2c085b397"
          }
        },
        "7fed86f36517470bb50bba69048ce9ad": {
          "model_module": "@jupyter-widgets/controls",
          "model_name": "HTMLModel",
          "model_module_version": "1.5.0",
          "state": {
            "_view_name": "HTMLView",
            "style": "IPY_MODEL_a704f1f772fb446395222557ec939be1",
            "_dom_classes": [],
            "description": "",
            "_model_name": "HTMLModel",
            "placeholder": "​",
            "_view_module": "@jupyter-widgets/controls",
            "_model_module_version": "1.5.0",
            "value": " 49.0/49.0 [00:00&lt;00:00, 1.20kB/s]",
            "_view_count": null,
            "_view_module_version": "1.5.0",
            "description_tooltip": null,
            "_model_module": "@jupyter-widgets/controls",
            "layout": "IPY_MODEL_d82272170c6d41b89041e917ffd32c4b"
          }
        },
        "8548d86980c641299a81def388e56c4c": {
          "model_module": "@jupyter-widgets/controls",
          "model_name": "DescriptionStyleModel",
          "model_module_version": "1.5.0",
          "state": {
            "_view_name": "StyleView",
            "_model_name": "DescriptionStyleModel",
            "description_width": "",
            "_view_module": "@jupyter-widgets/base",
            "_model_module_version": "1.5.0",
            "_view_count": null,
            "_view_module_version": "1.2.0",
            "_model_module": "@jupyter-widgets/controls"
          }
        },
        "f0e2fc35ca0444bbadf4ace074652868": {
          "model_module": "@jupyter-widgets/base",
          "model_name": "LayoutModel",
          "model_module_version": "1.2.0",
          "state": {
            "_view_name": "LayoutView",
            "grid_template_rows": null,
            "right": null,
            "justify_content": null,
            "_view_module": "@jupyter-widgets/base",
            "overflow": null,
            "_model_module_version": "1.2.0",
            "_view_count": null,
            "flex_flow": null,
            "width": null,
            "min_width": null,
            "border": null,
            "align_items": null,
            "bottom": null,
            "_model_module": "@jupyter-widgets/base",
            "top": null,
            "grid_column": null,
            "overflow_y": null,
            "overflow_x": null,
            "grid_auto_flow": null,
            "grid_area": null,
            "grid_template_columns": null,
            "flex": null,
            "_model_name": "LayoutModel",
            "justify_items": null,
            "grid_row": null,
            "max_height": null,
            "align_content": null,
            "visibility": null,
            "align_self": null,
            "height": null,
            "min_height": null,
            "padding": null,
            "grid_auto_rows": null,
            "grid_gap": null,
            "max_width": null,
            "order": null,
            "_view_module_version": "1.2.0",
            "grid_template_areas": null,
            "object_position": null,
            "object_fit": null,
            "grid_auto_columns": null,
            "margin": null,
            "display": null,
            "left": null
          }
        },
        "b0fec05c6a7b4304afa33e5a8be5b1f9": {
          "model_module": "@jupyter-widgets/controls",
          "model_name": "ProgressStyleModel",
          "model_module_version": "1.5.0",
          "state": {
            "_view_name": "StyleView",
            "_model_name": "ProgressStyleModel",
            "description_width": "",
            "_view_module": "@jupyter-widgets/base",
            "_model_module_version": "1.5.0",
            "_view_count": null,
            "_view_module_version": "1.2.0",
            "bar_color": null,
            "_model_module": "@jupyter-widgets/controls"
          }
        },
        "660857becec8462ebb1a12c2c085b397": {
          "model_module": "@jupyter-widgets/base",
          "model_name": "LayoutModel",
          "model_module_version": "1.2.0",
          "state": {
            "_view_name": "LayoutView",
            "grid_template_rows": null,
            "right": null,
            "justify_content": null,
            "_view_module": "@jupyter-widgets/base",
            "overflow": null,
            "_model_module_version": "1.2.0",
            "_view_count": null,
            "flex_flow": null,
            "width": null,
            "min_width": null,
            "border": null,
            "align_items": null,
            "bottom": null,
            "_model_module": "@jupyter-widgets/base",
            "top": null,
            "grid_column": null,
            "overflow_y": null,
            "overflow_x": null,
            "grid_auto_flow": null,
            "grid_area": null,
            "grid_template_columns": null,
            "flex": null,
            "_model_name": "LayoutModel",
            "justify_items": null,
            "grid_row": null,
            "max_height": null,
            "align_content": null,
            "visibility": null,
            "align_self": null,
            "height": null,
            "min_height": null,
            "padding": null,
            "grid_auto_rows": null,
            "grid_gap": null,
            "max_width": null,
            "order": null,
            "_view_module_version": "1.2.0",
            "grid_template_areas": null,
            "object_position": null,
            "object_fit": null,
            "grid_auto_columns": null,
            "margin": null,
            "display": null,
            "left": null
          }
        },
        "a704f1f772fb446395222557ec939be1": {
          "model_module": "@jupyter-widgets/controls",
          "model_name": "DescriptionStyleModel",
          "model_module_version": "1.5.0",
          "state": {
            "_view_name": "StyleView",
            "_model_name": "DescriptionStyleModel",
            "description_width": "",
            "_view_module": "@jupyter-widgets/base",
            "_model_module_version": "1.5.0",
            "_view_count": null,
            "_view_module_version": "1.2.0",
            "_model_module": "@jupyter-widgets/controls"
          }
        },
        "d82272170c6d41b89041e917ffd32c4b": {
          "model_module": "@jupyter-widgets/base",
          "model_name": "LayoutModel",
          "model_module_version": "1.2.0",
          "state": {
            "_view_name": "LayoutView",
            "grid_template_rows": null,
            "right": null,
            "justify_content": null,
            "_view_module": "@jupyter-widgets/base",
            "overflow": null,
            "_model_module_version": "1.2.0",
            "_view_count": null,
            "flex_flow": null,
            "width": null,
            "min_width": null,
            "border": null,
            "align_items": null,
            "bottom": null,
            "_model_module": "@jupyter-widgets/base",
            "top": null,
            "grid_column": null,
            "overflow_y": null,
            "overflow_x": null,
            "grid_auto_flow": null,
            "grid_area": null,
            "grid_template_columns": null,
            "flex": null,
            "_model_name": "LayoutModel",
            "justify_items": null,
            "grid_row": null,
            "max_height": null,
            "align_content": null,
            "visibility": null,
            "align_self": null,
            "height": null,
            "min_height": null,
            "padding": null,
            "grid_auto_rows": null,
            "grid_gap": null,
            "max_width": null,
            "order": null,
            "_view_module_version": "1.2.0",
            "grid_template_areas": null,
            "object_position": null,
            "object_fit": null,
            "grid_auto_columns": null,
            "margin": null,
            "display": null,
            "left": null
          }
        },
        "f4bf3160022e4263bd00f7bd30aa0f66": {
          "model_module": "@jupyter-widgets/controls",
          "model_name": "HBoxModel",
          "model_module_version": "1.5.0",
          "state": {
            "_view_name": "HBoxView",
            "_dom_classes": [],
            "_model_name": "HBoxModel",
            "_view_module": "@jupyter-widgets/controls",
            "_model_module_version": "1.5.0",
            "_view_count": null,
            "_view_module_version": "1.5.0",
            "box_style": "",
            "layout": "IPY_MODEL_97478cb2c92644d2aa1919eeb9f3f1c7",
            "_model_module": "@jupyter-widgets/controls",
            "children": [
              "IPY_MODEL_9b410aff7f874cc78c399aecfc7a5e1d",
              "IPY_MODEL_d0dfe132d9a341ee96709da8b6e75b21",
              "IPY_MODEL_396ac60df7ac4059b8139a23a281ff75"
            ]
          }
        },
        "97478cb2c92644d2aa1919eeb9f3f1c7": {
          "model_module": "@jupyter-widgets/base",
          "model_name": "LayoutModel",
          "model_module_version": "1.2.0",
          "state": {
            "_view_name": "LayoutView",
            "grid_template_rows": null,
            "right": null,
            "justify_content": null,
            "_view_module": "@jupyter-widgets/base",
            "overflow": null,
            "_model_module_version": "1.2.0",
            "_view_count": null,
            "flex_flow": null,
            "width": null,
            "min_width": null,
            "border": null,
            "align_items": null,
            "bottom": null,
            "_model_module": "@jupyter-widgets/base",
            "top": null,
            "grid_column": null,
            "overflow_y": null,
            "overflow_x": null,
            "grid_auto_flow": null,
            "grid_area": null,
            "grid_template_columns": null,
            "flex": null,
            "_model_name": "LayoutModel",
            "justify_items": null,
            "grid_row": null,
            "max_height": null,
            "align_content": null,
            "visibility": null,
            "align_self": null,
            "height": null,
            "min_height": null,
            "padding": null,
            "grid_auto_rows": null,
            "grid_gap": null,
            "max_width": null,
            "order": null,
            "_view_module_version": "1.2.0",
            "grid_template_areas": null,
            "object_position": null,
            "object_fit": null,
            "grid_auto_columns": null,
            "margin": null,
            "display": null,
            "left": null
          }
        },
        "9b410aff7f874cc78c399aecfc7a5e1d": {
          "model_module": "@jupyter-widgets/controls",
          "model_name": "HTMLModel",
          "model_module_version": "1.5.0",
          "state": {
            "_view_name": "HTMLView",
            "style": "IPY_MODEL_417bb35c41a84c9080ee0ea11e38420f",
            "_dom_classes": [],
            "description": "",
            "_model_name": "HTMLModel",
            "placeholder": "​",
            "_view_module": "@jupyter-widgets/controls",
            "_model_module_version": "1.5.0",
            "value": "Downloading: 100%",
            "_view_count": null,
            "_view_module_version": "1.5.0",
            "description_tooltip": null,
            "_model_module": "@jupyter-widgets/controls",
            "layout": "IPY_MODEL_1e9877ed28834a3398b7f2c59dbf930f"
          }
        },
        "d0dfe132d9a341ee96709da8b6e75b21": {
          "model_module": "@jupyter-widgets/controls",
          "model_name": "FloatProgressModel",
          "model_module_version": "1.5.0",
          "state": {
            "_view_name": "ProgressView",
            "style": "IPY_MODEL_9eefd210f5214297b47416df99158c6a",
            "_dom_classes": [],
            "description": "",
            "_model_name": "FloatProgressModel",
            "bar_style": "success",
            "max": 659,
            "_view_module": "@jupyter-widgets/controls",
            "_model_module_version": "1.5.0",
            "value": 659,
            "_view_count": null,
            "_view_module_version": "1.5.0",
            "orientation": "horizontal",
            "min": 0,
            "description_tooltip": null,
            "_model_module": "@jupyter-widgets/controls",
            "layout": "IPY_MODEL_97989016859f44d9aaef1c556730b794"
          }
        },
        "396ac60df7ac4059b8139a23a281ff75": {
          "model_module": "@jupyter-widgets/controls",
          "model_name": "HTMLModel",
          "model_module_version": "1.5.0",
          "state": {
            "_view_name": "HTMLView",
            "style": "IPY_MODEL_3a5413c74a094495bd44b3c125792e53",
            "_dom_classes": [],
            "description": "",
            "_model_name": "HTMLModel",
            "placeholder": "​",
            "_view_module": "@jupyter-widgets/controls",
            "_model_module_version": "1.5.0",
            "value": " 659/659 [00:00&lt;00:00, 17.1kB/s]",
            "_view_count": null,
            "_view_module_version": "1.5.0",
            "description_tooltip": null,
            "_model_module": "@jupyter-widgets/controls",
            "layout": "IPY_MODEL_e23c3efbdd464c28a7d420da3738b2a4"
          }
        },
        "417bb35c41a84c9080ee0ea11e38420f": {
          "model_module": "@jupyter-widgets/controls",
          "model_name": "DescriptionStyleModel",
          "model_module_version": "1.5.0",
          "state": {
            "_view_name": "StyleView",
            "_model_name": "DescriptionStyleModel",
            "description_width": "",
            "_view_module": "@jupyter-widgets/base",
            "_model_module_version": "1.5.0",
            "_view_count": null,
            "_view_module_version": "1.2.0",
            "_model_module": "@jupyter-widgets/controls"
          }
        },
        "1e9877ed28834a3398b7f2c59dbf930f": {
          "model_module": "@jupyter-widgets/base",
          "model_name": "LayoutModel",
          "model_module_version": "1.2.0",
          "state": {
            "_view_name": "LayoutView",
            "grid_template_rows": null,
            "right": null,
            "justify_content": null,
            "_view_module": "@jupyter-widgets/base",
            "overflow": null,
            "_model_module_version": "1.2.0",
            "_view_count": null,
            "flex_flow": null,
            "width": null,
            "min_width": null,
            "border": null,
            "align_items": null,
            "bottom": null,
            "_model_module": "@jupyter-widgets/base",
            "top": null,
            "grid_column": null,
            "overflow_y": null,
            "overflow_x": null,
            "grid_auto_flow": null,
            "grid_area": null,
            "grid_template_columns": null,
            "flex": null,
            "_model_name": "LayoutModel",
            "justify_items": null,
            "grid_row": null,
            "max_height": null,
            "align_content": null,
            "visibility": null,
            "align_self": null,
            "height": null,
            "min_height": null,
            "padding": null,
            "grid_auto_rows": null,
            "grid_gap": null,
            "max_width": null,
            "order": null,
            "_view_module_version": "1.2.0",
            "grid_template_areas": null,
            "object_position": null,
            "object_fit": null,
            "grid_auto_columns": null,
            "margin": null,
            "display": null,
            "left": null
          }
        },
        "9eefd210f5214297b47416df99158c6a": {
          "model_module": "@jupyter-widgets/controls",
          "model_name": "ProgressStyleModel",
          "model_module_version": "1.5.0",
          "state": {
            "_view_name": "StyleView",
            "_model_name": "ProgressStyleModel",
            "description_width": "",
            "_view_module": "@jupyter-widgets/base",
            "_model_module_version": "1.5.0",
            "_view_count": null,
            "_view_module_version": "1.2.0",
            "bar_color": null,
            "_model_module": "@jupyter-widgets/controls"
          }
        },
        "97989016859f44d9aaef1c556730b794": {
          "model_module": "@jupyter-widgets/base",
          "model_name": "LayoutModel",
          "model_module_version": "1.2.0",
          "state": {
            "_view_name": "LayoutView",
            "grid_template_rows": null,
            "right": null,
            "justify_content": null,
            "_view_module": "@jupyter-widgets/base",
            "overflow": null,
            "_model_module_version": "1.2.0",
            "_view_count": null,
            "flex_flow": null,
            "width": null,
            "min_width": null,
            "border": null,
            "align_items": null,
            "bottom": null,
            "_model_module": "@jupyter-widgets/base",
            "top": null,
            "grid_column": null,
            "overflow_y": null,
            "overflow_x": null,
            "grid_auto_flow": null,
            "grid_area": null,
            "grid_template_columns": null,
            "flex": null,
            "_model_name": "LayoutModel",
            "justify_items": null,
            "grid_row": null,
            "max_height": null,
            "align_content": null,
            "visibility": null,
            "align_self": null,
            "height": null,
            "min_height": null,
            "padding": null,
            "grid_auto_rows": null,
            "grid_gap": null,
            "max_width": null,
            "order": null,
            "_view_module_version": "1.2.0",
            "grid_template_areas": null,
            "object_position": null,
            "object_fit": null,
            "grid_auto_columns": null,
            "margin": null,
            "display": null,
            "left": null
          }
        },
        "3a5413c74a094495bd44b3c125792e53": {
          "model_module": "@jupyter-widgets/controls",
          "model_name": "DescriptionStyleModel",
          "model_module_version": "1.5.0",
          "state": {
            "_view_name": "StyleView",
            "_model_name": "DescriptionStyleModel",
            "description_width": "",
            "_view_module": "@jupyter-widgets/base",
            "_model_module_version": "1.5.0",
            "_view_count": null,
            "_view_module_version": "1.2.0",
            "_model_module": "@jupyter-widgets/controls"
          }
        },
        "e23c3efbdd464c28a7d420da3738b2a4": {
          "model_module": "@jupyter-widgets/base",
          "model_name": "LayoutModel",
          "model_module_version": "1.2.0",
          "state": {
            "_view_name": "LayoutView",
            "grid_template_rows": null,
            "right": null,
            "justify_content": null,
            "_view_module": "@jupyter-widgets/base",
            "overflow": null,
            "_model_module_version": "1.2.0",
            "_view_count": null,
            "flex_flow": null,
            "width": null,
            "min_width": null,
            "border": null,
            "align_items": null,
            "bottom": null,
            "_model_module": "@jupyter-widgets/base",
            "top": null,
            "grid_column": null,
            "overflow_y": null,
            "overflow_x": null,
            "grid_auto_flow": null,
            "grid_area": null,
            "grid_template_columns": null,
            "flex": null,
            "_model_name": "LayoutModel",
            "justify_items": null,
            "grid_row": null,
            "max_height": null,
            "align_content": null,
            "visibility": null,
            "align_self": null,
            "height": null,
            "min_height": null,
            "padding": null,
            "grid_auto_rows": null,
            "grid_gap": null,
            "max_width": null,
            "order": null,
            "_view_module_version": "1.2.0",
            "grid_template_areas": null,
            "object_position": null,
            "object_fit": null,
            "grid_auto_columns": null,
            "margin": null,
            "display": null,
            "left": null
          }
        },
        "d1b87ea3dabb4faf8fd3d9e1c1cc1a70": {
          "model_module": "@jupyter-widgets/controls",
          "model_name": "HBoxModel",
          "model_module_version": "1.5.0",
          "state": {
            "_view_name": "HBoxView",
            "_dom_classes": [],
            "_model_name": "HBoxModel",
            "_view_module": "@jupyter-widgets/controls",
            "_model_module_version": "1.5.0",
            "_view_count": null,
            "_view_module_version": "1.5.0",
            "box_style": "",
            "layout": "IPY_MODEL_0ee35ad962ac4729b9b01aca2283e0ae",
            "_model_module": "@jupyter-widgets/controls",
            "children": [
              "IPY_MODEL_507690eb68c445ab89b32ea0421b8371",
              "IPY_MODEL_2b699041e4fa479a9f8f6741e68633ab",
              "IPY_MODEL_6c58a35e46d54d7994660843a13afa5e"
            ]
          }
        },
        "0ee35ad962ac4729b9b01aca2283e0ae": {
          "model_module": "@jupyter-widgets/base",
          "model_name": "LayoutModel",
          "model_module_version": "1.2.0",
          "state": {
            "_view_name": "LayoutView",
            "grid_template_rows": null,
            "right": null,
            "justify_content": null,
            "_view_module": "@jupyter-widgets/base",
            "overflow": null,
            "_model_module_version": "1.2.0",
            "_view_count": null,
            "flex_flow": null,
            "width": null,
            "min_width": null,
            "border": null,
            "align_items": null,
            "bottom": null,
            "_model_module": "@jupyter-widgets/base",
            "top": null,
            "grid_column": null,
            "overflow_y": null,
            "overflow_x": null,
            "grid_auto_flow": null,
            "grid_area": null,
            "grid_template_columns": null,
            "flex": null,
            "_model_name": "LayoutModel",
            "justify_items": null,
            "grid_row": null,
            "max_height": null,
            "align_content": null,
            "visibility": null,
            "align_self": null,
            "height": null,
            "min_height": null,
            "padding": null,
            "grid_auto_rows": null,
            "grid_gap": null,
            "max_width": null,
            "order": null,
            "_view_module_version": "1.2.0",
            "grid_template_areas": null,
            "object_position": null,
            "object_fit": null,
            "grid_auto_columns": null,
            "margin": null,
            "display": null,
            "left": null
          }
        },
        "507690eb68c445ab89b32ea0421b8371": {
          "model_module": "@jupyter-widgets/controls",
          "model_name": "HTMLModel",
          "model_module_version": "1.5.0",
          "state": {
            "_view_name": "HTMLView",
            "style": "IPY_MODEL_5d6413fc02944e18bc062e12aa837f56",
            "_dom_classes": [],
            "description": "",
            "_model_name": "HTMLModel",
            "placeholder": "​",
            "_view_module": "@jupyter-widgets/controls",
            "_model_module_version": "1.5.0",
            "value": "Downloading: 100%",
            "_view_count": null,
            "_view_module_version": "1.5.0",
            "description_tooltip": null,
            "_model_module": "@jupyter-widgets/controls",
            "layout": "IPY_MODEL_db95685ba718461ab81258e9902afad9"
          }
        },
        "2b699041e4fa479a9f8f6741e68633ab": {
          "model_module": "@jupyter-widgets/controls",
          "model_name": "FloatProgressModel",
          "model_module_version": "1.5.0",
          "state": {
            "_view_name": "ProgressView",
            "style": "IPY_MODEL_e737d5a9297349549d98ee1b8af3ea2c",
            "_dom_classes": [],
            "description": "",
            "_model_name": "FloatProgressModel",
            "bar_style": "success",
            "max": 510455764,
            "_view_module": "@jupyter-widgets/controls",
            "_model_module_version": "1.5.0",
            "value": 510455764,
            "_view_count": null,
            "_view_module_version": "1.5.0",
            "orientation": "horizontal",
            "min": 0,
            "description_tooltip": null,
            "_model_module": "@jupyter-widgets/controls",
            "layout": "IPY_MODEL_6f2670603b57475a868ef7d736584d31"
          }
        },
        "6c58a35e46d54d7994660843a13afa5e": {
          "model_module": "@jupyter-widgets/controls",
          "model_name": "HTMLModel",
          "model_module_version": "1.5.0",
          "state": {
            "_view_name": "HTMLView",
            "style": "IPY_MODEL_8dcc5ac93c7941d0aa8c5ef63643fc02",
            "_dom_classes": [],
            "description": "",
            "_model_name": "HTMLModel",
            "placeholder": "​",
            "_view_module": "@jupyter-widgets/controls",
            "_model_module_version": "1.5.0",
            "value": " 510M/510M [00:16&lt;00:00, 32.1MB/s]",
            "_view_count": null,
            "_view_module_version": "1.5.0",
            "description_tooltip": null,
            "_model_module": "@jupyter-widgets/controls",
            "layout": "IPY_MODEL_fd02222e009d4492bbe13f49e9f9d0d0"
          }
        },
        "5d6413fc02944e18bc062e12aa837f56": {
          "model_module": "@jupyter-widgets/controls",
          "model_name": "DescriptionStyleModel",
          "model_module_version": "1.5.0",
          "state": {
            "_view_name": "StyleView",
            "_model_name": "DescriptionStyleModel",
            "description_width": "",
            "_view_module": "@jupyter-widgets/base",
            "_model_module_version": "1.5.0",
            "_view_count": null,
            "_view_module_version": "1.2.0",
            "_model_module": "@jupyter-widgets/controls"
          }
        },
        "db95685ba718461ab81258e9902afad9": {
          "model_module": "@jupyter-widgets/base",
          "model_name": "LayoutModel",
          "model_module_version": "1.2.0",
          "state": {
            "_view_name": "LayoutView",
            "grid_template_rows": null,
            "right": null,
            "justify_content": null,
            "_view_module": "@jupyter-widgets/base",
            "overflow": null,
            "_model_module_version": "1.2.0",
            "_view_count": null,
            "flex_flow": null,
            "width": null,
            "min_width": null,
            "border": null,
            "align_items": null,
            "bottom": null,
            "_model_module": "@jupyter-widgets/base",
            "top": null,
            "grid_column": null,
            "overflow_y": null,
            "overflow_x": null,
            "grid_auto_flow": null,
            "grid_area": null,
            "grid_template_columns": null,
            "flex": null,
            "_model_name": "LayoutModel",
            "justify_items": null,
            "grid_row": null,
            "max_height": null,
            "align_content": null,
            "visibility": null,
            "align_self": null,
            "height": null,
            "min_height": null,
            "padding": null,
            "grid_auto_rows": null,
            "grid_gap": null,
            "max_width": null,
            "order": null,
            "_view_module_version": "1.2.0",
            "grid_template_areas": null,
            "object_position": null,
            "object_fit": null,
            "grid_auto_columns": null,
            "margin": null,
            "display": null,
            "left": null
          }
        },
        "e737d5a9297349549d98ee1b8af3ea2c": {
          "model_module": "@jupyter-widgets/controls",
          "model_name": "ProgressStyleModel",
          "model_module_version": "1.5.0",
          "state": {
            "_view_name": "StyleView",
            "_model_name": "ProgressStyleModel",
            "description_width": "",
            "_view_module": "@jupyter-widgets/base",
            "_model_module_version": "1.5.0",
            "_view_count": null,
            "_view_module_version": "1.2.0",
            "bar_color": null,
            "_model_module": "@jupyter-widgets/controls"
          }
        },
        "6f2670603b57475a868ef7d736584d31": {
          "model_module": "@jupyter-widgets/base",
          "model_name": "LayoutModel",
          "model_module_version": "1.2.0",
          "state": {
            "_view_name": "LayoutView",
            "grid_template_rows": null,
            "right": null,
            "justify_content": null,
            "_view_module": "@jupyter-widgets/base",
            "overflow": null,
            "_model_module_version": "1.2.0",
            "_view_count": null,
            "flex_flow": null,
            "width": null,
            "min_width": null,
            "border": null,
            "align_items": null,
            "bottom": null,
            "_model_module": "@jupyter-widgets/base",
            "top": null,
            "grid_column": null,
            "overflow_y": null,
            "overflow_x": null,
            "grid_auto_flow": null,
            "grid_area": null,
            "grid_template_columns": null,
            "flex": null,
            "_model_name": "LayoutModel",
            "justify_items": null,
            "grid_row": null,
            "max_height": null,
            "align_content": null,
            "visibility": null,
            "align_self": null,
            "height": null,
            "min_height": null,
            "padding": null,
            "grid_auto_rows": null,
            "grid_gap": null,
            "max_width": null,
            "order": null,
            "_view_module_version": "1.2.0",
            "grid_template_areas": null,
            "object_position": null,
            "object_fit": null,
            "grid_auto_columns": null,
            "margin": null,
            "display": null,
            "left": null
          }
        },
        "8dcc5ac93c7941d0aa8c5ef63643fc02": {
          "model_module": "@jupyter-widgets/controls",
          "model_name": "DescriptionStyleModel",
          "model_module_version": "1.5.0",
          "state": {
            "_view_name": "StyleView",
            "_model_name": "DescriptionStyleModel",
            "description_width": "",
            "_view_module": "@jupyter-widgets/base",
            "_model_module_version": "1.5.0",
            "_view_count": null,
            "_view_module_version": "1.2.0",
            "_model_module": "@jupyter-widgets/controls"
          }
        },
        "fd02222e009d4492bbe13f49e9f9d0d0": {
          "model_module": "@jupyter-widgets/base",
          "model_name": "LayoutModel",
          "model_module_version": "1.2.0",
          "state": {
            "_view_name": "LayoutView",
            "grid_template_rows": null,
            "right": null,
            "justify_content": null,
            "_view_module": "@jupyter-widgets/base",
            "overflow": null,
            "_model_module_version": "1.2.0",
            "_view_count": null,
            "flex_flow": null,
            "width": null,
            "min_width": null,
            "border": null,
            "align_items": null,
            "bottom": null,
            "_model_module": "@jupyter-widgets/base",
            "top": null,
            "grid_column": null,
            "overflow_y": null,
            "overflow_x": null,
            "grid_auto_flow": null,
            "grid_area": null,
            "grid_template_columns": null,
            "flex": null,
            "_model_name": "LayoutModel",
            "justify_items": null,
            "grid_row": null,
            "max_height": null,
            "align_content": null,
            "visibility": null,
            "align_self": null,
            "height": null,
            "min_height": null,
            "padding": null,
            "grid_auto_rows": null,
            "grid_gap": null,
            "max_width": null,
            "order": null,
            "_view_module_version": "1.2.0",
            "grid_template_areas": null,
            "object_position": null,
            "object_fit": null,
            "grid_auto_columns": null,
            "margin": null,
            "display": null,
            "left": null
          }
        }
      }
    }
  },
  "cells": [
    {
      "cell_type": "markdown",
      "source": [
        "# AMZ roBERTo Classifier\n",
        "\n",
        "This notebook inspired in BERT/roBERTa models andd attaches an output layer that works as multiclassification. \n",
        "This model is trained with a spanish Amazon Reviews corpus."
      ],
      "metadata": {
        "id": "coR1u9qD74kn"
      }
    },
    {
      "cell_type": "code",
      "execution_count": 1,
      "source": [
        "# !pip install -qr https://raw.githubusercontent.com/ernestomancebo/roberto-mlm/master/requirements.txt"
      ],
      "outputs": [
        {
          "output_type": "stream",
          "name": "stdout",
          "text": [
            "\u001b[K     |████████████████████████████████| 264 kB 5.3 MB/s \n",
            "\u001b[K     |████████████████████████████████| 3.3 MB 32.0 MB/s \n",
            "\u001b[K     |████████████████████████████████| 2.6 MB 30.5 MB/s \n",
            "\u001b[K     |████████████████████████████████| 76 kB 2.0 MB/s \n",
            "\u001b[K     |████████████████████████████████| 11.3 MB 36.5 MB/s \n",
            "\u001b[K     |████████████████████████████████| 10.3 MB 38.4 MB/s \n",
            "\u001b[K     |████████████████████████████████| 292 kB 48.1 MB/s \n",
            "\u001b[K     |████████████████████████████████| 119 kB 48.4 MB/s \n",
            "\u001b[K     |████████████████████████████████| 50 kB 6.0 MB/s \n",
            "\u001b[K     |████████████████████████████████| 243 kB 47.9 MB/s \n",
            "\u001b[K     |████████████████████████████████| 636 kB 47.2 MB/s \n",
            "\u001b[K     |████████████████████████████████| 895 kB 39.4 MB/s \n",
            "\u001b[31mERROR: pip's dependency resolver does not currently take into account all the packages that are installed. This behaviour is the source of the following dependency conflicts.\n",
            "google-colab 1.0.0 requires pandas~=1.1.0; python_version >= \"3.0\", but you have pandas 1.3.2 which is incompatible.\n",
            "albumentations 0.1.12 requires imgaug<0.2.7,>=0.2.5, but you have imgaug 0.2.9 which is incompatible.\u001b[0m\n",
            "\u001b[?25h"
          ]
        }
      ],
      "metadata": {
        "colab": {
          "base_uri": "https://localhost:8080/"
        },
        "id": "OLV0axGj8DZj",
        "outputId": "b7bae52d-454e-49a0-b336-a6edcb4c4f63"
      }
    },
    {
      "cell_type": "code",
      "execution_count": 2,
      "source": [
        "!pip install -q datasets transformer"
      ],
      "outputs": [
        {
          "output_type": "stream",
          "name": "stdout",
          "text": [
            "\u001b[K     |████████████████████████████████| 264 kB 5.1 MB/s \n",
            "\u001b[K     |████████████████████████████████| 2.8 MB 34.9 MB/s \n",
            "\u001b[K     |████████████████████████████████| 50 kB 4.1 MB/s \n",
            "\u001b[K     |████████████████████████████████| 243 kB 45.4 MB/s \n",
            "\u001b[K     |████████████████████████████████| 119 kB 47.1 MB/s \n",
            "\u001b[K     |████████████████████████████████| 636 kB 41.6 MB/s \n",
            "\u001b[K     |████████████████████████████████| 3.3 MB 20.4 MB/s \n",
            "\u001b[K     |████████████████████████████████| 895 kB 39.4 MB/s \n",
            "\u001b[?25h"
          ]
        }
      ],
      "metadata": {
        "id": "QrggMlTs74kt",
        "colab": {
          "base_uri": "https://localhost:8080/"
        },
        "outputId": "e17c1a7f-2fe3-4dcb-f54a-7f4a2e4fcd29"
      }
    },
    {
      "cell_type": "code",
      "execution_count": 1,
      "source": [
        "from datasets import load_dataset\n",
        "\n",
        "dataset = load_dataset(\"amazon_reviews_multi\", \"es\")\n",
        "dataset"
      ],
      "outputs": [
        {
          "output_type": "stream",
          "name": "stderr",
          "text": [
            "Reusing dataset amazon_reviews_multi (/Users/ernestomancebo/.cache/huggingface/datasets/amazon_reviews_multi/es/1.0.0/724e94f4b0c6c405ce7e476a6c5ef4f87db30799ad49f765094cf9770e0f7609)\n"
          ]
        },
        {
          "output_type": "execute_result",
          "data": {
            "text/plain": [
              "DatasetDict({\n",
              "    train: Dataset({\n",
              "        features: ['review_id', 'product_id', 'reviewer_id', 'stars', 'review_body', 'review_title', 'language', 'product_category'],\n",
              "        num_rows: 200000\n",
              "    })\n",
              "    validation: Dataset({\n",
              "        features: ['review_id', 'product_id', 'reviewer_id', 'stars', 'review_body', 'review_title', 'language', 'product_category'],\n",
              "        num_rows: 5000\n",
              "    })\n",
              "    test: Dataset({\n",
              "        features: ['review_id', 'product_id', 'reviewer_id', 'stars', 'review_body', 'review_title', 'language', 'product_category'],\n",
              "        num_rows: 5000\n",
              "    })\n",
              "})"
            ]
          },
          "metadata": {},
          "execution_count": 1
        }
      ],
      "metadata": {
        "colab": {
          "base_uri": "https://localhost:8080/",
          "height": 491,
          "referenced_widgets": [
            "15f7f4f0ebed4b29bd5c69119bc84730",
            "294abfccfa7143c4acd5a4b670f32475",
            "985485c7b3c6496a929f79d42749e2bf",
            "73ac3591e0594e0e953fdc19a96871f3",
            "325a1c92a8664a4ebeb19031c7d17480",
            "83faa122e08443e0b41484ec6ffc25ea",
            "f2396c0705384ad99467c6fee2228694",
            "05b6789d28884a6489ae3c4dda9fb1c6",
            "f2037df5f6a6442f8246967ee4c97b55",
            "7f15f13cd1234ebf8d1a5170231db528",
            "70f35069c286410c92445220f668a82e",
            "442db859e12b49a6a098fbdf75d51bb9",
            "281de9c7af3d4667b670aabbf9b4ec32",
            "d21d6360c2b145b4a4ee97dc11b89d58",
            "d88daa918fd147b0b3a5ad35736ebde7",
            "39108695088442989305d6a2d8cbc94a",
            "36473d69854e4922a0a436d38b0260e8",
            "6f2fee52aa594b8b9db571829d021b98",
            "769fcf5c97fb4b8ba75feddda0ddf6a7",
            "2eb72e5c23db47769692cb1772071a46",
            "7e81611bf1844687860b07b1e232c1c9",
            "37e66bce33934659a2b69ccb491668b0",
            "e5c77484ecbb40008f5fa52f4a03fc7c",
            "f551bf4c52fd48dd9b069968957ccfe7",
            "120274d8229147b886b715b56302716a",
            "201ec9a952e44ea6904290aea282de11",
            "2afc4272367f413b9568d59fbf4d386b",
            "ed0edd914bc446e5a14ed8f77c3f4f0b",
            "58768affae774cc18a70bfc3c3af0edc",
            "b2b5e209cdad44e4a3464269dca9da40",
            "bb1131cdfb634420a7757c2d9ce83d70",
            "bc4e247b9e4a4ae8a9693245d30aab29",
            "2d8aad0aa2ab450e825f611287f0c38c",
            "80c546097de9499c91afb7a7323575ba",
            "7d2279fde4e643a0ae687623065c2794",
            "bcbba09715f84c51a156cdf6886273b6",
            "51e3465b084c429d8cad1f21c4bff7be",
            "bd3cfd7fdedb4a878cd16987bc1d0fce",
            "9a3e822ae58d4c13b66ca6537b3e7082",
            "4302993a4f6948718fa6788be01e45f7",
            "986205094e2b4e8382230caa1daa5c8c",
            "e677d913b4584b5db8ad1d08bf37fbf2",
            "71c6a826100e47ffb292b0d743e5b0e5",
            "2419c0fa4bd343b08e8038344ea7eb36",
            "eb80ce6b92f4486ab9f8229135fa4055",
            "071221ef08244cf1949630960b9202db",
            "7f1c63f0b087467e9ba485e26fddc3be",
            "2a40601dbb764f60ae775946defa00d8",
            "aacf779829ce40fc8509af742b499f12",
            "98d02426798d4215ba8822509b9f5fc6",
            "74fcca840bd7491c87b5a4e4313d9649",
            "b4fd416a3cae4c3f81d765b5d59bbc4d",
            "62e3ff13988044d2b27a62311e39427d",
            "f5647b14c9ec48c0bc6acb9fe203c1a2",
            "8a9b6fa1428f4a729685b7323b5f1a9f",
            "ae38de06e5e44d9d9828d48e3d4d5953",
            "2de08af9a5ea4d2382238aa3510d4cda",
            "3b6227c364a149f1bb7b12c723a72973",
            "8a0bba8924654e968a3f1922d8ca5c16",
            "b240d758d2484e73b11d21c323217d08",
            "98008a1a66d840e49253fe227dbff499",
            "9ac7731787e44d2e931ea9e72748e3a0",
            "3278504e0a334f888e86818b0348fe89",
            "c0122d5ef9fc481ba7f6ab471646ce97",
            "b02e21b5c4ab4a67b5e0186cca4c26f0",
            "9b62f00849b24f7c8ad0df68b10b3893",
            "de510ed5a1a44138a2b50863d295b1a8",
            "31681e37bdd9484c9ec0bc51bb8e9506",
            "dc43d1fd358347eeb2664c5e8577368f",
            "6ea1003968da48769abaf145634ea32a",
            "e2b8227559cb43dba702c0882733a1ea",
            "8af292cb17184ce19f0e292ec7c373bd",
            "83c44ae0659a413388148acb25f5ea83",
            "6b377fbdb2e94625a9d4b87cf3202a02",
            "e6200cdaa9ab4564996d620d25cf1533",
            "9a7b7968de2d44eba67e0c88b4f439c8",
            "499325726e434c98a3236b1ce56712c1",
            "91fc94916a594abda00f66372bcfe030",
            "bbb851bb938949a4ba926f0eaf94bf55",
            "8e3fec9b87c94bdfbc583d6d9c64629a",
            "f9639cc566cd4dbcb21735d9d3077fae",
            "02f75a1623af498fa57c43cd7684466f",
            "09d827de2aae4cef9ba9039b494c02d4",
            "7f5128da51af4126bd9b6c73f34cb107",
            "aafda8d2f892498dbe8887c58c57a1cf",
            "0385922b193b4d5a8b73811e733aabb6",
            "8242a679bc5f4747b33547f684d156ef",
            "66f5ec23a5444ad486c07600fb2fc203"
          ]
        },
        "id": "4UhLyxNf74kx",
        "outputId": "4d86cff5-d352-4350-8af1-ab8c7e3b173f"
      }
    },
    {
      "cell_type": "code",
      "execution_count": 4,
      "source": [
        "# !pip install -qU pandas-profiling"
      ],
      "outputs": [
        {
          "output_type": "stream",
          "name": "stdout",
          "text": [
            "\u001b[K     |████████████████████████████████| 248 kB 5.2 MB/s \n",
            "\u001b[K     |████████████████████████████████| 62 kB 645 kB/s \n",
            "\u001b[K     |████████████████████████████████| 675 kB 37.9 MB/s \n",
            "\u001b[K     |████████████████████████████████| 102 kB 50.0 MB/s \n",
            "\u001b[K     |████████████████████████████████| 3.1 MB 29.8 MB/s \n",
            "\u001b[K     |████████████████████████████████| 10.1 MB 45.3 MB/s \n",
            "\u001b[K     |████████████████████████████████| 812 kB 41.0 MB/s \n",
            "\u001b[K     |████████████████████████████████| 28.5 MB 45 kB/s \n",
            "\u001b[?25h  Building wheel for htmlmin (setup.py) ... \u001b[?25l\u001b[?25hdone\n",
            "  Building wheel for imagehash (setup.py) ... \u001b[?25l\u001b[?25hdone\n",
            "\u001b[31mERROR: pip's dependency resolver does not currently take into account all the packages that are installed. This behaviour is the source of the following dependency conflicts.\n",
            "google-colab 1.0.0 requires pandas~=1.1.0; python_version >= \"3.0\", but you have pandas 1.3.2 which is incompatible.\n",
            "google-colab 1.0.0 requires requests~=2.23.0, but you have requests 2.26.0 which is incompatible.\n",
            "datascience 0.10.6 requires folium==0.2.1, but you have folium 0.8.3 which is incompatible.\n",
            "albumentations 0.1.12 requires imgaug<0.2.7,>=0.2.5, but you have imgaug 0.2.9 which is incompatible.\u001b[0m\n"
          ]
        }
      ],
      "metadata": {
        "colab": {
          "base_uri": "https://localhost:8080/"
        },
        "id": "g2WdTOsw2ix5",
        "outputId": "531762e5-5ff3-40d0-bca5-6c29d1fe073f"
      }
    },
    {
      "cell_type": "code",
      "execution_count": 8,
      "source": [
        "# !pip install -q -U watermark"
      ],
      "outputs": [],
      "metadata": {
        "id": "3x4_PTUF21CJ"
      }
    },
    {
      "cell_type": "code",
      "execution_count": 9,
      "source": [
        "# %reload_ext watermark\n",
        "# %watermark -v -p numpy,pandas,torch,transformers"
      ],
      "outputs": [
        {
          "output_type": "stream",
          "name": "stdout",
          "text": [
            "Python implementation: CPython\n",
            "Python version       : 3.7.11\n",
            "IPython version      : 5.5.0\n",
            "\n",
            "numpy       : 1.19.5\n",
            "pandas      : 1.3.2\n",
            "torch       : 1.9.0+cu102\n",
            "transformers: 4.9.2\n",
            "\n"
          ]
        }
      ],
      "metadata": {
        "colab": {
          "base_uri": "https://localhost:8080/"
        },
        "id": "KAOo9rRm24Hd",
        "outputId": "421bf600-c643-4dfc-94e9-18705789fe84"
      }
    },
    {
      "cell_type": "code",
      "execution_count": 4,
      "source": [
        "train_df = dataset['train'].to_pandas()\n",
        "validation_df = dataset['validation'].to_pandas()\n",
        "test_df = dataset['test'].to_pandas()"
      ],
      "outputs": [],
      "metadata": {
        "id": "mtAQnQPR74k0"
      }
    },
    {
      "cell_type": "code",
      "execution_count": 7,
      "source": [
        "train_df.sample(5)[['review_body', 'stars']]"
      ],
      "outputs": [
        {
          "output_type": "execute_result",
          "data": {
            "text/plain": [
              "                                              review_body  stars\n",
              "198225       Muy buena calidad,lo recomiendo,buen precio.      5\n",
              "88584   siempre compro de esta marca, pero esta prenda...      3\n",
              "22808   No sé si es Bueno pues no lo he recebido. Me h...      1\n",
              "183726  Se la compre a mi hija, y perfecta la queda,la...      5\n",
              "57167   Sonido excesivamente bajo. Cuidado con el diám...      2"
            ],
            "text/html": [
              "<div>\n",
              "<style scoped>\n",
              "    .dataframe tbody tr th:only-of-type {\n",
              "        vertical-align: middle;\n",
              "    }\n",
              "\n",
              "    .dataframe tbody tr th {\n",
              "        vertical-align: top;\n",
              "    }\n",
              "\n",
              "    .dataframe thead th {\n",
              "        text-align: right;\n",
              "    }\n",
              "</style>\n",
              "<table border=\"1\" class=\"dataframe\">\n",
              "  <thead>\n",
              "    <tr style=\"text-align: right;\">\n",
              "      <th></th>\n",
              "      <th>review_body</th>\n",
              "      <th>stars</th>\n",
              "    </tr>\n",
              "  </thead>\n",
              "  <tbody>\n",
              "    <tr>\n",
              "      <th>198225</th>\n",
              "      <td>Muy buena calidad,lo recomiendo,buen precio.</td>\n",
              "      <td>5</td>\n",
              "    </tr>\n",
              "    <tr>\n",
              "      <th>88584</th>\n",
              "      <td>siempre compro de esta marca, pero esta prenda...</td>\n",
              "      <td>3</td>\n",
              "    </tr>\n",
              "    <tr>\n",
              "      <th>22808</th>\n",
              "      <td>No sé si es Bueno pues no lo he recebido. Me h...</td>\n",
              "      <td>1</td>\n",
              "    </tr>\n",
              "    <tr>\n",
              "      <th>183726</th>\n",
              "      <td>Se la compre a mi hija, y perfecta la queda,la...</td>\n",
              "      <td>5</td>\n",
              "    </tr>\n",
              "    <tr>\n",
              "      <th>57167</th>\n",
              "      <td>Sonido excesivamente bajo. Cuidado con el diám...</td>\n",
              "      <td>2</td>\n",
              "    </tr>\n",
              "  </tbody>\n",
              "</table>\n",
              "</div>"
            ]
          },
          "metadata": {},
          "execution_count": 7
        }
      ],
      "metadata": {
        "colab": {
          "base_uri": "https://localhost:8080/",
          "height": 206
        },
        "id": "xvJqNiBV3VSl",
        "outputId": "93d1bebd-c15b-417f-9a98-2776414bc436"
      }
    },
    {
      "cell_type": "code",
      "execution_count": 8,
      "source": [
        "from pylab import rcParams\n",
        "import matplotlib.pyplot as plt\n",
        "import seaborn as sns\n",
        "\n",
        "%matplotlib inline\n",
        "%config InlineBackend.figure_format='retina'\n",
        "\n",
        "sns.set(style='whitegrid', palette='Paired', font_scale=1.2)\n",
        "rcParams['figure.figsize']= 12,8"
      ],
      "outputs": [],
      "metadata": {
        "id": "DQAVXN2X74k3"
      }
    },
    {
      "cell_type": "code",
      "execution_count": 21,
      "source": [
        "train_df.features"
      ],
      "outputs": [
        {
          "output_type": "execute_result",
          "data": {
            "text/plain": [
              "{'language': Value(dtype='string', id=None),\n",
              " 'product_category': Value(dtype='string', id=None),\n",
              " 'product_id': Value(dtype='string', id=None),\n",
              " 'review_body': Value(dtype='string', id=None),\n",
              " 'review_id': Value(dtype='string', id=None),\n",
              " 'review_title': Value(dtype='string', id=None),\n",
              " 'reviewer_id': Value(dtype='string', id=None),\n",
              " 'stars': Value(dtype='int32', id=None)}"
            ]
          },
          "metadata": {},
          "execution_count": 21
        }
      ],
      "metadata": {
        "colab": {
          "base_uri": "https://localhost:8080/"
        },
        "id": "jFV0PAHw313b",
        "outputId": "bece0682-47d1-4291-c249-56df68bb5a1a"
      }
    },
    {
      "cell_type": "code",
      "execution_count": 9,
      "source": [
        "_ = sns.countplot(train_df['stars'])\n",
        "plt.xlabel('Start Rating')\n"
      ],
      "outputs": [
        {
          "output_type": "stream",
          "name": "stderr",
          "text": [
            "/usr/local/lib/python3.7/dist-packages/seaborn/_decorators.py:43: FutureWarning: Pass the following variable as a keyword arg: x. From version 0.12, the only valid positional argument will be `data`, and passing other arguments without an explicit keyword will result in an error or misinterpretation.\n",
            "  FutureWarning\n"
          ]
        },
        {
          "output_type": "execute_result",
          "data": {
            "text/plain": [
              "Text(0.5, 0, 'Start Rating')"
            ]
          },
          "metadata": {},
          "execution_count": 9
        },
        {
          "output_type": "display_data",
          "data": {
            "text/plain": [
              "<Figure size 864x576 with 1 Axes>"
            ],
            "image/png": "[encoded data removed]"
          },
          "metadata": {
            "image/png": {
              "width": 753,
              "height": 489
            }
          }
        }
      ],
      "metadata": {
        "id": "p7y-RUgn74k4",
        "colab": {
          "base_uri": "https://localhost:8080/",
          "height": 581
        },
        "outputId": "2f0d86fd-5c14-4186-ed5e-603cc6b24edb"
      }
    },
    {
      "cell_type": "markdown",
      "source": [
        "## Add `sentiment` column\n",
        "\n",
        "Polarizes a bit the dataset by condensing the 1-2 as negative, the 4-5 as positive, keeping the neutral as neutral"
      ],
      "metadata": {
        "id": "cG6pvSTp2BJN"
      }
    },
    {
      "cell_type": "code",
      "execution_count": 10,
      "source": [
        "def to_sentiment(rating):\n",
        "    val = int(rating)\n",
        "\n",
        "    if rating <= 2:\n",
        "        return 0\n",
        "    elif rating == 3:\n",
        "        return 1\n",
        "    else:\n",
        "        return 2\n"
      ],
      "outputs": [],
      "metadata": {
        "id": "Qs2QGsmN2BJP"
      }
    },
    {
      "cell_type": "code",
      "execution_count": 11,
      "source": [
        "train_df['sentiment'] = train_df['stars'].apply(to_sentiment)\n",
        "test_df['sentiment'] = test_df['stars'].apply(to_sentiment)\n",
        "validation_df['sentiment'] = validation_df['stars'].apply(to_sentiment)\n"
      ],
      "outputs": [],
      "metadata": {
        "id": "UKVHd4W32BJR"
      }
    },
    {
      "cell_type": "code",
      "execution_count": 12,
      "source": [
        "class_names = ['Negative', 'Neutral', 'Positive']\n",
        "\n",
        "ax = sns.countplot(train_df['sentiment'])\n",
        "plt.xlabel('Review Sentiment - Train')\n",
        "ax.set_xticklabels(class_names)\n"
      ],
      "outputs": [
        {
          "output_type": "stream",
          "name": "stderr",
          "text": [
            "/usr/local/lib/python3.7/dist-packages/seaborn/_decorators.py:43: FutureWarning: Pass the following variable as a keyword arg: x. From version 0.12, the only valid positional argument will be `data`, and passing other arguments without an explicit keyword will result in an error or misinterpretation.\n",
            "  FutureWarning\n"
          ]
        },
        {
          "output_type": "execute_result",
          "data": {
            "text/plain": [
              "[Text(0, 0, 'Negative'), Text(0, 0, 'Neutral'), Text(0, 0, 'Positive')]"
            ]
          },
          "metadata": {},
          "execution_count": 12
        },
        {
          "output_type": "display_data",
          "data": {
            "text/plain": [
              "<Figure size 864x576 with 1 Axes>"
            ],
            "image/png": "[encoded data removed]"
          },
          "metadata": {
            "image/png": {
              "width": 753,
              "height": 489
            }
          }
        }
      ],
      "metadata": {
        "colab": {
          "base_uri": "https://localhost:8080/",
          "height": 581
        },
        "id": "Rn4G1fux2BJT",
        "outputId": "632421a2-f442-47ac-8829-66a93a1a0e56"
      }
    },
    {
      "cell_type": "markdown",
      "source": [
        "## Data pre-processing"
      ],
      "metadata": {
        "id": "Gm6BR7JN2BJU"
      }
    },
    {
      "cell_type": "code",
      "execution_count": 2,
      "source": [
        "from transformers import BertTokenizer\n"
      ],
      "outputs": [],
      "metadata": {
        "id": "VtknvVEz2BJV"
      }
    },
    {
      "cell_type": "code",
      "execution_count": 3,
      "source": [
        "MODEL_NAME = 'Geotrend/bert-base-es-cased'\n"
      ],
      "outputs": [],
      "metadata": {
        "id": "2niDiffU2BJW"
      }
    },
    {
      "cell_type": "code",
      "execution_count": 4,
      "source": [
        "tokenizer = BertTokenizer.from_pretrained(MODEL_NAME)\n"
      ],
      "outputs": [],
      "metadata": {
        "colab": {
          "base_uri": "https://localhost:8080/",
          "height": 113,
          "referenced_widgets": [
            "89724549cadd4327902ab5891fb248ef",
            "e9d104bc5c274677aac2fdbb97077fa2",
            "8ba7c26b15bd42cdbfae5f0f4fb3cc50",
            "4c8d7644abc24232b65d5dd5222c980d",
            "ff7e687ad83d43f48b0e1378ba584b9e",
            "1cbf46a2b4c645a3af95b9fc9c0d1dda",
            "148ed41c27b24a0f830b8da854737c70",
            "e6233085f735444291aab42f7e9c6e44",
            "1840b480bc804f25b506d1b8c4152233",
            "d332b22708ca48c19401f27b7babdfb1",
            "ac5045aa7f2e45e595c861ef394422ce",
            "a6531fa219aa4a68a411b02a724bdf44",
            "3b60debe2eec4364a808fec5fb817327",
            "3d3cce12e74d4a54b5c198d1b0453c1f",
            "2089a54f7b354abd8eade30aeb351808",
            "7fed86f36517470bb50bba69048ce9ad",
            "8548d86980c641299a81def388e56c4c",
            "f0e2fc35ca0444bbadf4ace074652868",
            "b0fec05c6a7b4304afa33e5a8be5b1f9",
            "660857becec8462ebb1a12c2c085b397",
            "a704f1f772fb446395222557ec939be1",
            "d82272170c6d41b89041e917ffd32c4b",
            "f4bf3160022e4263bd00f7bd30aa0f66",
            "97478cb2c92644d2aa1919eeb9f3f1c7",
            "9b410aff7f874cc78c399aecfc7a5e1d",
            "d0dfe132d9a341ee96709da8b6e75b21",
            "396ac60df7ac4059b8139a23a281ff75",
            "417bb35c41a84c9080ee0ea11e38420f",
            "1e9877ed28834a3398b7f2c59dbf930f",
            "9eefd210f5214297b47416df99158c6a",
            "97989016859f44d9aaef1c556730b794",
            "3a5413c74a094495bd44b3c125792e53",
            "e23c3efbdd464c28a7d420da3738b2a4"
          ]
        },
        "id": "gYbbRLvL2BJX",
        "outputId": "e3ed5b62-eb87-4ecf-8ccb-107101bf58f4"
      }
    },
    {
      "cell_type": "markdown",
      "source": [
        "In spanish, most of the sentences weight and intention are left at the very end, so, we're using the `clip_sequence` function so we can extract most of the scence of each sequence more purely."
      ],
      "metadata": {}
    },
    {
      "cell_type": "code",
      "execution_count": 10,
      "source": [
        "def clip_sequence(sequence, trailing_token_size):\n",
        "    if type(sequence) == str:\n",
        "        sequence = sequence.split()\n",
        "    return sequence[-trailing_token_size:]\n"
      ],
      "outputs": [],
      "metadata": {}
    },
    {
      "cell_type": "code",
      "execution_count": 11,
      "source": [
        "clip_sequence(\"hola, buenas tardes\", 2), clip_sequence(\"hola, buenas tardes\", 25)"
      ],
      "outputs": [
        {
          "output_type": "execute_result",
          "data": {
            "text/plain": [
              "(['buenas', 'tardes'], ['hola,', 'buenas', 'tardes'])"
            ]
          },
          "metadata": {},
          "execution_count": 11
        }
      ],
      "metadata": {}
    },
    {
      "cell_type": "markdown",
      "source": [
        "### Choosing sequence length"
      ],
      "metadata": {
        "id": "Q0wWLvoZ2BJX"
      }
    },
    {
      "cell_type": "code",
      "execution_count": 16,
      "source": [
        "token_lens = []\n",
        "\n",
        "for s in train_df['review_body']:\n",
        "  tokens = tokenizer.encode(s, max_length=512, truncation=True)\n",
        "  token_lens.append(len(tokens))"
      ],
      "outputs": [],
      "metadata": {
        "id": "kNcDOA5T2BJY"
      }
    },
    {
      "cell_type": "code",
      "execution_count": 17,
      "source": [
        "sns.displot(token_lens, kde=True)\n",
        "plt.xlim([0,256])\n",
        "plt.xlabel('Token count')\n",
        "\n",
        "plt.axvline(x=80)\n",
        "plt.axvline(x=64)\n"
      ],
      "outputs": [
        {
          "output_type": "execute_result",
          "data": {
            "text/plain": [
              "<matplotlib.lines.Line2D at 0x7f4363af4d10>"
            ]
          },
          "metadata": {},
          "execution_count": 17
        },
        {
          "output_type": "display_data",
          "data": {
            "text/plain": [
              "<Figure size 360x360 with 1 Axes>"
            ],
            "image/png": "[encoded data removed]"
          },
          "metadata": {
            "image/png": {
              "width": 349,
              "height": 361
            }
          }
        }
      ],
      "metadata": {
        "colab": {
          "base_uri": "https://localhost:8080/",
          "height": 396
        },
        "id": "isQjihkz2BJZ",
        "outputId": "42d4fa26-6a2e-41ee-e053-d18710f363ad"
      }
    },
    {
      "cell_type": "markdown",
      "source": [
        "Most of the population of our dataset are up to 150 token per instance, in the past we used a barely `64`, now we're going further and pushing up to `160`."
      ],
      "metadata": {
        "id": "Y3xjI6Os2BJa"
      }
    },
    {
      "cell_type": "code",
      "execution_count": 17,
      "source": [
        "SEQ_MAX_LEN = 160"
      ],
      "outputs": [],
      "metadata": {
        "id": "P_P9TbOY2BJb"
      }
    },
    {
      "cell_type": "markdown",
      "source": [
        "### Building datasets"
      ],
      "metadata": {
        "id": "ndc3jiCv2BJb"
      }
    },
    {
      "cell_type": "markdown",
      "source": [
        "To not modify already written code (which is useful still), we're clipping the sequence by default"
      ],
      "metadata": {}
    },
    {
      "cell_type": "code",
      "execution_count": 15,
      "source": [
        "def tokenize_sequence(sequence, clip_seq=True):\n",
        "    if clip_seq:\n",
        "        sequence = clip_sequence(sequence, SEQ_MAX_LEN)\n",
        "\n",
        "    tokens = tokenizer.encode_plus(sequence,\n",
        "                                   max_length=SEQ_MAX_LEN,\n",
        "                                   truncation=True,\n",
        "                                   padding='max_length',\n",
        "                                   add_special_tokens=True,\n",
        "                                   return_tensors='tf')\n",
        "    return tokens\n"
      ],
      "outputs": [],
      "metadata": {
        "colab": {
          "base_uri": "https://localhost:8080/"
        },
        "id": "PpKVkq-o74lE",
        "outputId": "4f10acd6-68db-4d49-acbe-72788de0f97e"
      }
    },
    {
      "cell_type": "code",
      "execution_count": 16,
      "source": [
        "# SEQ_MAX_LEN = 2\n",
        "# SEQ_MAX_LEN = 160\n",
        "\n",
        "tokenize_sequence('hola, buen dia')"
      ],
      "outputs": [
        {
          "output_type": "execute_result",
          "data": {
            "text/plain": [
              "{'input_ids': <tf.Tensor: shape=(1, 2), dtype=int32, numpy=array([[11, 12]], dtype=int32)>, 'token_type_ids': <tf.Tensor: shape=(1, 2), dtype=int32, numpy=array([[0, 0]], dtype=int32)>, 'attention_mask': <tf.Tensor: shape=(1, 2), dtype=int32, numpy=array([[1, 1]], dtype=int32)>}"
            ]
          },
          "metadata": {},
          "execution_count": 16
        }
      ],
      "metadata": {}
    },
    {
      "cell_type": "code",
      "execution_count": 20,
      "source": [
        "train_df.shape\n"
      ],
      "outputs": [
        {
          "output_type": "execute_result",
          "data": {
            "text/plain": [
              "(200000, 9)"
            ]
          },
          "metadata": {},
          "execution_count": 20
        }
      ],
      "metadata": {
        "colab": {
          "base_uri": "https://localhost:8080/"
        },
        "id": "Bb4VO5CT2BJc",
        "outputId": "4d2df602-af1d-4b89-98a9-4321c9854708"
      }
    },
    {
      "cell_type": "code",
      "execution_count": 21,
      "source": [
        "from sklearn.model_selection import train_test_split\n"
      ],
      "outputs": [],
      "metadata": {
        "id": "xHyye29z2BJd"
      }
    },
    {
      "cell_type": "code",
      "execution_count": 23,
      "source": [
        "RANDOM_SEED = 25"
      ],
      "outputs": [],
      "metadata": {
        "id": "-5zZnPEq7x3d"
      }
    },
    {
      "cell_type": "code",
      "execution_count": 69,
      "source": [
        "train_set, _ = train_test_split(\n",
        "    train_df,\n",
        "    train_size=0.4,\n",
        "    random_state=RANDOM_SEED,\n",
        "    shuffle=True,\n",
        "    stratify=train_df['sentiment']\n",
        ")\n",
        "\n",
        "train_set.shape\n"
      ],
      "outputs": [
        {
          "output_type": "execute_result",
          "data": {
            "text/plain": [
              "(120000, 9)"
            ]
          },
          "metadata": {},
          "execution_count": 69
        }
      ],
      "metadata": {
        "colab": {
          "base_uri": "https://localhost:8080/"
        },
        "id": "uIGjJr3R2BJd",
        "outputId": "4b508f31-d799-4c9d-8430-f6933256c3eb"
      }
    },
    {
      "cell_type": "markdown",
      "source": [
        "### Train and Validation sets"
      ],
      "metadata": {
        "id": "YLgywSwa2BJe"
      }
    },
    {
      "cell_type": "code",
      "execution_count": 25,
      "source": [
        "import numpy as np\n"
      ],
      "outputs": [],
      "metadata": {
        "id": "v6rOPEEv2BJe"
      }
    },
    {
      "cell_type": "code",
      "execution_count": 26,
      "source": [
        "np.random.seed(RANDOM_SEED)\n"
      ],
      "outputs": [],
      "metadata": {
        "id": "DhPCG2iy2BJf"
      }
    },
    {
      "cell_type": "code",
      "execution_count": 27,
      "source": [
        "def tokenize_dataframe(df, seq_max_len=SEQ_MAX_LEN):\n",
        "    Xids = np.zeros((df.shape[0], seq_max_len))\n",
        "    Xmask = np.zeros((df.shape[0], seq_max_len))\n",
        "\n",
        "    for i, review in enumerate(df['review_body']):\n",
        "        tokens = tokenize_sequence(review)\n",
        "\n",
        "        Xids[i, :] = tokens['input_ids']\n",
        "        Xmask[i, :] = tokens['attention_mask']\n",
        "\n",
        "    return Xids, Xmask\n"
      ],
      "outputs": [],
      "metadata": {
        "id": "bpm5bo3v2BJf"
      }
    },
    {
      "cell_type": "code",
      "execution_count": 28,
      "source": [
        "def label_as_vector(df, target='sentiment'):\n",
        "    labels = np.zeros((df.shape[0], df[target].max() + 1))\n",
        "\n",
        "    for i, label in enumerate(df[target]):\n",
        "        labels[i, label] = 1\n",
        "\n",
        "    return labels\n"
      ],
      "outputs": [],
      "metadata": {
        "id": "oCd17u152BJg"
      }
    },
    {
      "cell_type": "code",
      "execution_count": 70,
      "source": [
        "Xids_train, Xmask_train = tokenize_dataframe(train_set)\n",
        "Xids_val, Xmask_val = tokenize_dataframe(validation_df)\n"
      ],
      "outputs": [],
      "metadata": {
        "id": "0tI1oBh02BJg"
      }
    },
    {
      "cell_type": "code",
      "execution_count": 71,
      "source": [
        "labels_train = label_as_vector(train_set)\n",
        "labels_val = label_as_vector(validation_df)\n",
        "\n",
        "labels_train[:4]\n"
      ],
      "outputs": [
        {
          "output_type": "execute_result",
          "data": {
            "text/plain": [
              "array([[0., 1., 0.],\n",
              "       [0., 1., 0.],\n",
              "       [1., 0., 0.],\n",
              "       [1., 0., 0.]])"
            ]
          },
          "metadata": {},
          "execution_count": 71
        }
      ],
      "metadata": {
        "colab": {
          "base_uri": "https://localhost:8080/"
        },
        "id": "KU1vG06W2BJi",
        "outputId": "14c1af29-7608-4318-d3ad-f41f7d981083"
      }
    },
    {
      "cell_type": "code",
      "execution_count": 72,
      "source": [
        "Xids_train.shape, Xids_val.shape\n"
      ],
      "outputs": [
        {
          "output_type": "execute_result",
          "data": {
            "text/plain": [
              "((120000, 64), (5000, 64))"
            ]
          },
          "metadata": {},
          "execution_count": 72
        }
      ],
      "metadata": {
        "colab": {
          "base_uri": "https://localhost:8080/"
        },
        "id": "n-OB_Kih2BJi",
        "outputId": "0db9f190-ba08-41a1-fa80-57b342fd87c0"
      }
    },
    {
      "cell_type": "markdown",
      "source": [
        "### Serializing training vectors\n",
        "\n",
        "Here we store as numpy vectors the `Xids_train,validation` and `Xmask_train,validation`"
      ],
      "metadata": {
        "id": "FHKY2Ee92BJj"
      }
    },
    {
      "cell_type": "code",
      "execution_count": 32,
      "source": [
        "import os\n"
      ],
      "outputs": [],
      "metadata": {
        "id": "1Ax0xet32BJk"
      }
    },
    {
      "cell_type": "code",
      "execution_count": 33,
      "source": [
        "def serialize_tensors(tensor, name, path):\n",
        "    with open(f'{os.sep.join([path, name])}', 'wb') as file:\n",
        "        np.save(file, tensor)\n"
      ],
      "outputs": [],
      "metadata": {
        "id": "zxux9BJk74lL"
      }
    },
    {
      "cell_type": "code",
      "execution_count": 34,
      "source": [
        "def load_tensors(name, path):\n",
        "    with open(os.sep.join([path, name]), 'rb') as f:\n",
        "        return np.load(f)\n"
      ],
      "outputs": [],
      "metadata": {
        "id": "Jsem0qMv74lO"
      }
    },
    {
      "cell_type": "code",
      "execution_count": 35,
      "source": [
        "tensors_path = os.sep.join(['.', 'tensors', 'classifier', 'amz', '60k'])\n"
      ],
      "outputs": [],
      "metadata": {
        "id": "U5vuTnVt2BJl"
      }
    },
    {
      "cell_type": "code",
      "execution_count": 36,
      "source": [
        "!mkdir -p {tensors_path}\n"
      ],
      "outputs": [],
      "metadata": {
        "id": "Av9TFsDj2BJm"
      }
    },
    {
      "cell_type": "markdown",
      "source": [
        "Here we persist the vectors in the `tensor_path`"
      ],
      "metadata": {
        "id": "pFnW7s_Y2BJn"
      }
    },
    {
      "cell_type": "code",
      "execution_count": null,
      "source": [
        "# serialize_tensors(Xids_train, 'Xids_train.npy', tensors_path)\n",
        "# serialize_tensors(Xmask_train, 'Xmask_train.npy', tensors_path)\n",
        "# serialize_tensors(labels_train, 'labels_train.npy', tensors_path)\n",
        "\n",
        "# !ls {tensors_path}\n"
      ],
      "outputs": [
        {
          "output_type": "stream",
          "name": "stdout",
          "text": [
            "labels.npy  Xids.npy  Xmask.npy\n"
          ]
        }
      ],
      "metadata": {
        "colab": {
          "base_uri": "https://localhost:8080/"
        },
        "id": "09bdB_DW74lM",
        "outputId": "2491bfcc-c280-4be1-b482-c4c30b3bc66e"
      }
    },
    {
      "cell_type": "code",
      "execution_count": null,
      "source": [
        "# serialize_tensors(Xids_val, 'Xids_val.npy', tensors_path)\n",
        "# serialize_tensors(Xmask_vaXids_val, 'Xmask_vaXids_val.npy', tensors_path)\n",
        "# serialize_tensors(labels_vaXids_val, 'labels_vaXids_val.npy', tensors_path)\n",
        "\n",
        "# !ls {tensors_path}\n"
      ],
      "outputs": [],
      "metadata": {
        "id": "TX-SADLH2BJn"
      }
    },
    {
      "cell_type": "code",
      "execution_count": null,
      "source": [
        "# del Xids_train, Xmask_train, labels_train\n",
        "# del Xids_val, Xmask_val, labels_val\n"
      ],
      "outputs": [],
      "metadata": {
        "id": "pWcAMgx474lN"
      }
    },
    {
      "cell_type": "markdown",
      "source": [
        "Here we reload the tensors from the `tensors_path`"
      ],
      "metadata": {
        "id": "pEquhhP92BJo"
      }
    },
    {
      "cell_type": "code",
      "execution_count": 37,
      "source": [
        "!ls {tensors_path}"
      ],
      "outputs": [],
      "metadata": {
        "id": "1hLT_urv2BJp"
      }
    },
    {
      "cell_type": "code",
      "execution_count": null,
      "source": [
        "# Xids_train = load_tensors('Xids_train.npy', tensors_path)\n",
        "# Xmask_train = load_tensors('Xmask_train.npy', tensors_path)\n",
        "# labels_train = load_tensors('labels_train.npy', tensors_path)\n"
      ],
      "outputs": [],
      "metadata": {
        "id": "sSuvRZy-74lP"
      }
    },
    {
      "cell_type": "code",
      "execution_count": null,
      "source": [
        "# Xids_val = load_tensors('Xids_val.npy', tensors_path)\n",
        "# Xmask_val = load_tensors('Xmask_val.npy', tensors_path)\n",
        "# labels_val = load_tensors('labels_val.npy', tensors_path)\n"
      ],
      "outputs": [],
      "metadata": {
        "id": "1ZYNDakO2BJq"
      }
    },
    {
      "cell_type": "markdown",
      "source": [
        "---"
      ],
      "metadata": {
        "id": "N-IebGuzuFL3"
      }
    },
    {
      "cell_type": "markdown",
      "source": [
        "## Input pipeline"
      ],
      "metadata": {
        "id": "2xsZk3FV74lQ"
      }
    },
    {
      "cell_type": "code",
      "execution_count": 38,
      "source": [
        "import tensorflow as tf\n"
      ],
      "outputs": [],
      "metadata": {
        "id": "X_86kymn2BJr"
      }
    },
    {
      "cell_type": "code",
      "execution_count": 39,
      "source": [
        "tf.random.set_seed(RANDOM_SEED)\n"
      ],
      "outputs": [],
      "metadata": {
        "id": "xx_SiZE12BJs"
      }
    },
    {
      "cell_type": "code",
      "execution_count": 40,
      "source": [
        "devices = tf.config.experimental.list_physical_devices('GPU')\n",
        "devices\n"
      ],
      "outputs": [
        {
          "output_type": "execute_result",
          "data": {
            "text/plain": [
              "[PhysicalDevice(name='/physical_device:GPU:0', device_type='GPU')]"
            ]
          },
          "metadata": {},
          "execution_count": 40
        }
      ],
      "metadata": {
        "colab": {
          "base_uri": "https://localhost:8080/"
        },
        "id": "aW3Kk8zb74lQ",
        "outputId": "a1fd39a1-0c5c-4074-9bd9-20f320161e4c"
      }
    },
    {
      "cell_type": "markdown",
      "source": [
        "Here we build sum `Dataset` from the built vectors"
      ],
      "metadata": {
        "id": "NyLu0e_I2BJt"
      }
    },
    {
      "cell_type": "code",
      "execution_count": 84,
      "source": [
        "train_dataset = tf.data.Dataset.from_tensor_slices(\n",
        "    (Xids_train, Xmask_train, labels_train))\n",
        "val_dataset = tf.data.Dataset.from_tensor_slices(\n",
        "    (Xids_val, Xmask_val, labels_val))\n"
      ],
      "outputs": [],
      "metadata": {
        "id": "QoJVV4V_74lR"
      }
    },
    {
      "cell_type": "code",
      "execution_count": 85,
      "source": [
        "train_dataset.take(1)\n"
      ],
      "outputs": [
        {
          "output_type": "execute_result",
          "data": {
            "text/plain": [
              "<TakeDataset shapes: ((64,), (64,), (3,)), types: (tf.float64, tf.float64, tf.float64)>"
            ]
          },
          "metadata": {},
          "execution_count": 85
        }
      ],
      "metadata": {
        "colab": {
          "base_uri": "https://localhost:8080/"
        },
        "id": "NNgso6HM74lS",
        "outputId": "8bbe21ce-bf4c-40a8-9f5d-576a925985f6"
      }
    },
    {
      "cell_type": "code",
      "execution_count": 43,
      "source": [
        "def map_tensor(input_ids, masks, labels):\n",
        "    return {'input_ids': input_ids, 'attention_mask': masks}, labels\n"
      ],
      "outputs": [],
      "metadata": {
        "id": "ReK57X3774lS"
      }
    },
    {
      "cell_type": "code",
      "execution_count": 86,
      "source": [
        "train_dataset = train_dataset.map(map_tensor)\n",
        "val_dataset = val_dataset.map(map_tensor)\n",
        "\n",
        "train_dataset.take(1)\n"
      ],
      "outputs": [
        {
          "output_type": "execute_result",
          "data": {
            "text/plain": [
              "<TakeDataset shapes: ({input_ids: (64,), attention_mask: (64,)}, (3,)), types: ({input_ids: tf.float64, attention_mask: tf.float64}, tf.float64)>"
            ]
          },
          "metadata": {},
          "execution_count": 86
        }
      ],
      "metadata": {
        "colab": {
          "base_uri": "https://localhost:8080/"
        },
        "id": "FBj4hbpG74lT",
        "outputId": "83aabc8c-c186-4646-87f7-13e0336bcc73"
      }
    },
    {
      "cell_type": "code",
      "execution_count": 87,
      "source": [
        "train_dataset = train_dataset.shuffle(100_000).batch(128, drop_remainder=False)\n",
        "val_dataset = val_dataset.shuffle(10_000).batch(128, drop_remainder=False)\n",
        "\n",
        "train_dataset.take(1)\n"
      ],
      "outputs": [
        {
          "output_type": "execute_result",
          "data": {
            "text/plain": [
              "<TakeDataset shapes: ({input_ids: (None, 64), attention_mask: (None, 64)}, (None, 3)), types: ({input_ids: tf.float64, attention_mask: tf.float64}, tf.float64)>"
            ]
          },
          "metadata": {},
          "execution_count": 87
        }
      ],
      "metadata": {
        "colab": {
          "base_uri": "https://localhost:8080/"
        },
        "id": "6sFN9b3Y74lT",
        "outputId": "71af57c3-ab3f-47c9-9f41-5f9187783a84"
      }
    },
    {
      "cell_type": "markdown",
      "source": [
        "---\n",
        "\n",
        "## Training the model"
      ],
      "metadata": {
        "id": "-VChUbK-uA3i"
      }
    },
    {
      "cell_type": "code",
      "execution_count": 46,
      "source": [
        "from transformers import TFBertModel\n"
      ],
      "outputs": [],
      "metadata": {
        "id": "wKOvVoge2BJv"
      }
    },
    {
      "cell_type": "code",
      "execution_count": 47,
      "source": [
        "bert = TFBertModel.from_pretrained(MODEL_NAME)\n"
      ],
      "outputs": [
        {
          "output_type": "display_data",
          "data": {
            "text/plain": [
              "Downloading:   0%|          | 0.00/510M [00:00<?, ?B/s]"
            ],
            "application/vnd.jupyter.widget-view+json": {
              "model_id": "d1b87ea3dabb4faf8fd3d9e1c1cc1a70",
              "version_minor": 0,
              "version_major": 2
            }
          },
          "metadata": {}
        },
        {
          "output_type": "stream",
          "name": "stderr",
          "text": [
            "Some layers from the model checkpoint at Geotrend/bert-base-es-cased were not used when initializing TFBertModel: ['mlm___cls']\n",
            "- This IS expected if you are initializing TFBertModel from the checkpoint of a model trained on another task or with another architecture (e.g. initializing a BertForSequenceClassification model from a BertForPreTraining model).\n",
            "- This IS NOT expected if you are initializing TFBertModel from the checkpoint of a model that you expect to be exactly identical (initializing a BertForSequenceClassification model from a BertForSequenceClassification model).\n",
            "All the layers of TFBertModel were initialized from the model checkpoint at Geotrend/bert-base-es-cased.\n",
            "If your task is similar to the task the model of the checkpoint was trained on, you can already use TFBertModel for predictions without further training.\n"
          ]
        }
      ],
      "metadata": {
        "colab": {
          "base_uri": "https://localhost:8080/",
          "height": 161,
          "referenced_widgets": [
            "d1b87ea3dabb4faf8fd3d9e1c1cc1a70",
            "0ee35ad962ac4729b9b01aca2283e0ae",
            "507690eb68c445ab89b32ea0421b8371",
            "2b699041e4fa479a9f8f6741e68633ab",
            "6c58a35e46d54d7994660843a13afa5e",
            "5d6413fc02944e18bc062e12aa837f56",
            "db95685ba718461ab81258e9902afad9",
            "e737d5a9297349549d98ee1b8af3ea2c",
            "6f2670603b57475a868ef7d736584d31",
            "8dcc5ac93c7941d0aa8c5ef63643fc02",
            "fd02222e009d4492bbe13f49e9f9d0d0"
          ]
        },
        "id": "bcFGNsEw2BJv",
        "outputId": "82ff6e1a-8b38-49b1-bc0c-6170f6db69e5"
      }
    },
    {
      "cell_type": "code",
      "execution_count": 48,
      "source": [
        "bert.summary()"
      ],
      "outputs": [
        {
          "output_type": "stream",
          "name": "stdout",
          "text": [
            "Model: \"tf_bert_model\"\n",
            "_________________________________________________________________\n",
            "Layer (type)                 Output Shape              Param #   \n",
            "=================================================================\n",
            "bert (TFBertMainLayer)       multiple                  106285056 \n",
            "=================================================================\n",
            "Total params: 106,285,056\n",
            "Trainable params: 106,285,056\n",
            "Non-trainable params: 0\n",
            "_________________________________________________________________\n"
          ]
        }
      ],
      "metadata": {
        "colab": {
          "base_uri": "https://localhost:8080/"
        },
        "id": "6aNS4UZMuQHg",
        "outputId": "bdfca277-948d-4b49-9e80-c3455fe60bca"
      }
    },
    {
      "cell_type": "code",
      "execution_count": 49,
      "source": [
        "len(class_names)"
      ],
      "outputs": [
        {
          "output_type": "execute_result",
          "data": {
            "text/plain": [
              "3"
            ]
          },
          "metadata": {},
          "execution_count": 49
        }
      ],
      "metadata": {
        "colab": {
          "base_uri": "https://localhost:8080/"
        },
        "id": "wQrGWg1i2BJw",
        "outputId": "1d7ec9c3-449f-4548-c652-62b8c430ae49"
      }
    },
    {
      "cell_type": "code",
      "execution_count": 50,
      "source": [
        "input_ids = tf.keras.layers.Input(\n",
        "    shape=(SEQ_MAX_LEN,), name='input_ids', dtype='int32')\n",
        "mask = tf.keras.layers.Input(\n",
        "    shape=(SEQ_MAX_LEN,), name='attention_mask', dtype='int32')\n",
        "\n",
        "embedings = bert.bert(input_ids, attention_mask=mask)[1]\n",
        "\n",
        "# x = tf.keras.layers.Flatten()(embedings)\n",
        "x = tf.keras.layers.Dropout(0.3)(embedings)\n",
        "x = tf.keras.layers.Dense(128, activation='relu')(x)\n",
        "\n",
        "# There're only three possible outcomes\n",
        "y = tf.keras.layers.Dense(\n",
        "    len(class_names), activation='softmax', name='outputs')(x)\n",
        "\n",
        "model = tf.keras.Model(inputs=[input_ids, mask], outputs=y)\n",
        "\n",
        "model.layers[2].trainable = False\n"
      ],
      "outputs": [],
      "metadata": {
        "id": "sfUPSFTj74lW"
      }
    },
    {
      "cell_type": "code",
      "execution_count": 51,
      "source": [
        "model.summary()\n"
      ],
      "outputs": [
        {
          "output_type": "stream",
          "name": "stdout",
          "text": [
            "Model: \"model\"\n",
            "__________________________________________________________________________________________________\n",
            "Layer (type)                    Output Shape         Param #     Connected to                     \n",
            "==================================================================================================\n",
            "input_ids (InputLayer)          [(None, 64)]         0                                            \n",
            "__________________________________________________________________________________________________\n",
            "attention_mask (InputLayer)     [(None, 64)]         0                                            \n",
            "__________________________________________________________________________________________________\n",
            "bert (TFBertMainLayer)          TFBaseModelOutputWit 106285056   input_ids[0][0]                  \n",
            "                                                                 attention_mask[0][0]             \n",
            "__________________________________________________________________________________________________\n",
            "dropout_37 (Dropout)            (None, 768)          0           bert[0][1]                       \n",
            "__________________________________________________________________________________________________\n",
            "dense (Dense)                   (None, 128)          98432       dropout_37[0][0]                 \n",
            "__________________________________________________________________________________________________\n",
            "outputs (Dense)                 (None, 3)            387         dense[0][0]                      \n",
            "==================================================================================================\n",
            "Total params: 106,383,875\n",
            "Trainable params: 98,819\n",
            "Non-trainable params: 106,285,056\n",
            "__________________________________________________________________________________________________\n"
          ]
        }
      ],
      "metadata": {
        "colab": {
          "base_uri": "https://localhost:8080/"
        },
        "id": "AjexXbnE2BJx",
        "outputId": "33dc7135-06c7-4e6c-f250-d1ac632d6826"
      }
    },
    {
      "cell_type": "code",
      "execution_count": 52,
      "source": [
        "optimizer = tf.keras.optimizers.Adam(learning_rate=1e-5, decay=1e-6)\n",
        "loss = tf.keras.losses.CategoricalCrossentropy()\n",
        "acc = tf.keras.metrics.CategoricalAccuracy('accuracy')\n",
        "\n",
        "model.compile(optimizer=optimizer, loss=loss, metrics=[acc])\n"
      ],
      "outputs": [],
      "metadata": {
        "id": "Nb7Lj6mW74lZ"
      }
    },
    {
      "cell_type": "code",
      "execution_count": 82,
      "source": [
        "EPOCHS = 6\n"
      ],
      "outputs": [],
      "metadata": {
        "id": "_RYoCcBC2BJy"
      }
    },
    {
      "cell_type": "markdown",
      "source": [
        "Here we mount google colab, so if train finishes but I'm iddle we still can store it"
      ],
      "metadata": {
        "id": "3eTgyjWl2BJz"
      }
    },
    {
      "cell_type": "code",
      "execution_count": 54,
      "source": [
        "try:\n",
        "    import google.colab\n",
        "    IN_COLAB = True\n",
        "except:\n",
        "    IN_COLAB = False\n",
        "\n",
        "if IN_COLAB:\n",
        "    from google.colab import drive\n",
        "\n",
        "    drive.mount('/content/gdrive')\n"
      ],
      "outputs": [
        {
          "output_type": "stream",
          "name": "stdout",
          "text": [
            "Mounted at /content/gdrive\n"
          ]
        }
      ],
      "metadata": {
        "colab": {
          "base_uri": "https://localhost:8080/"
        },
        "id": "wQcmpGKZ2BJ0",
        "outputId": "1cb292fd-d825-4c79-920e-7cdfe56784da"
      }
    },
    {
      "cell_type": "code",
      "execution_count": 88,
      "source": [
        "hist = model.fit(\n",
        "    train_dataset,\n",
        "    validation_data=val_dataset,\n",
        "    epochs=EPOCHS,\n",
        ")\n"
      ],
      "outputs": [
        {
          "output_type": "stream",
          "name": "stdout",
          "text": [
            "Epoch 1/6\n",
            "938/938 [==============================] - 998s 1s/step - loss: 0.9859 - accuracy: 0.5401 - val_loss: 0.9500 - val_accuracy: 0.5828\n",
            "Epoch 2/6\n",
            "938/938 [==============================] - 993s 1s/step - loss: 0.9745 - accuracy: 0.5473 - val_loss: 0.9364 - val_accuracy: 0.5914\n",
            "Epoch 3/6\n",
            "938/938 [==============================] - 991s 1s/step - loss: 0.9632 - accuracy: 0.5543 - val_loss: 0.9255 - val_accuracy: 0.5964\n",
            "Epoch 4/6\n",
            "938/938 [==============================] - 997s 1s/step - loss: 0.9572 - accuracy: 0.5580 - val_loss: 0.9164 - val_accuracy: 0.5994\n",
            "Epoch 5/6\n",
            "938/938 [==============================] - 993s 1s/step - loss: 0.9503 - accuracy: 0.5633 - val_loss: 0.9101 - val_accuracy: 0.6016\n",
            "Epoch 6/6\n",
            "938/938 [==============================] - 993s 1s/step - loss: 0.9452 - accuracy: 0.5656 - val_loss: 0.9048 - val_accuracy: 0.6026\n"
          ]
        }
      ],
      "metadata": {
        "colab": {
          "base_uri": "https://localhost:8080/"
        },
        "id": "pRlFNJSy74lb",
        "outputId": "510b9ae0-06fd-40c0-ced1-61adf6ccb46d"
      }
    },
    {
      "cell_type": "markdown",
      "source": [
        "---\n",
        "\n",
        "### Persisting the built model"
      ],
      "metadata": {
        "id": "Sau3aGmmSPGH"
      }
    },
    {
      "cell_type": "code",
      "execution_count": 89,
      "source": [
        "model.save('sentiment_roberto_v3_dbl')"
      ],
      "outputs": [
        {
          "output_type": "stream",
          "name": "stderr",
          "text": [
            "WARNING:absl:Found untraced functions such as embeddings_layer_call_fn, embeddings_layer_call_and_return_conditional_losses, encoder_layer_call_fn, encoder_layer_call_and_return_conditional_losses, pooler_layer_call_fn while saving (showing 5 of 1055). These functions will not be directly callable after loading.\n"
          ]
        },
        {
          "output_type": "stream",
          "name": "stdout",
          "text": [
            "INFO:tensorflow:Assets written to: sentiment_roberto_v3_dbl/assets\n"
          ]
        },
        {
          "output_type": "stream",
          "name": "stderr",
          "text": [
            "INFO:tensorflow:Assets written to: sentiment_roberto_v3_dbl/assets\n",
            "/usr/local/lib/python3.7/dist-packages/keras/utils/generic_utils.py:497: CustomMaskWarning: Custom mask layers require a config and must override get_config. When loading, the custom mask layer must be passed to the custom_objects argument.\n",
            "  category=CustomMaskWarning)\n"
          ]
        }
      ],
      "metadata": {
        "colab": {
          "base_uri": "https://localhost:8080/"
        },
        "id": "eWNAURd92BJ1",
        "outputId": "f9a3b7f1-2d52-4538-f7ce-735792ab7ddc"
      }
    },
    {
      "cell_type": "code",
      "execution_count": 90,
      "source": [
        "!zip -r sentiment_roberto_v3_dbl.zip sentiment_roberto_v3_dbl"
      ],
      "outputs": [
        {
          "output_type": "stream",
          "name": "stdout",
          "text": [
            "  adding: sentiment_roberto_v3_dbl/ (stored 0%)\n",
            "  adding: sentiment_roberto_v3_dbl/assets/ (stored 0%)\n",
            "  adding: sentiment_roberto_v3_dbl/saved_model.pb (deflated 92%)\n",
            "  adding: sentiment_roberto_v3_dbl/keras_metadata.pb (deflated 95%)\n",
            "  adding: sentiment_roberto_v3_dbl/variables/ (stored 0%)\n",
            "  adding: sentiment_roberto_v3_dbl/variables/variables.data-00000-of-00001 (deflated 7%)\n",
            "  adding: sentiment_roberto_v3_dbl/variables/variables.index (deflated 76%)\n"
          ]
        }
      ],
      "metadata": {
        "colab": {
          "base_uri": "https://localhost:8080/"
        },
        "id": "1i6Xf59g2BJ1",
        "outputId": "b333cd80-7418-4328-efbd-947d6a0a2801"
      }
    },
    {
      "cell_type": "markdown",
      "source": [
        "If in google colab, persist it to Google Drive"
      ],
      "metadata": {
        "id": "2HxBxpBR2BJ2"
      }
    },
    {
      "cell_type": "code",
      "execution_count": 91,
      "source": [
        "if IN_COLAB:\n",
        "    !cp sentiment_roberto_v3_dbl.zip \"/content/gdrive/MyDrive/proyectos/machine learning/sentiment_analysis/\"\n"
      ],
      "outputs": [],
      "metadata": {
        "id": "EGjhtTCvSP_L"
      }
    },
    {
      "cell_type": "markdown",
      "source": [
        "## Observing model progress during training"
      ],
      "metadata": {
        "id": "FZFfedvJ2BJ2"
      }
    },
    {
      "cell_type": "code",
      "execution_count": 92,
      "source": [
        "model_history = hist.history\n",
        "model_history.keys()"
      ],
      "outputs": [
        {
          "output_type": "execute_result",
          "data": {
            "text/plain": [
              "dict_keys(['loss', 'accuracy', 'val_loss', 'val_accuracy'])"
            ]
          },
          "metadata": {},
          "execution_count": 92
        }
      ],
      "metadata": {
        "colab": {
          "base_uri": "https://localhost:8080/"
        },
        "id": "qiVrZJcN2BJ2",
        "outputId": "fc295ebf-4748-4fd7-c78d-b0ec9a22bd14"
      }
    },
    {
      "cell_type": "code",
      "execution_count": 93,
      "source": [
        "plt.plot(model_history['accuracy'], label='train accuracy')\n",
        "plt.plot(model_history['val_accuracy'], label='validation accuracy')\n",
        "\n",
        "plt.title('Training history')\n",
        "plt.ylabel('Accuracy')\n",
        "plt.xlabel('Epoch')\n",
        "plt.legend()\n",
        "plt.ylim([0, 1])\n"
      ],
      "outputs": [
        {
          "output_type": "execute_result",
          "data": {
            "text/plain": [
              "(0.0, 1.0)"
            ]
          },
          "metadata": {},
          "execution_count": 93
        },
        {
          "output_type": "display_data",
          "data": {
            "text/plain": [
              "<Figure size 864x576 with 1 Axes>"
            ],
            "image/png": "[encoded data removed]"
          },
          "metadata": {
            "image/png": {
              "width": 732,
              "height": 506
            }
          }
        }
      ],
      "metadata": {
        "colab": {
          "base_uri": "https://localhost:8080/",
          "height": 541
        },
        "id": "vh_LwuCX2BJ3",
        "outputId": "df3cade0-adb5-44d2-8611-d964cc172e65"
      }
    },
    {
      "cell_type": "markdown",
      "source": [
        "## Observing model metrics"
      ],
      "metadata": {
        "id": "gTjgbw9WGZG6"
      }
    },
    {
      "cell_type": "code",
      "execution_count": 94,
      "source": [
        "def prepare_data(text):\n",
        "    tokens = tokenize_sequence(text)\n",
        "    return {'input_ids': tf.cast(tokens['input_ids'], tf.float64),\n",
        "            'attention_mask': tf.cast(tokens['attention_mask'], tf.float64)}\n"
      ],
      "outputs": [],
      "metadata": {
        "id": "PHjzy9lHMkAH"
      }
    },
    {
      "cell_type": "code",
      "execution_count": 97,
      "source": [
        "def get_predictions(model, df):\n",
        "    review_texts = []\n",
        "    predictions = []\n",
        "    prediction_probs = []\n",
        "    real_values = []\n",
        "\n",
        "    for idx, r in df.iterrows():\n",
        "        # Input data\n",
        "        texts = r['review_body']\n",
        "        y_true = r['sentiment']\n",
        "\n",
        "        # Model Output\n",
        "        probs = model.predict(prepare_data(texts))[0]\n",
        "        pred = np.argmax(probs)\n",
        "\n",
        "        # Append result for a later evaluation\n",
        "        review_texts.append(texts)\n",
        "        predictions.append(pred)\n",
        "        prediction_probs.append(probs)\n",
        "        real_values.append(y_true)\n",
        "\n",
        "    return review_texts, predictions, prediction_probs, real_values\n"
      ],
      "outputs": [],
      "metadata": {
        "id": "51Q1gKP3NGng"
      }
    },
    {
      "cell_type": "code",
      "execution_count": 98,
      "source": [
        "y_review_texts, y_pred, y_pred_probs, y_test = get_predictions(\n",
        "    model,\n",
        "    test_df\n",
        ")"
      ],
      "outputs": [],
      "metadata": {
        "id": "sAYQZBG0MkI-"
      }
    },
    {
      "cell_type": "code",
      "execution_count": 99,
      "source": [
        "from sklearn.metrics import classification_report\n"
      ],
      "outputs": [],
      "metadata": {
        "id": "BkVimCS-MkSH"
      }
    },
    {
      "cell_type": "code",
      "execution_count": 100,
      "source": [
        "print(classification_report(y_test, y_pred, target_names=class_names))\n"
      ],
      "outputs": [
        {
          "output_type": "stream",
          "name": "stdout",
          "text": [
            "              precision    recall  f1-score   support\n",
            "\n",
            "    Negative       0.60      0.76      0.67      2000\n",
            "     Neutral       0.00      0.00      0.00      1000\n",
            "    Positive       0.61      0.76      0.68      2000\n",
            "\n",
            "    accuracy                           0.61      5000\n",
            "   macro avg       0.40      0.51      0.45      5000\n",
            "weighted avg       0.49      0.61      0.54      5000\n",
            "\n"
          ]
        },
        {
          "output_type": "stream",
          "name": "stderr",
          "text": [
            "/usr/local/lib/python3.7/dist-packages/sklearn/metrics/_classification.py:1272: UndefinedMetricWarning: Precision and F-score are ill-defined and being set to 0.0 in labels with no predicted samples. Use `zero_division` parameter to control this behavior.\n",
            "  _warn_prf(average, modifier, msg_start, len(result))\n"
          ]
        }
      ],
      "metadata": {
        "id": "S-DsydrhT68u",
        "outputId": "62c29559-b3ee-42c7-b748-2f8882c31750",
        "colab": {
          "base_uri": "https://localhost:8080/"
        }
      }
    },
    {
      "cell_type": "code",
      "execution_count": 101,
      "source": [
        "from sklearn.metrics import confusion_matrix\n",
        "import pandas as pd\n"
      ],
      "outputs": [],
      "metadata": {
        "id": "eOraPLJdT7E9"
      }
    },
    {
      "cell_type": "code",
      "execution_count": 102,
      "source": [
        "def show_confusion_matrix(confusion_matrix):\n",
        "    hmap = sns.heatmap(confusion_matrix, annot=True, fmt=\"d\", cmap=\"Blues\")\n",
        "    hmap.yaxis.set_ticklabels(\n",
        "        hmap.yaxis.get_ticklabels(), rotation=0, ha='right')\n",
        "    hmap.xaxis.set_ticklabels(\n",
        "        hmap.xaxis.get_ticklabels(), rotation=30, ha='right')\n",
        "    plt.ylabel('True sentiment')\n",
        "    plt.xlabel('Predicted sentiment')\n",
        "\n",
        "\n",
        "cm = confusion_matrix(y_test, y_pred)\n",
        "df_cm = pd.DataFrame(cm, index=class_names, columns=class_names)\n",
        "show_confusion_matrix(df_cm)\n"
      ],
      "outputs": [
        {
          "output_type": "display_data",
          "data": {
            "text/plain": [
              "<Figure size 864x576 with 2 Axes>"
            ],
            "image/png": "[encoded data removed]"
          },
          "metadata": {
            "image/png": {
              "width": 735,
              "height": 517
            }
          }
        }
      ],
      "metadata": {
        "id": "lC1I41KRT7Kv",
        "outputId": "6ab8629d-eabd-4bcd-a958-5b2875e31202",
        "colab": {
          "base_uri": "https://localhost:8080/",
          "height": 534
        }
      }
    },
    {
      "cell_type": "code",
      "execution_count": 103,
      "source": [
        "model.save('sentiment_roberto_v3_dbl.h5')\n"
      ],
      "outputs": [],
      "metadata": {
        "id": "99w9ADEpT7Rf"
      }
    },
    {
      "cell_type": "code",
      "execution_count": 105,
      "source": [
        "!ls -lh"
      ],
      "outputs": [
        {
          "output_type": "stream",
          "name": "stdout",
          "text": [
            "total 1.2G\n",
            "drwx------ 6 root root 4.0K Sep  5 12:33 gdrive\n",
            "drwxr-xr-x 1 root root 4.0K Sep  1 19:26 sample_data\n",
            "drwxr-xr-x 4 root root 4.0K Sep  5 13:11 sentiment_roberto_v3\n",
            "drwxr-xr-x 4 root root 4.0K Sep  5 15:13 sentiment_roberto_v3_dbl\n",
            "-rw-r--r-- 1 root root 407M Sep  5 15:25 sentiment_roberto_v3_dbl.h5\n",
            "-rw-r--r-- 1 root root 378M Sep  5 15:14 sentiment_roberto_v3_dbl.zip\n",
            "-rw-r--r-- 1 root root 378M Sep  5 13:12 sentiment_roberto_v3.zip\n",
            "drwxr-xr-x 3 root root 4.0K Sep  5 12:30 tensors\n"
          ]
        }
      ],
      "metadata": {
        "id": "SJpgzpJ1kP4a",
        "outputId": "106fc570-1e41-4c1e-969d-4968afa9bacc",
        "colab": {
          "base_uri": "https://localhost:8080/"
        }
      }
    },
    {
      "cell_type": "code",
      "execution_count": 107,
      "source": [
        "if IN_COLAB:\n",
        "    !cp sentiment_roberto_v3_dbl.h5 \"/content/gdrive/MyDrive/proyectos/machine learning/sentiment_analysis/\"\n"
      ],
      "outputs": [],
      "metadata": {
        "id": "53ZnlM4TkaVu"
      }
    }
  ]
}