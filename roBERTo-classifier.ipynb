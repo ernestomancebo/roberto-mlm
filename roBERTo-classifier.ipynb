{
 "cells": [
  {
   "cell_type": "markdown",
   "source": [
    "# roBERTo Classifier\n",
    "\n",
    "This notebook inspired in BERT/roBERTa models andd attaches an output layer that works as multiclassification. As well, this model is trained with a spanish corpus."
   ],
   "metadata": {}
  },
  {
   "cell_type": "code",
   "execution_count": null,
   "source": [
    "!pip install -r requirements.txt"
   ],
   "outputs": [],
   "metadata": {}
  },
  {
   "cell_type": "code",
   "execution_count": 1,
   "source": [
    "from datasets import load_dataset\n",
    "\n",
    "dataset = load_dataset(\"catalonia_independence\")"
   ],
   "outputs": [
    {
     "output_type": "stream",
     "name": "stderr",
     "text": [
      "Downloading: 5.99kB [00:00, 60.2kB/s]                   \n",
      "Downloading: 7.64kB [00:00, 118kB/s]                    \n",
      "No config specified, defaulting to: catalonia_independence/catalan\n"
     ]
    },
    {
     "output_type": "stream",
     "name": "stdout",
     "text": [
      "Downloading and preparing dataset catalonia_independence/catalan (download: 972.08 KiB, generated: 2.24 MiB, post-processed: Unknown size, total: 3.19 MiB) to /Users/ernestomancebo/.cache/huggingface/datasets/catalonia_independence/catalan/1.1.0/e03c46e26a08e770675760d05c1a923879381d46d19318682e8e2ddfcfc6ef19...\n"
     ]
    },
    {
     "output_type": "stream",
     "name": "stderr",
     "text": [
      "Downloading: 100%|██████████| 995k/995k [00:06<00:00, 157kB/s]\n"
     ]
    },
    {
     "output_type": "stream",
     "name": "stdout",
     "text": [
      "Dataset catalonia_independence downloaded and prepared to /Users/ernestomancebo/.cache/huggingface/datasets/catalonia_independence/catalan/1.1.0/e03c46e26a08e770675760d05c1a923879381d46d19318682e8e2ddfcfc6ef19. Subsequent calls will reuse this data.\n"
     ]
    }
   ],
   "metadata": {}
  },
  {
   "cell_type": "code",
   "execution_count": 3,
   "source": [
    "train = dataset['train']"
   ],
   "outputs": [],
   "metadata": {}
  },
  {
   "cell_type": "code",
   "execution_count": 9,
   "source": [
    "train[:15]"
   ],
   "outputs": [
    {
     "output_type": "execute_result",
     "data": {
      "text/plain": [
       "{'id_str': ['11028517837209518e+18',\n",
       "  '1098892781681082368',\n",
       "  '10990323264895959e+18',\n",
       "  '110251884676898e+18',\n",
       "  '1093081744193081344',\n",
       "  '1097490620204101632',\n",
       "  '10363613732388004e+18',\n",
       "  '10383490390524355e+18',\n",
       "  '10994375828558725e+18',\n",
       "  '1045062904335265795',\n",
       "  '1102943734428246e+18',\n",
       "  '1046425772653727746',\n",
       "  '1041394524281602048',\n",
       "  '11030354070868746e+18',\n",
       "  '10932692115295725e+18'],\n",
       " 'TWEET': ['En @fgarrobo ha fet més per l’independentisme i la unitat popular a Nou Barris que tots aquests que tant el critiquen als seus barris i pobles. Amunt Francisco!✊🏾',\n",
       "  \"Divendres 22F acte Cloenda campanya de les candidatures q es presenten a la jornada de votació @PrimariesCat d'aquest dissabte 23F!! Escoltarem les candidates i candidats q sí creuen en una nova manera de fer política!!   #CanviemElGuió #AUTOconvocats #21FVagaGeneral #judicifarsa https://t.co/mtKiZLQUlv\",\n",
       "  \"Puigdemont porta a la Defensora del Poble europea la prohibició de l'acte a l'Eurocambra https://t.co/fera2Vdu6G https://t.co/eoAQbnEE1R\",\n",
       "  \"José Antonio Nieto, ex-secretari d'Estat de Seguretat:  L'actuació dels Mossos d'Esquadra va ser insuficient i ineficaç  https://t.co/2Fh8oAdKTL #JudiciTV3CatRàdio https://t.co/86mWnDfc0b\",\n",
       "  \"Es passen dies denunciant l'autocar amb que van traslladar els presos polítics, ahir diuen que no aprovarien els pressupostos de l'amo i avuí diuen que s'ho repensaran. El ridícul de tot plegat és infinit. Per cert, el president de Catalunya treballa?\",\n",
       "  'Vull votar i votaré.  Hi ha quelcom que no em permet no fer-ho. Ara bé tinc un greu problema.  No sé a qui!!!😡😡😡😍😍😠',\n",
       "  \"Torra crida a fer  una marxa  pels drets civils del país i pel dret a l'autodeterminació en l'homenatges a Rull https://t.co/R6RDTwCAdX\",\n",
       "  '📡 Sergi Vidal a RAC1: “Quan era un molt petit, el meu pare em portava a veure Petrovic al camp de la Penya i pensava: què cabrón, com les fot. Amb Navarro passa el mateix, és un jugador especial”. https://t.co/EmRQGQU7zd',\n",
       "  'Si la setmana vinent decidim anar a les eleccions del 28-A, us agradaria que sortíssim al @FAQSTV3 a explicar la nostra proposta? Feu-nos-ho saber amb el hashtag #PiratesAlFAQS #FAQSstrubelTV3',\n",
       "  'Consentir una manifestació a Plaça Sant Jaume de feixistes que ens amenaça és una irresponsabilitat del @catalangov @MiquelBuch  https://t.co/jY76ZIf9Uu',\n",
       "  \"Titular alternatiu:  El ministre de l'Interior posa en dubte la mateixa realitat, i anuncia que deixa la política per dedicar-se a la filosofia . https://t.co/fYf68lHmk4\",\n",
       "  \"En un bar de Sant Joan de Vilatorrada:  Tens el president del partit a la garjola i la secretària general a l'exili per haver fet un referèndum i els del partit proposen fer-ne un de debò... \",\n",
       "  \"@aramateix @cupnacional @CUPBarcelona foreceu noves eleccions JA... apartem als qui el 21D van enganyar als seus votants i ara s'han tret la màscara autonomista  amb polítics sense coratge ni projecte que no compleixen el mandat del #1oct NO AVANCEM  @cupnacional... feu valer els nostres vots... tenim pressa\",\n",
       "  'RT @josecgrsjd: Uiiiii @AdaColau un zasca de aquellos que te gustan recibir!!! https://t.co/J6mTfXprCg',\n",
       "  \"I aquest divendres al #PostgrauGovObert expectatives 🔝🔝🔝: sessió de @jordigraells (director general d'Atenció Ciutadana d @gencat ) q ens parlarà de les tendències de futur 🤖 i no tant futur, en la Governança Digital 💻 de les #AAPP. https://t.co/ABkq7VWILY\"],\n",
       " 'LABEL': [0, 1, 2, 2, 1, 1, 2, 0, 0, 1, 0, 1, 1, 0, 2]}"
      ]
     },
     "metadata": {},
     "execution_count": 9
    }
   ],
   "metadata": {}
  },
  {
   "cell_type": "code",
   "execution_count": 11,
   "source": [
    "from datasets import load_dataset\n",
    "\n",
    "muchocine_dataset = load_dataset(\"muchocine\")"
   ],
   "outputs": [
    {
     "output_type": "stream",
     "name": "stderr",
     "text": [
      "Downloading: 3.86kB [00:00, 673kB/s]                    \n",
      "Downloading: 1.10kB [00:00, 343kB/s]                  \n",
      "Using custom data configuration default\n"
     ]
    },
    {
     "output_type": "stream",
     "name": "stdout",
     "text": [
      "Downloading and preparing dataset muchocine/default (download: 52.98 MiB, generated: 11.31 MiB, post-processed: Unknown size, total: 64.29 MiB) to /Users/ernestomancebo/.cache/huggingface/datasets/muchocine/default/1.1.1/3ed5582584cd84ef722606a3d725ef18fd4647d63195fef05c47683e5a056ccd...\n"
     ]
    },
    {
     "output_type": "stream",
     "name": "stderr",
     "text": [
      "Downloading: 100%|██████████| 55.6M/55.6M [02:02<00:00, 454kB/s] \n"
     ]
    },
    {
     "output_type": "stream",
     "name": "stdout",
     "text": [
      "Dataset muchocine downloaded and prepared to /Users/ernestomancebo/.cache/huggingface/datasets/muchocine/default/1.1.1/3ed5582584cd84ef722606a3d725ef18fd4647d63195fef05c47683e5a056ccd. Subsequent calls will reuse this data.\n"
     ]
    }
   ],
   "metadata": {}
  },
  {
   "cell_type": "code",
   "execution_count": 12,
   "source": [
    "muchocine_dataset"
   ],
   "outputs": [
    {
     "output_type": "execute_result",
     "data": {
      "text/plain": [
       "DatasetDict({\n",
       "    train: Dataset({\n",
       "        features: ['review_body', 'review_summary', 'star_rating'],\n",
       "        num_rows: 3872\n",
       "    })\n",
       "})"
      ]
     },
     "metadata": {},
     "execution_count": 12
    }
   ],
   "metadata": {}
  }
 ],
 "metadata": {
  "orig_nbformat": 4,
  "language_info": {
   "name": "python",
   "version": "3.9.6",
   "mimetype": "text/x-python",
   "codemirror_mode": {
    "name": "ipython",
    "version": 3
   },
   "pygments_lexer": "ipython3",
   "nbconvert_exporter": "python",
   "file_extension": ".py"
  },
  "kernelspec": {
   "name": "python3",
   "display_name": "Python 3.9.6 64-bit ('env': venv)"
  },
  "interpreter": {
   "hash": "300fbada5fe2511d866fde720729699e2c4067aafcaf340c14dab40a90252dcc"
  }
 },
 "nbformat": 4,
 "nbformat_minor": 2
}